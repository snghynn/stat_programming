{
  "nbformat": 4,
  "nbformat_minor": 5,
  "metadata": {
    "accelerator": "GPU",
    "colab": {
      "provenance": [],
      "machine_shape": "hm",
      "include_colab_link": true
    },
    "kernelspec": {
      "name": "python3",
      "display_name": "Python 3"
    },
    "language_info": {
      "name": "python"
    }
  },
  "cells": [
    {
      "cell_type": "markdown",
      "metadata": {
        "id": "view-in-github",
        "colab_type": "text"
      },
      "source": [
        "<a href=\"https://colab.research.google.com/github/snghynn/stat_programming/blob/main/stat_programming_3_Pytorch_overfitting.ipynb\" target=\"_parent\"><img src=\"https://colab.research.google.com/assets/colab-badge.svg\" alt=\"Open In Colab\"/></a>"
      ]
    },
    {
      "cell_type": "code",
      "source": [
        "!pip install ISLP"
      ],
      "metadata": {
        "id": "gnylod8d6Dxz",
        "colab": {
          "base_uri": "https://localhost:8080/"
        },
        "outputId": "da7bc534-2877-4a6f-efe0-c6732211e55e"
      },
      "execution_count": null,
      "outputs": [
        {
          "output_type": "stream",
          "name": "stdout",
          "text": [
            "Requirement already satisfied: ISLP in /usr/local/lib/python3.10/dist-packages (0.3.21)\n",
            "Requirement already satisfied: numpy<1.25,>=1.7.1 in /usr/local/lib/python3.10/dist-packages (from ISLP) (1.24.4)\n",
            "Requirement already satisfied: scipy>=0.9 in /usr/local/lib/python3.10/dist-packages (from ISLP) (1.11.3)\n",
            "Requirement already satisfied: pandas<=1.9,>=0.20 in /usr/local/lib/python3.10/dist-packages (from ISLP) (1.5.3)\n",
            "Requirement already satisfied: lxml in /usr/local/lib/python3.10/dist-packages (from ISLP) (4.9.3)\n",
            "Requirement already satisfied: scikit-learn>=1.2 in /usr/local/lib/python3.10/dist-packages (from ISLP) (1.2.2)\n",
            "Requirement already satisfied: joblib in /usr/local/lib/python3.10/dist-packages (from ISLP) (1.3.2)\n",
            "Requirement already satisfied: statsmodels>=0.13 in /usr/local/lib/python3.10/dist-packages (from ISLP) (0.14.0)\n",
            "Requirement already satisfied: lifelines in /usr/local/lib/python3.10/dist-packages (from ISLP) (0.27.8)\n",
            "Requirement already satisfied: pygam in /usr/local/lib/python3.10/dist-packages (from ISLP) (0.9.0)\n",
            "Requirement already satisfied: torch in /usr/local/lib/python3.10/dist-packages (from ISLP) (2.1.0+cu118)\n",
            "Requirement already satisfied: pytorch-lightning in /usr/local/lib/python3.10/dist-packages (from ISLP) (2.1.0)\n",
            "Requirement already satisfied: torchmetrics in /usr/local/lib/python3.10/dist-packages (from ISLP) (1.2.0)\n",
            "Requirement already satisfied: python-dateutil>=2.8.1 in /usr/local/lib/python3.10/dist-packages (from pandas<=1.9,>=0.20->ISLP) (2.8.2)\n",
            "Requirement already satisfied: pytz>=2020.1 in /usr/local/lib/python3.10/dist-packages (from pandas<=1.9,>=0.20->ISLP) (2023.3.post1)\n",
            "Requirement already satisfied: threadpoolctl>=2.0.0 in /usr/local/lib/python3.10/dist-packages (from scikit-learn>=1.2->ISLP) (3.2.0)\n",
            "Requirement already satisfied: patsy>=0.5.2 in /usr/local/lib/python3.10/dist-packages (from statsmodels>=0.13->ISLP) (0.5.3)\n",
            "Requirement already satisfied: packaging>=21.3 in /usr/local/lib/python3.10/dist-packages (from statsmodels>=0.13->ISLP) (23.2)\n",
            "Requirement already satisfied: matplotlib>=3.0 in /usr/local/lib/python3.10/dist-packages (from lifelines->ISLP) (3.7.1)\n",
            "Requirement already satisfied: autograd>=1.5 in /usr/local/lib/python3.10/dist-packages (from lifelines->ISLP) (1.6.2)\n",
            "Requirement already satisfied: autograd-gamma>=0.3 in /usr/local/lib/python3.10/dist-packages (from lifelines->ISLP) (0.5.0)\n",
            "Requirement already satisfied: formulaic>=0.2.2 in /usr/local/lib/python3.10/dist-packages (from lifelines->ISLP) (0.6.6)\n",
            "Requirement already satisfied: progressbar2<5.0.0,>=4.2.0 in /usr/local/lib/python3.10/dist-packages (from pygam->ISLP) (4.2.0)\n",
            "Requirement already satisfied: tqdm>=4.57.0 in /usr/local/lib/python3.10/dist-packages (from pytorch-lightning->ISLP) (4.66.1)\n",
            "Requirement already satisfied: PyYAML>=5.4 in /usr/local/lib/python3.10/dist-packages (from pytorch-lightning->ISLP) (6.0.1)\n",
            "Requirement already satisfied: fsspec[http]>2021.06.0 in /usr/local/lib/python3.10/dist-packages (from pytorch-lightning->ISLP) (2023.6.0)\n",
            "Requirement already satisfied: typing-extensions>=4.0.0 in /usr/local/lib/python3.10/dist-packages (from pytorch-lightning->ISLP) (4.5.0)\n",
            "Requirement already satisfied: lightning-utilities>=0.8.0 in /usr/local/lib/python3.10/dist-packages (from pytorch-lightning->ISLP) (0.9.0)\n",
            "Requirement already satisfied: filelock in /usr/local/lib/python3.10/dist-packages (from torch->ISLP) (3.12.4)\n",
            "Requirement already satisfied: sympy in /usr/local/lib/python3.10/dist-packages (from torch->ISLP) (1.12)\n",
            "Requirement already satisfied: networkx in /usr/local/lib/python3.10/dist-packages (from torch->ISLP) (3.2)\n",
            "Requirement already satisfied: jinja2 in /usr/local/lib/python3.10/dist-packages (from torch->ISLP) (3.1.2)\n",
            "Requirement already satisfied: triton==2.1.0 in /usr/local/lib/python3.10/dist-packages (from torch->ISLP) (2.1.0)\n",
            "Requirement already satisfied: future>=0.15.2 in /usr/local/lib/python3.10/dist-packages (from autograd>=1.5->lifelines->ISLP) (0.18.3)\n",
            "Requirement already satisfied: astor>=0.8 in /usr/local/lib/python3.10/dist-packages (from formulaic>=0.2.2->lifelines->ISLP) (0.8.1)\n",
            "Requirement already satisfied: interface-meta>=1.2.0 in /usr/local/lib/python3.10/dist-packages (from formulaic>=0.2.2->lifelines->ISLP) (1.3.0)\n",
            "Requirement already satisfied: wrapt>=1.0 in /usr/local/lib/python3.10/dist-packages (from formulaic>=0.2.2->lifelines->ISLP) (1.14.1)\n",
            "Requirement already satisfied: requests in /usr/local/lib/python3.10/dist-packages (from fsspec[http]>2021.06.0->pytorch-lightning->ISLP) (2.31.0)\n",
            "Requirement already satisfied: aiohttp!=4.0.0a0,!=4.0.0a1 in /usr/local/lib/python3.10/dist-packages (from fsspec[http]>2021.06.0->pytorch-lightning->ISLP) (3.8.6)\n",
            "Requirement already satisfied: contourpy>=1.0.1 in /usr/local/lib/python3.10/dist-packages (from matplotlib>=3.0->lifelines->ISLP) (1.1.1)\n",
            "Requirement already satisfied: cycler>=0.10 in /usr/local/lib/python3.10/dist-packages (from matplotlib>=3.0->lifelines->ISLP) (0.12.1)\n",
            "Requirement already satisfied: fonttools>=4.22.0 in /usr/local/lib/python3.10/dist-packages (from matplotlib>=3.0->lifelines->ISLP) (4.43.1)\n",
            "Requirement already satisfied: kiwisolver>=1.0.1 in /usr/local/lib/python3.10/dist-packages (from matplotlib>=3.0->lifelines->ISLP) (1.4.5)\n",
            "Requirement already satisfied: pillow>=6.2.0 in /usr/local/lib/python3.10/dist-packages (from matplotlib>=3.0->lifelines->ISLP) (9.4.0)\n",
            "Requirement already satisfied: pyparsing>=2.3.1 in /usr/local/lib/python3.10/dist-packages (from matplotlib>=3.0->lifelines->ISLP) (3.1.1)\n",
            "Requirement already satisfied: six in /usr/local/lib/python3.10/dist-packages (from patsy>=0.5.2->statsmodels>=0.13->ISLP) (1.16.0)\n",
            "Requirement already satisfied: python-utils>=3.0.0 in /usr/local/lib/python3.10/dist-packages (from progressbar2<5.0.0,>=4.2.0->pygam->ISLP) (3.8.1)\n",
            "Requirement already satisfied: MarkupSafe>=2.0 in /usr/local/lib/python3.10/dist-packages (from jinja2->torch->ISLP) (2.1.3)\n",
            "Requirement already satisfied: mpmath>=0.19 in /usr/local/lib/python3.10/dist-packages (from sympy->torch->ISLP) (1.3.0)\n",
            "Requirement already satisfied: attrs>=17.3.0 in /usr/local/lib/python3.10/dist-packages (from aiohttp!=4.0.0a0,!=4.0.0a1->fsspec[http]>2021.06.0->pytorch-lightning->ISLP) (23.1.0)\n",
            "Requirement already satisfied: charset-normalizer<4.0,>=2.0 in /usr/local/lib/python3.10/dist-packages (from aiohttp!=4.0.0a0,!=4.0.0a1->fsspec[http]>2021.06.0->pytorch-lightning->ISLP) (3.3.1)\n",
            "Requirement already satisfied: multidict<7.0,>=4.5 in /usr/local/lib/python3.10/dist-packages (from aiohttp!=4.0.0a0,!=4.0.0a1->fsspec[http]>2021.06.0->pytorch-lightning->ISLP) (6.0.4)\n",
            "Requirement already satisfied: async-timeout<5.0,>=4.0.0a3 in /usr/local/lib/python3.10/dist-packages (from aiohttp!=4.0.0a0,!=4.0.0a1->fsspec[http]>2021.06.0->pytorch-lightning->ISLP) (4.0.3)\n",
            "Requirement already satisfied: yarl<2.0,>=1.0 in /usr/local/lib/python3.10/dist-packages (from aiohttp!=4.0.0a0,!=4.0.0a1->fsspec[http]>2021.06.0->pytorch-lightning->ISLP) (1.9.2)\n",
            "Requirement already satisfied: frozenlist>=1.1.1 in /usr/local/lib/python3.10/dist-packages (from aiohttp!=4.0.0a0,!=4.0.0a1->fsspec[http]>2021.06.0->pytorch-lightning->ISLP) (1.4.0)\n",
            "Requirement already satisfied: aiosignal>=1.1.2 in /usr/local/lib/python3.10/dist-packages (from aiohttp!=4.0.0a0,!=4.0.0a1->fsspec[http]>2021.06.0->pytorch-lightning->ISLP) (1.3.1)\n",
            "Requirement already satisfied: idna<4,>=2.5 in /usr/local/lib/python3.10/dist-packages (from requests->fsspec[http]>2021.06.0->pytorch-lightning->ISLP) (3.4)\n",
            "Requirement already satisfied: urllib3<3,>=1.21.1 in /usr/local/lib/python3.10/dist-packages (from requests->fsspec[http]>2021.06.0->pytorch-lightning->ISLP) (2.0.7)\n",
            "Requirement already satisfied: certifi>=2017.4.17 in /usr/local/lib/python3.10/dist-packages (from requests->fsspec[http]>2021.06.0->pytorch-lightning->ISLP) (2023.7.22)\n"
          ]
        }
      ],
      "id": "gnylod8d6Dxz"
    },
    {
      "cell_type": "code",
      "source": [
        "from ISLP import load_data\n",
        "from ISLP.models import (ModelSpec as MS,\n",
        "                         summarize,\n",
        "                         poly)"
      ],
      "metadata": {
        "id": "rSRTpLD-HMV9"
      },
      "id": "rSRTpLD-HMV9",
      "execution_count": null,
      "outputs": []
    },
    {
      "cell_type": "code",
      "source": [
        "import ISLP\n",
        "import numpy as np\n",
        "import pandas as pd\n",
        "# from matplotlib.pyplot import subplots\n",
        "\n",
        "# import statsmodels.api as sm"
      ],
      "metadata": {
        "id": "Sv7H0mERHOch"
      },
      "id": "Sv7H0mERHOch",
      "execution_count": null,
      "outputs": []
    },
    {
      "cell_type": "markdown",
      "source": [
        "# Exercise 1.1:\n",
        "\n",
        "Do the estimatsion procedure using `torch.nn.Linear(1,1, bias=True)`. Answer the following questions.\n",
        "\n",
        "\n",
        "\n"
      ],
      "metadata": {
        "id": "gadkCqnfTAqj"
      },
      "id": "gadkCqnfTAqj"
    },
    {
      "cell_type": "code",
      "source": [
        "Boston = load_data(\"Boston\")\n",
        "Boston.columns # 보스턴 데이터의 column 확인"
      ],
      "metadata": {
        "colab": {
          "base_uri": "https://localhost:8080/"
        },
        "id": "ACa9V6DnItZm",
        "outputId": "f8a947e9-edcc-469c-dd09-f8c825b53c5d"
      },
      "id": "ACa9V6DnItZm",
      "execution_count": null,
      "outputs": [
        {
          "output_type": "execute_result",
          "data": {
            "text/plain": [
              "Index(['crim', 'zn', 'indus', 'chas', 'nox', 'rm', 'age', 'dis', 'rad', 'tax',\n",
              "       'ptratio', 'lstat', 'medv'],\n",
              "      dtype='object')"
            ]
          },
          "metadata": {},
          "execution_count": 4
        }
      ]
    },
    {
      "cell_type": "code",
      "source": [
        "design = MS(['lstat'])\n",
        "X = design.fit_transform(Boston)\n",
        "y = Boston['medv']\n",
        "X"
      ],
      "metadata": {
        "colab": {
          "base_uri": "https://localhost:8080/",
          "height": 423
        },
        "id": "xB34qxuTIzdz",
        "outputId": "aad59324-a9d0-4d57-b02c-478b4cc0cc7b"
      },
      "id": "xB34qxuTIzdz",
      "execution_count": null,
      "outputs": [
        {
          "output_type": "execute_result",
          "data": {
            "text/plain": [
              "     intercept  lstat\n",
              "0          1.0   4.98\n",
              "1          1.0   9.14\n",
              "2          1.0   4.03\n",
              "3          1.0   2.94\n",
              "4          1.0   5.33\n",
              "..         ...    ...\n",
              "501        1.0   9.67\n",
              "502        1.0   9.08\n",
              "503        1.0   5.64\n",
              "504        1.0   6.48\n",
              "505        1.0   7.88\n",
              "\n",
              "[506 rows x 2 columns]"
            ],
            "text/html": [
              "\n",
              "  <div id=\"df-da16f189-cc46-4d4c-a075-6d3b8c0dfb4e\" class=\"colab-df-container\">\n",
              "    <div>\n",
              "<style scoped>\n",
              "    .dataframe tbody tr th:only-of-type {\n",
              "        vertical-align: middle;\n",
              "    }\n",
              "\n",
              "    .dataframe tbody tr th {\n",
              "        vertical-align: top;\n",
              "    }\n",
              "\n",
              "    .dataframe thead th {\n",
              "        text-align: right;\n",
              "    }\n",
              "</style>\n",
              "<table border=\"1\" class=\"dataframe\">\n",
              "  <thead>\n",
              "    <tr style=\"text-align: right;\">\n",
              "      <th></th>\n",
              "      <th>intercept</th>\n",
              "      <th>lstat</th>\n",
              "    </tr>\n",
              "  </thead>\n",
              "  <tbody>\n",
              "    <tr>\n",
              "      <th>0</th>\n",
              "      <td>1.0</td>\n",
              "      <td>4.98</td>\n",
              "    </tr>\n",
              "    <tr>\n",
              "      <th>1</th>\n",
              "      <td>1.0</td>\n",
              "      <td>9.14</td>\n",
              "    </tr>\n",
              "    <tr>\n",
              "      <th>2</th>\n",
              "      <td>1.0</td>\n",
              "      <td>4.03</td>\n",
              "    </tr>\n",
              "    <tr>\n",
              "      <th>3</th>\n",
              "      <td>1.0</td>\n",
              "      <td>2.94</td>\n",
              "    </tr>\n",
              "    <tr>\n",
              "      <th>4</th>\n",
              "      <td>1.0</td>\n",
              "      <td>5.33</td>\n",
              "    </tr>\n",
              "    <tr>\n",
              "      <th>...</th>\n",
              "      <td>...</td>\n",
              "      <td>...</td>\n",
              "    </tr>\n",
              "    <tr>\n",
              "      <th>501</th>\n",
              "      <td>1.0</td>\n",
              "      <td>9.67</td>\n",
              "    </tr>\n",
              "    <tr>\n",
              "      <th>502</th>\n",
              "      <td>1.0</td>\n",
              "      <td>9.08</td>\n",
              "    </tr>\n",
              "    <tr>\n",
              "      <th>503</th>\n",
              "      <td>1.0</td>\n",
              "      <td>5.64</td>\n",
              "    </tr>\n",
              "    <tr>\n",
              "      <th>504</th>\n",
              "      <td>1.0</td>\n",
              "      <td>6.48</td>\n",
              "    </tr>\n",
              "    <tr>\n",
              "      <th>505</th>\n",
              "      <td>1.0</td>\n",
              "      <td>7.88</td>\n",
              "    </tr>\n",
              "  </tbody>\n",
              "</table>\n",
              "<p>506 rows × 2 columns</p>\n",
              "</div>\n",
              "    <div class=\"colab-df-buttons\">\n",
              "\n",
              "  <div class=\"colab-df-container\">\n",
              "    <button class=\"colab-df-convert\" onclick=\"convertToInteractive('df-da16f189-cc46-4d4c-a075-6d3b8c0dfb4e')\"\n",
              "            title=\"Convert this dataframe to an interactive table.\"\n",
              "            style=\"display:none;\">\n",
              "\n",
              "  <svg xmlns=\"http://www.w3.org/2000/svg\" height=\"24px\" viewBox=\"0 -960 960 960\">\n",
              "    <path d=\"M120-120v-720h720v720H120Zm60-500h600v-160H180v160Zm220 220h160v-160H400v160Zm0 220h160v-160H400v160ZM180-400h160v-160H180v160Zm440 0h160v-160H620v160ZM180-180h160v-160H180v160Zm440 0h160v-160H620v160Z\"/>\n",
              "  </svg>\n",
              "    </button>\n",
              "\n",
              "  <style>\n",
              "    .colab-df-container {\n",
              "      display:flex;\n",
              "      gap: 12px;\n",
              "    }\n",
              "\n",
              "    .colab-df-convert {\n",
              "      background-color: #E8F0FE;\n",
              "      border: none;\n",
              "      border-radius: 50%;\n",
              "      cursor: pointer;\n",
              "      display: none;\n",
              "      fill: #1967D2;\n",
              "      height: 32px;\n",
              "      padding: 0 0 0 0;\n",
              "      width: 32px;\n",
              "    }\n",
              "\n",
              "    .colab-df-convert:hover {\n",
              "      background-color: #E2EBFA;\n",
              "      box-shadow: 0px 1px 2px rgba(60, 64, 67, 0.3), 0px 1px 3px 1px rgba(60, 64, 67, 0.15);\n",
              "      fill: #174EA6;\n",
              "    }\n",
              "\n",
              "    .colab-df-buttons div {\n",
              "      margin-bottom: 4px;\n",
              "    }\n",
              "\n",
              "    [theme=dark] .colab-df-convert {\n",
              "      background-color: #3B4455;\n",
              "      fill: #D2E3FC;\n",
              "    }\n",
              "\n",
              "    [theme=dark] .colab-df-convert:hover {\n",
              "      background-color: #434B5C;\n",
              "      box-shadow: 0px 1px 3px 1px rgba(0, 0, 0, 0.15);\n",
              "      filter: drop-shadow(0px 1px 2px rgba(0, 0, 0, 0.3));\n",
              "      fill: #FFFFFF;\n",
              "    }\n",
              "  </style>\n",
              "\n",
              "    <script>\n",
              "      const buttonEl =\n",
              "        document.querySelector('#df-da16f189-cc46-4d4c-a075-6d3b8c0dfb4e button.colab-df-convert');\n",
              "      buttonEl.style.display =\n",
              "        google.colab.kernel.accessAllowed ? 'block' : 'none';\n",
              "\n",
              "      async function convertToInteractive(key) {\n",
              "        const element = document.querySelector('#df-da16f189-cc46-4d4c-a075-6d3b8c0dfb4e');\n",
              "        const dataTable =\n",
              "          await google.colab.kernel.invokeFunction('convertToInteractive',\n",
              "                                                    [key], {});\n",
              "        if (!dataTable) return;\n",
              "\n",
              "        const docLinkHtml = 'Like what you see? Visit the ' +\n",
              "          '<a target=\"_blank\" href=https://colab.research.google.com/notebooks/data_table.ipynb>data table notebook</a>'\n",
              "          + ' to learn more about interactive tables.';\n",
              "        element.innerHTML = '';\n",
              "        dataTable['output_type'] = 'display_data';\n",
              "        await google.colab.output.renderOutput(dataTable, element);\n",
              "        const docLink = document.createElement('div');\n",
              "        docLink.innerHTML = docLinkHtml;\n",
              "        element.appendChild(docLink);\n",
              "      }\n",
              "    </script>\n",
              "  </div>\n",
              "\n",
              "\n",
              "<div id=\"df-2aee83bc-6924-40e3-8466-e14afbf73237\">\n",
              "  <button class=\"colab-df-quickchart\" onclick=\"quickchart('df-2aee83bc-6924-40e3-8466-e14afbf73237')\"\n",
              "            title=\"Suggest charts.\"\n",
              "            style=\"display:none;\">\n",
              "\n",
              "<svg xmlns=\"http://www.w3.org/2000/svg\" height=\"24px\"viewBox=\"0 0 24 24\"\n",
              "     width=\"24px\">\n",
              "    <g>\n",
              "        <path d=\"M19 3H5c-1.1 0-2 .9-2 2v14c0 1.1.9 2 2 2h14c1.1 0 2-.9 2-2V5c0-1.1-.9-2-2-2zM9 17H7v-7h2v7zm4 0h-2V7h2v10zm4 0h-2v-4h2v4z\"/>\n",
              "    </g>\n",
              "</svg>\n",
              "  </button>\n",
              "\n",
              "<style>\n",
              "  .colab-df-quickchart {\n",
              "      --bg-color: #E8F0FE;\n",
              "      --fill-color: #1967D2;\n",
              "      --hover-bg-color: #E2EBFA;\n",
              "      --hover-fill-color: #174EA6;\n",
              "      --disabled-fill-color: #AAA;\n",
              "      --disabled-bg-color: #DDD;\n",
              "  }\n",
              "\n",
              "  [theme=dark] .colab-df-quickchart {\n",
              "      --bg-color: #3B4455;\n",
              "      --fill-color: #D2E3FC;\n",
              "      --hover-bg-color: #434B5C;\n",
              "      --hover-fill-color: #FFFFFF;\n",
              "      --disabled-bg-color: #3B4455;\n",
              "      --disabled-fill-color: #666;\n",
              "  }\n",
              "\n",
              "  .colab-df-quickchart {\n",
              "    background-color: var(--bg-color);\n",
              "    border: none;\n",
              "    border-radius: 50%;\n",
              "    cursor: pointer;\n",
              "    display: none;\n",
              "    fill: var(--fill-color);\n",
              "    height: 32px;\n",
              "    padding: 0;\n",
              "    width: 32px;\n",
              "  }\n",
              "\n",
              "  .colab-df-quickchart:hover {\n",
              "    background-color: var(--hover-bg-color);\n",
              "    box-shadow: 0 1px 2px rgba(60, 64, 67, 0.3), 0 1px 3px 1px rgba(60, 64, 67, 0.15);\n",
              "    fill: var(--button-hover-fill-color);\n",
              "  }\n",
              "\n",
              "  .colab-df-quickchart-complete:disabled,\n",
              "  .colab-df-quickchart-complete:disabled:hover {\n",
              "    background-color: var(--disabled-bg-color);\n",
              "    fill: var(--disabled-fill-color);\n",
              "    box-shadow: none;\n",
              "  }\n",
              "\n",
              "  .colab-df-spinner {\n",
              "    border: 2px solid var(--fill-color);\n",
              "    border-color: transparent;\n",
              "    border-bottom-color: var(--fill-color);\n",
              "    animation:\n",
              "      spin 1s steps(1) infinite;\n",
              "  }\n",
              "\n",
              "  @keyframes spin {\n",
              "    0% {\n",
              "      border-color: transparent;\n",
              "      border-bottom-color: var(--fill-color);\n",
              "      border-left-color: var(--fill-color);\n",
              "    }\n",
              "    20% {\n",
              "      border-color: transparent;\n",
              "      border-left-color: var(--fill-color);\n",
              "      border-top-color: var(--fill-color);\n",
              "    }\n",
              "    30% {\n",
              "      border-color: transparent;\n",
              "      border-left-color: var(--fill-color);\n",
              "      border-top-color: var(--fill-color);\n",
              "      border-right-color: var(--fill-color);\n",
              "    }\n",
              "    40% {\n",
              "      border-color: transparent;\n",
              "      border-right-color: var(--fill-color);\n",
              "      border-top-color: var(--fill-color);\n",
              "    }\n",
              "    60% {\n",
              "      border-color: transparent;\n",
              "      border-right-color: var(--fill-color);\n",
              "    }\n",
              "    80% {\n",
              "      border-color: transparent;\n",
              "      border-right-color: var(--fill-color);\n",
              "      border-bottom-color: var(--fill-color);\n",
              "    }\n",
              "    90% {\n",
              "      border-color: transparent;\n",
              "      border-bottom-color: var(--fill-color);\n",
              "    }\n",
              "  }\n",
              "</style>\n",
              "\n",
              "  <script>\n",
              "    async function quickchart(key) {\n",
              "      const quickchartButtonEl =\n",
              "        document.querySelector('#' + key + ' button');\n",
              "      quickchartButtonEl.disabled = true;  // To prevent multiple clicks.\n",
              "      quickchartButtonEl.classList.add('colab-df-spinner');\n",
              "      try {\n",
              "        const charts = await google.colab.kernel.invokeFunction(\n",
              "            'suggestCharts', [key], {});\n",
              "      } catch (error) {\n",
              "        console.error('Error during call to suggestCharts:', error);\n",
              "      }\n",
              "      quickchartButtonEl.classList.remove('colab-df-spinner');\n",
              "      quickchartButtonEl.classList.add('colab-df-quickchart-complete');\n",
              "    }\n",
              "    (() => {\n",
              "      let quickchartButtonEl =\n",
              "        document.querySelector('#df-2aee83bc-6924-40e3-8466-e14afbf73237 button');\n",
              "      quickchartButtonEl.style.display =\n",
              "        google.colab.kernel.accessAllowed ? 'block' : 'none';\n",
              "    })();\n",
              "  </script>\n",
              "</div>\n",
              "    </div>\n",
              "  </div>\n"
            ]
          },
          "metadata": {},
          "execution_count": 5
        }
      ]
    },
    {
      "cell_type": "code",
      "source": [
        "# standardization\n",
        "lstat_mean = np.mean(X[\"lstat\"]) # 'lstat' 열의 평균을 계산하여 lstat_mean 변수에 저장\n",
        "lstat_std = np.std(X[\"lstat\"]) # 'lstat' 열의 표준편차를 계산하여 lstat_std 변수에 저장\n",
        "X[\"lstat\"] = ( X[\"lstat\"]- lstat_mean) / lstat_std # 'lstat' 열의 각 요소를 평균에서 뺀 후 표준편차로 나누어 표준화\n",
        "X"
      ],
      "metadata": {
        "colab": {
          "base_uri": "https://localhost:8080/",
          "height": 423
        },
        "id": "XHgVNqzzIzbv",
        "outputId": "1cdf5454-dddf-4bcf-f46a-354d472149fc"
      },
      "id": "XHgVNqzzIzbv",
      "execution_count": null,
      "outputs": [
        {
          "output_type": "execute_result",
          "data": {
            "text/plain": [
              "     intercept     lstat\n",
              "0          1.0 -1.075562\n",
              "1          1.0 -0.492439\n",
              "2          1.0 -1.208727\n",
              "3          1.0 -1.361517\n",
              "4          1.0 -1.026501\n",
              "..         ...       ...\n",
              "501        1.0 -0.418147\n",
              "502        1.0 -0.500850\n",
              "503        1.0 -0.983048\n",
              "504        1.0 -0.865302\n",
              "505        1.0 -0.669058\n",
              "\n",
              "[506 rows x 2 columns]"
            ],
            "text/html": [
              "\n",
              "  <div id=\"df-7a389564-87dc-45e4-b995-704685a7cddf\" class=\"colab-df-container\">\n",
              "    <div>\n",
              "<style scoped>\n",
              "    .dataframe tbody tr th:only-of-type {\n",
              "        vertical-align: middle;\n",
              "    }\n",
              "\n",
              "    .dataframe tbody tr th {\n",
              "        vertical-align: top;\n",
              "    }\n",
              "\n",
              "    .dataframe thead th {\n",
              "        text-align: right;\n",
              "    }\n",
              "</style>\n",
              "<table border=\"1\" class=\"dataframe\">\n",
              "  <thead>\n",
              "    <tr style=\"text-align: right;\">\n",
              "      <th></th>\n",
              "      <th>intercept</th>\n",
              "      <th>lstat</th>\n",
              "    </tr>\n",
              "  </thead>\n",
              "  <tbody>\n",
              "    <tr>\n",
              "      <th>0</th>\n",
              "      <td>1.0</td>\n",
              "      <td>-1.075562</td>\n",
              "    </tr>\n",
              "    <tr>\n",
              "      <th>1</th>\n",
              "      <td>1.0</td>\n",
              "      <td>-0.492439</td>\n",
              "    </tr>\n",
              "    <tr>\n",
              "      <th>2</th>\n",
              "      <td>1.0</td>\n",
              "      <td>-1.208727</td>\n",
              "    </tr>\n",
              "    <tr>\n",
              "      <th>3</th>\n",
              "      <td>1.0</td>\n",
              "      <td>-1.361517</td>\n",
              "    </tr>\n",
              "    <tr>\n",
              "      <th>4</th>\n",
              "      <td>1.0</td>\n",
              "      <td>-1.026501</td>\n",
              "    </tr>\n",
              "    <tr>\n",
              "      <th>...</th>\n",
              "      <td>...</td>\n",
              "      <td>...</td>\n",
              "    </tr>\n",
              "    <tr>\n",
              "      <th>501</th>\n",
              "      <td>1.0</td>\n",
              "      <td>-0.418147</td>\n",
              "    </tr>\n",
              "    <tr>\n",
              "      <th>502</th>\n",
              "      <td>1.0</td>\n",
              "      <td>-0.500850</td>\n",
              "    </tr>\n",
              "    <tr>\n",
              "      <th>503</th>\n",
              "      <td>1.0</td>\n",
              "      <td>-0.983048</td>\n",
              "    </tr>\n",
              "    <tr>\n",
              "      <th>504</th>\n",
              "      <td>1.0</td>\n",
              "      <td>-0.865302</td>\n",
              "    </tr>\n",
              "    <tr>\n",
              "      <th>505</th>\n",
              "      <td>1.0</td>\n",
              "      <td>-0.669058</td>\n",
              "    </tr>\n",
              "  </tbody>\n",
              "</table>\n",
              "<p>506 rows × 2 columns</p>\n",
              "</div>\n",
              "    <div class=\"colab-df-buttons\">\n",
              "\n",
              "  <div class=\"colab-df-container\">\n",
              "    <button class=\"colab-df-convert\" onclick=\"convertToInteractive('df-7a389564-87dc-45e4-b995-704685a7cddf')\"\n",
              "            title=\"Convert this dataframe to an interactive table.\"\n",
              "            style=\"display:none;\">\n",
              "\n",
              "  <svg xmlns=\"http://www.w3.org/2000/svg\" height=\"24px\" viewBox=\"0 -960 960 960\">\n",
              "    <path d=\"M120-120v-720h720v720H120Zm60-500h600v-160H180v160Zm220 220h160v-160H400v160Zm0 220h160v-160H400v160ZM180-400h160v-160H180v160Zm440 0h160v-160H620v160ZM180-180h160v-160H180v160Zm440 0h160v-160H620v160Z\"/>\n",
              "  </svg>\n",
              "    </button>\n",
              "\n",
              "  <style>\n",
              "    .colab-df-container {\n",
              "      display:flex;\n",
              "      gap: 12px;\n",
              "    }\n",
              "\n",
              "    .colab-df-convert {\n",
              "      background-color: #E8F0FE;\n",
              "      border: none;\n",
              "      border-radius: 50%;\n",
              "      cursor: pointer;\n",
              "      display: none;\n",
              "      fill: #1967D2;\n",
              "      height: 32px;\n",
              "      padding: 0 0 0 0;\n",
              "      width: 32px;\n",
              "    }\n",
              "\n",
              "    .colab-df-convert:hover {\n",
              "      background-color: #E2EBFA;\n",
              "      box-shadow: 0px 1px 2px rgba(60, 64, 67, 0.3), 0px 1px 3px 1px rgba(60, 64, 67, 0.15);\n",
              "      fill: #174EA6;\n",
              "    }\n",
              "\n",
              "    .colab-df-buttons div {\n",
              "      margin-bottom: 4px;\n",
              "    }\n",
              "\n",
              "    [theme=dark] .colab-df-convert {\n",
              "      background-color: #3B4455;\n",
              "      fill: #D2E3FC;\n",
              "    }\n",
              "\n",
              "    [theme=dark] .colab-df-convert:hover {\n",
              "      background-color: #434B5C;\n",
              "      box-shadow: 0px 1px 3px 1px rgba(0, 0, 0, 0.15);\n",
              "      filter: drop-shadow(0px 1px 2px rgba(0, 0, 0, 0.3));\n",
              "      fill: #FFFFFF;\n",
              "    }\n",
              "  </style>\n",
              "\n",
              "    <script>\n",
              "      const buttonEl =\n",
              "        document.querySelector('#df-7a389564-87dc-45e4-b995-704685a7cddf button.colab-df-convert');\n",
              "      buttonEl.style.display =\n",
              "        google.colab.kernel.accessAllowed ? 'block' : 'none';\n",
              "\n",
              "      async function convertToInteractive(key) {\n",
              "        const element = document.querySelector('#df-7a389564-87dc-45e4-b995-704685a7cddf');\n",
              "        const dataTable =\n",
              "          await google.colab.kernel.invokeFunction('convertToInteractive',\n",
              "                                                    [key], {});\n",
              "        if (!dataTable) return;\n",
              "\n",
              "        const docLinkHtml = 'Like what you see? Visit the ' +\n",
              "          '<a target=\"_blank\" href=https://colab.research.google.com/notebooks/data_table.ipynb>data table notebook</a>'\n",
              "          + ' to learn more about interactive tables.';\n",
              "        element.innerHTML = '';\n",
              "        dataTable['output_type'] = 'display_data';\n",
              "        await google.colab.output.renderOutput(dataTable, element);\n",
              "        const docLink = document.createElement('div');\n",
              "        docLink.innerHTML = docLinkHtml;\n",
              "        element.appendChild(docLink);\n",
              "      }\n",
              "    </script>\n",
              "  </div>\n",
              "\n",
              "\n",
              "<div id=\"df-cfc7e7aa-91eb-4747-9edc-205ccf19e1d3\">\n",
              "  <button class=\"colab-df-quickchart\" onclick=\"quickchart('df-cfc7e7aa-91eb-4747-9edc-205ccf19e1d3')\"\n",
              "            title=\"Suggest charts.\"\n",
              "            style=\"display:none;\">\n",
              "\n",
              "<svg xmlns=\"http://www.w3.org/2000/svg\" height=\"24px\"viewBox=\"0 0 24 24\"\n",
              "     width=\"24px\">\n",
              "    <g>\n",
              "        <path d=\"M19 3H5c-1.1 0-2 .9-2 2v14c0 1.1.9 2 2 2h14c1.1 0 2-.9 2-2V5c0-1.1-.9-2-2-2zM9 17H7v-7h2v7zm4 0h-2V7h2v10zm4 0h-2v-4h2v4z\"/>\n",
              "    </g>\n",
              "</svg>\n",
              "  </button>\n",
              "\n",
              "<style>\n",
              "  .colab-df-quickchart {\n",
              "      --bg-color: #E8F0FE;\n",
              "      --fill-color: #1967D2;\n",
              "      --hover-bg-color: #E2EBFA;\n",
              "      --hover-fill-color: #174EA6;\n",
              "      --disabled-fill-color: #AAA;\n",
              "      --disabled-bg-color: #DDD;\n",
              "  }\n",
              "\n",
              "  [theme=dark] .colab-df-quickchart {\n",
              "      --bg-color: #3B4455;\n",
              "      --fill-color: #D2E3FC;\n",
              "      --hover-bg-color: #434B5C;\n",
              "      --hover-fill-color: #FFFFFF;\n",
              "      --disabled-bg-color: #3B4455;\n",
              "      --disabled-fill-color: #666;\n",
              "  }\n",
              "\n",
              "  .colab-df-quickchart {\n",
              "    background-color: var(--bg-color);\n",
              "    border: none;\n",
              "    border-radius: 50%;\n",
              "    cursor: pointer;\n",
              "    display: none;\n",
              "    fill: var(--fill-color);\n",
              "    height: 32px;\n",
              "    padding: 0;\n",
              "    width: 32px;\n",
              "  }\n",
              "\n",
              "  .colab-df-quickchart:hover {\n",
              "    background-color: var(--hover-bg-color);\n",
              "    box-shadow: 0 1px 2px rgba(60, 64, 67, 0.3), 0 1px 3px 1px rgba(60, 64, 67, 0.15);\n",
              "    fill: var(--button-hover-fill-color);\n",
              "  }\n",
              "\n",
              "  .colab-df-quickchart-complete:disabled,\n",
              "  .colab-df-quickchart-complete:disabled:hover {\n",
              "    background-color: var(--disabled-bg-color);\n",
              "    fill: var(--disabled-fill-color);\n",
              "    box-shadow: none;\n",
              "  }\n",
              "\n",
              "  .colab-df-spinner {\n",
              "    border: 2px solid var(--fill-color);\n",
              "    border-color: transparent;\n",
              "    border-bottom-color: var(--fill-color);\n",
              "    animation:\n",
              "      spin 1s steps(1) infinite;\n",
              "  }\n",
              "\n",
              "  @keyframes spin {\n",
              "    0% {\n",
              "      border-color: transparent;\n",
              "      border-bottom-color: var(--fill-color);\n",
              "      border-left-color: var(--fill-color);\n",
              "    }\n",
              "    20% {\n",
              "      border-color: transparent;\n",
              "      border-left-color: var(--fill-color);\n",
              "      border-top-color: var(--fill-color);\n",
              "    }\n",
              "    30% {\n",
              "      border-color: transparent;\n",
              "      border-left-color: var(--fill-color);\n",
              "      border-top-color: var(--fill-color);\n",
              "      border-right-color: var(--fill-color);\n",
              "    }\n",
              "    40% {\n",
              "      border-color: transparent;\n",
              "      border-right-color: var(--fill-color);\n",
              "      border-top-color: var(--fill-color);\n",
              "    }\n",
              "    60% {\n",
              "      border-color: transparent;\n",
              "      border-right-color: var(--fill-color);\n",
              "    }\n",
              "    80% {\n",
              "      border-color: transparent;\n",
              "      border-right-color: var(--fill-color);\n",
              "      border-bottom-color: var(--fill-color);\n",
              "    }\n",
              "    90% {\n",
              "      border-color: transparent;\n",
              "      border-bottom-color: var(--fill-color);\n",
              "    }\n",
              "  }\n",
              "</style>\n",
              "\n",
              "  <script>\n",
              "    async function quickchart(key) {\n",
              "      const quickchartButtonEl =\n",
              "        document.querySelector('#' + key + ' button');\n",
              "      quickchartButtonEl.disabled = true;  // To prevent multiple clicks.\n",
              "      quickchartButtonEl.classList.add('colab-df-spinner');\n",
              "      try {\n",
              "        const charts = await google.colab.kernel.invokeFunction(\n",
              "            'suggestCharts', [key], {});\n",
              "      } catch (error) {\n",
              "        console.error('Error during call to suggestCharts:', error);\n",
              "      }\n",
              "      quickchartButtonEl.classList.remove('colab-df-spinner');\n",
              "      quickchartButtonEl.classList.add('colab-df-quickchart-complete');\n",
              "    }\n",
              "    (() => {\n",
              "      let quickchartButtonEl =\n",
              "        document.querySelector('#df-cfc7e7aa-91eb-4747-9edc-205ccf19e1d3 button');\n",
              "      quickchartButtonEl.style.display =\n",
              "        google.colab.kernel.accessAllowed ? 'block' : 'none';\n",
              "    })();\n",
              "  </script>\n",
              "</div>\n",
              "    </div>\n",
              "  </div>\n"
            ]
          },
          "metadata": {},
          "execution_count": 6
        }
      ]
    },
    {
      "cell_type": "code",
      "source": [
        "X_boston = X.copy() # 원본 데이터를 유지하기 위해 copy() 사용"
      ],
      "metadata": {
        "id": "vWQsEdWSIzZJ"
      },
      "id": "vWQsEdWSIzZJ",
      "execution_count": null,
      "outputs": []
    },
    {
      "cell_type": "code",
      "source": [
        "# Dataset and DataLoader\n",
        "import torch\n",
        "from torch.utils.data import Dataset, DataLoader, TensorDataset\n",
        "from torch import optim"
      ],
      "metadata": {
        "id": "Qn4iDSfeJCKr"
      },
      "id": "Qn4iDSfeJCKr",
      "execution_count": null,
      "outputs": []
    },
    {
      "cell_type": "code",
      "source": [
        "X_boston.columns # X값에 대한 column 확인"
      ],
      "metadata": {
        "colab": {
          "base_uri": "https://localhost:8080/"
        },
        "id": "2AeI93qZJCHT",
        "outputId": "7f46b439-7ee3-47d9-ec89-2349fab79486"
      },
      "id": "2AeI93qZJCHT",
      "execution_count": null,
      "outputs": [
        {
          "output_type": "execute_result",
          "data": {
            "text/plain": [
              "Index(['intercept', 'lstat'], dtype='object')"
            ]
          },
          "metadata": {},
          "execution_count": 9
        }
      ]
    },
    {
      "cell_type": "code",
      "source": [
        "Y = torch.tensor(y).reshape(-1,1) # NumPy 배열 y를 PyTorch 텐서로 변환하고 열 벡터 형태로 재구성\n",
        "X = torch.tensor(X_boston.lstat).reshape(-1,1) # 데이터프레임 X_boston의 lstat 열을 PyTorch 텐서로 변환하고 열 벡터 형태로 재구성\n",
        "X_tmp = X.type(torch.FloatTensor) # X 텐서를 데이터 타입을 FloatTensor로 변경하여 X_tmp에 저장\n",
        "Y_tmp = Y.type(torch.FloatTensor) # Y 텐서를 데이터 타입을 FloatTensor로 변경하여 Y_tmp에 저장"
      ],
      "metadata": {
        "id": "uVfmI1p-JCFM"
      },
      "id": "uVfmI1p-JCFM",
      "execution_count": null,
      "outputs": []
    },
    {
      "cell_type": "code",
      "source": [
        "X.dtype # 현재 X.dtype이 float64임"
      ],
      "metadata": {
        "colab": {
          "base_uri": "https://localhost:8080/"
        },
        "id": "kts0btjlJCCo",
        "outputId": "f1f67df1-ae65-4af4-926d-d66032509762"
      },
      "id": "kts0btjlJCCo",
      "execution_count": null,
      "outputs": [
        {
          "output_type": "execute_result",
          "data": {
            "text/plain": [
              "torch.float64"
            ]
          },
          "metadata": {},
          "execution_count": 11
        }
      ]
    },
    {
      "cell_type": "code",
      "source": [
        "X_tmp.dtype # model의 coeff type이 float32이므로 맞춰줘야함"
      ],
      "metadata": {
        "colab": {
          "base_uri": "https://localhost:8080/"
        },
        "id": "qjGSUCTcJCAE",
        "outputId": "2a947ab6-b99d-4454-f48f-1d6807cc8c09"
      },
      "id": "qjGSUCTcJCAE",
      "execution_count": null,
      "outputs": [
        {
          "output_type": "execute_result",
          "data": {
            "text/plain": [
              "torch.float32"
            ]
          },
          "metadata": {},
          "execution_count": 12
        }
      ]
    },
    {
      "cell_type": "code",
      "source": [
        "dataset1 = TensorDataset(X_tmp,Y_tmp) # tmp 데이터들을 이용해 데이터셋 생성\n",
        "trainloader = DataLoader(dataset = dataset1, batch_size = 5, shuffle = True)\n",
        "\n",
        "dataset2 = TensorDataset(X,Y) # X,Y 이용해 데이터셋 생성\n",
        "trainloader2 = DataLoader(dataset = dataset2, batch_size = 5, shuffle = True)"
      ],
      "metadata": {
        "id": "eVzHauEYJB95"
      },
      "id": "eVzHauEYJB95",
      "execution_count": null,
      "outputs": []
    },
    {
      "cell_type": "markdown",
      "source": [
        "#### [1] model 정의  \n",
        "* torch.nn.Linear = X$\\cdot$beta와 같음.   \n",
        "이때, X는 X variable로만 이뤄져 있으며, bias가 주여지면 X*beta + coeff로, design matrix를 이용한 linear model과 같음을 알 수 있음  "
      ],
      "metadata": {
        "id": "GR3FFd3AJMtG"
      },
      "id": "GR3FFd3AJMtG"
    },
    {
      "cell_type": "code",
      "source": [
        "model = torch.nn.Linear(1,1, bias = True)\n",
        "#model.weight.type()를 하면 기본 내장은 floatTensor임"
      ],
      "metadata": {
        "id": "hPO7EhTVJLFV"
      },
      "id": "hPO7EhTVJLFV",
      "execution_count": null,
      "outputs": []
    },
    {
      "cell_type": "code",
      "source": [
        "model.weight.dtype # float32 type을 지님"
      ],
      "metadata": {
        "colab": {
          "base_uri": "https://localhost:8080/"
        },
        "id": "xaalFQqpJLDB",
        "outputId": "9487c488-3559-453b-82c1-a4efd44a7551"
      },
      "id": "xaalFQqpJLDB",
      "execution_count": null,
      "outputs": [
        {
          "output_type": "execute_result",
          "data": {
            "text/plain": [
              "torch.float32"
            ]
          },
          "metadata": {},
          "execution_count": 15
        }
      ]
    },
    {
      "cell_type": "code",
      "source": [
        "# criterion의 optimizer 설정\n",
        "def criterion(yhat, y):\n",
        "    return torch.mean((yhat-y)**2) # criterion함수는 예측값 (yhat)과 실제 값 (y) 간의 평균 제곱 오차(Mean Squared Error)를 계산\n",
        "\n",
        "# my_optim: SGD 최적화기 설정. 파라미터를 최적화 대상은 'model'임\n",
        "my_optim = torch.optim.SGD(model.parameters(), lr = 0.01) # weight = weight - lr * weight.grd와 같음 즉 betas를 업데이트하는 식"
      ],
      "metadata": {
        "id": "6dUn6YokJLAx"
      },
      "id": "6dUn6YokJLAx",
      "execution_count": null,
      "outputs": []
    },
    {
      "cell_type": "code",
      "source": [
        "from tqdm import tqdm"
      ],
      "metadata": {
        "id": "gzd-SzX3JK-H"
      },
      "id": "gzd-SzX3JK-H",
      "execution_count": null,
      "outputs": []
    },
    {
      "cell_type": "code",
      "source": [
        "# 모델 학습: 특정 epoch동안 반복하여 모델을 학습하고 손실(LOSS) 값을 기록\n",
        "epochs = 100 # 총 에폭 수를 100으로 설정\n",
        "history = [] # 학습 과정에서 손실 값을 저장할 빈 리스트 'history' 생성\n",
        "n = len(X) # 데이터의 전체 샘플 수를 'n'에 저장\n",
        "\n",
        "for epoch in tqdm(range(epochs)): # 주어진 에폭 수(100 에폭) 동안 반복\n",
        "    LOSS_sum = 0  # 각 에폭마다 새로운 에폭을 시작할 때 손실을 저장할 변수 LOSS_sum 초기화\n",
        "    for xx, yy in trainloader: # 'trainloader'에서 미니배치 데이터 가져와서 반복\n",
        "        yhat = model(xx) # 모델을 사용하여 입력 데이터 xx로부터 예측값 yhat을 계산\n",
        "        loss = criterion(yhat, yy) # criterion을 사용하여 예측값(yhat)과 실제 값(yy) 간의 손실을 계산\n",
        "        LOSS_sum = LOSS_sum + loss * len(yy) # 현재 미니배치에 대한 손실을 LOSS_sum에 더함. 손실 값은 미니배치 크기로 가중 평균되어 계산\n",
        "        loss.backward() # 역전파를 수행하여 손실에 대한 gradient 계산\n",
        "        my_optim.step() # optimizer 사용하여 모델의 가중치 업데이트\n",
        "        my_optim.zero_grad() # 모델의 그래디언트를 초기화하여 다음 미니배치에 대한 그래디언트를 계산 준비\n",
        "    history.append(LOSS_sum.item()/n) # 현재 에폭에서의 손실 값을 전체 데이터 포인트 수 n으로 나누어 평균 손실을 계산하고, 'history' 리스트에 추가"
      ],
      "metadata": {
        "colab": {
          "base_uri": "https://localhost:8080/"
        },
        "id": "MREWen2HJXBN",
        "outputId": "cb88e903-82bd-45cd-b0fc-b8662d04b139"
      },
      "id": "MREWen2HJXBN",
      "execution_count": null,
      "outputs": [
        {
          "output_type": "stream",
          "name": "stderr",
          "text": [
            "100%|██████████| 100/100 [00:10<00:00,  9.86it/s]\n"
          ]
        }
      ]
    },
    {
      "cell_type": "code",
      "source": [
        "import matplotlib.pyplot as plt\n",
        "plt.plot(history) # 학습 과정에서 기록된 손실 값을 시각화"
      ],
      "metadata": {
        "colab": {
          "base_uri": "https://localhost:8080/",
          "height": 449
        },
        "id": "a8SW8L3_Jblu",
        "outputId": "4a5c048f-92a1-418f-9140-815b8bae20ce"
      },
      "id": "a8SW8L3_Jblu",
      "execution_count": null,
      "outputs": [
        {
          "output_type": "execute_result",
          "data": {
            "text/plain": [
              "[<matplotlib.lines.Line2D at 0x7eedd70a5660>]"
            ]
          },
          "metadata": {},
          "execution_count": 19
        },
        {
          "output_type": "display_data",
          "data": {
            "text/plain": [
              "<Figure size 640x480 with 1 Axes>"
            ],
            "image/png": "[encoded data removed]"
          },
          "metadata": {}
        }
      ]
    },
    {
      "cell_type": "markdown",
      "source": [
        "i. Calculate $\\widehat{Y}$ when `lstat`s are given by 5, 10, 15, respectively.\n"
      ],
      "metadata": {
        "id": "VNBdaAKMIo_1"
      },
      "id": "VNBdaAKMIo_1"
    },
    {
      "cell_type": "code",
      "source": [
        "# lstat = 5\n",
        "# lstat_value를 표준화하여 새로운 입력 데이터 X_new를 생성\n",
        "X_new = torch.tensor((5-Boston['lstat'].mean())/Boston['lstat'].std(), dtype = torch.float32).reshape(-1,1)\n",
        "Yhat_5 = model(X_new)\n",
        "Yhat_5"
      ],
      "metadata": {
        "colab": {
          "base_uri": "https://localhost:8080/"
        },
        "id": "3cvmdVt8IrEo",
        "outputId": "35fda7f6-db13-4956-bb59-8b2cfa26451a"
      },
      "id": "3cvmdVt8IrEo",
      "execution_count": null,
      "outputs": [
        {
          "output_type": "execute_result",
          "data": {
            "text/plain": [
              "tensor([[30.1203]], grad_fn=<AddmmBackward0>)"
            ]
          },
          "metadata": {},
          "execution_count": 20
        }
      ]
    },
    {
      "cell_type": "code",
      "source": [
        "# lstat = 10\n",
        "# lstat_value를 표준화하여 새로운 입력 데이터 X_new를 생성\n",
        "X_new = torch.tensor((10-Boston['lstat'].mean())/Boston['lstat'].std(), dtype = torch.float32).reshape(-1,1)\n",
        "Yhat_10 = model(X_new)\n",
        "Yhat_10"
      ],
      "metadata": {
        "colab": {
          "base_uri": "https://localhost:8080/"
        },
        "id": "gZ04p7YhxMGw",
        "outputId": "f7e5f3d6-f1e1-44de-bce8-5ec6a2ed4e4b"
      },
      "id": "gZ04p7YhxMGw",
      "execution_count": null,
      "outputs": [
        {
          "output_type": "execute_result",
          "data": {
            "text/plain": [
              "tensor([[25.2020]], grad_fn=<AddmmBackward0>)"
            ]
          },
          "metadata": {},
          "execution_count": 21
        }
      ]
    },
    {
      "cell_type": "code",
      "source": [
        "# lstat = 15\n",
        "# lstat_value를 표준화하여 새로운 입력 데이터 X_new를 생성\n",
        "X_new = torch.tensor((15-Boston['lstat'].mean())/Boston['lstat'].std(), dtype = torch.float32).reshape(-1,1)\n",
        "Yhat_15 = model(X_new)\n",
        "Yhat_15"
      ],
      "metadata": {
        "colab": {
          "base_uri": "https://localhost:8080/"
        },
        "id": "IZV-edoLxMFU",
        "outputId": "66422307-1546-4ed2-86f9-b620c6c66bbf"
      },
      "id": "IZV-edoLxMFU",
      "execution_count": null,
      "outputs": [
        {
          "output_type": "execute_result",
          "data": {
            "text/plain": [
              "tensor([[20.2837]], grad_fn=<AddmmBackward0>)"
            ]
          },
          "metadata": {},
          "execution_count": 22
        }
      ]
    },
    {
      "cell_type": "markdown",
      "source": [
        "\n",
        "ii. Calculate $R^2$.\n"
      ],
      "metadata": {
        "id": "a1CV3PSiIrWt"
      },
      "id": "a1CV3PSiIrWt"
    },
    {
      "cell_type": "code",
      "source": [
        "def r2(y, yhat):\n",
        "    # SST (Total Sum of Squares) 계산\n",
        "    SST = sum((y - y.mean())**2)\n",
        "    # 실제 값 y와 실제 값의 평균과의 차이의 제곱을 모두 합하여 SST 계산\n",
        "\n",
        "    SSE = sum((y - yhat)**2)\n",
        "    # 예측값 yhat와 실제 값 y 간의 차이의 제곱을 모두 합하여 SSE 계산\n",
        "\n",
        "    # R2 값 계산하여 반환\n",
        "    return 1 - SSE / SST\n",
        "    # R2는 1에서 (SSE / SST)를 뺀 값으로 계산되며, 두 값의 비율을 이용하여 모델의 설명력을 측정"
      ],
      "metadata": {
        "id": "RMz2KRKfIrBp"
      },
      "id": "RMz2KRKfIrBp",
      "execution_count": null,
      "outputs": []
    },
    {
      "cell_type": "code",
      "source": [
        "Yhat = model(X_tmp)  # 입력 데이터 X_tmp로부터 예측값 Yhat을 계산\n",
        "r2(Y, Yhat)  # 계산된 예측값 Yhat과 실제 값 Y를 사용하여 R2 값을 계산"
      ],
      "metadata": {
        "colab": {
          "base_uri": "https://localhost:8080/"
        },
        "id": "lXV34EIvJhe8",
        "outputId": "116591b4-817c-4403-c74f-21558556ef5f"
      },
      "id": "lXV34EIvJhe8",
      "execution_count": null,
      "outputs": [
        {
          "output_type": "execute_result",
          "data": {
            "text/plain": [
              "tensor([0.5434], dtype=torch.float64, grad_fn=<RsubBackward1>)"
            ]
          },
          "metadata": {},
          "execution_count": 24
        }
      ]
    },
    {
      "cell_type": "markdown",
      "source": [
        "# Exercise 1.2:\n",
        "\n",
        "Do the estimatsion procedure using `torch.nn.Linear(2,1, bias=False)`.Answer the following questions.\n",
        "\n"
      ],
      "metadata": {
        "id": "FUoWui4Q85Te"
      },
      "id": "FUoWui4Q85Te"
    },
    {
      "cell_type": "code",
      "source": [
        "# 입력 데이터와 목표 변수를 PyTorch 텐서로 변환\n",
        "Y = torch.tensor(y, dtype=torch.float32).reshape(-1, 1)  # y를 PyTorch float32 데이터 타입으로 변환하고 열 벡터 형태로 재구성\n",
        "\n",
        "# design matrix 생성, X_design의 데이터 타입을 model의 dtype과 일치하도록 변경\n",
        "X_design = torch.stack([torch.tensor(X_boston.intercept), torch.tensor(X_boston.lstat)], axis=1).type(torch.FloatTensor)\n",
        "# X_design을 생성하고, 'X_boston.intercept'와 'X_boston.lstat'를 열(column)로 쌓아주며, 데이터 타입을 'torch.FloatTensor'로 변경"
      ],
      "metadata": {
        "id": "HRZ3Y6n988Oe"
      },
      "id": "HRZ3Y6n988Oe",
      "execution_count": null,
      "outputs": []
    },
    {
      "cell_type": "code",
      "source": [
        "X_design[:5,:] # 잘 변경되었다"
      ],
      "metadata": {
        "id": "VO3GlbxWmTrz",
        "colab": {
          "base_uri": "https://localhost:8080/"
        },
        "outputId": "8d394a87-ac10-4479-861b-8e95f039086b"
      },
      "id": "VO3GlbxWmTrz",
      "execution_count": null,
      "outputs": [
        {
          "output_type": "execute_result",
          "data": {
            "text/plain": [
              "tensor([[ 1.0000, -1.0756],\n",
              "        [ 1.0000, -0.4924],\n",
              "        [ 1.0000, -1.2087],\n",
              "        [ 1.0000, -1.3615],\n",
              "        [ 1.0000, -1.0265]])"
            ]
          },
          "metadata": {},
          "execution_count": 26
        }
      ]
    },
    {
      "cell_type": "code",
      "source": [
        "# stack으로 torch 값으로 쌓여있음을 알 수 있음.\n",
        "print(X_design[:5])\n",
        "print(X_boston.head())"
      ],
      "metadata": {
        "id": "ojafp8SamTp0",
        "colab": {
          "base_uri": "https://localhost:8080/"
        },
        "outputId": "17d0e889-8bbf-46bd-98af-8985f6276fb7"
      },
      "id": "ojafp8SamTp0",
      "execution_count": null,
      "outputs": [
        {
          "output_type": "stream",
          "name": "stdout",
          "text": [
            "tensor([[ 1.0000, -1.0756],\n",
            "        [ 1.0000, -0.4924],\n",
            "        [ 1.0000, -1.2087],\n",
            "        [ 1.0000, -1.3615],\n",
            "        [ 1.0000, -1.0265]])\n",
            "   intercept     lstat\n",
            "0        1.0 -1.075562\n",
            "1        1.0 -0.492439\n",
            "2        1.0 -1.208727\n",
            "3        1.0 -1.361517\n",
            "4        1.0 -1.026501\n"
          ]
        }
      ]
    },
    {
      "cell_type": "code",
      "source": [
        "dataset = TensorDataset(X_design,Y) # X_design과 Y로 구성된 dataset 생성\n",
        "trainloader = DataLoader( dataset = dataset, batch_size = 5, shuffle = True) # 배치 크기를 5로 설정하며 데이터를 shuffle해 'trainloader'를 생성"
      ],
      "metadata": {
        "id": "19hYKCeVmTne"
      },
      "id": "19hYKCeVmTne",
      "execution_count": null,
      "outputs": []
    },
    {
      "cell_type": "code",
      "source": [
        "# 모델 생성\n",
        "model = torch.nn.Linear(2,1, bias= False) # 입력 특성 수가 2, 출력 특성 수가 1인 선형 모델을 생성\n",
        "my_optim_nonbias = torch.optim.SGD(model.parameters(), lr = 0.01) # 모델의 파라미터를 최적화하기 위해 SGD 옵티마이저 생성\n",
        "\n",
        "# 모델 훈련\n",
        "epochs = 100\n",
        "n = len(X_design) # 입력 데이터 'X_design'의 길이를 'n'에 저장\n",
        "history = [] # 훈련 과정에서 손실값을 저장할 리스트 'history' 생성\n",
        "\n",
        "\n",
        "for _ in tqdm(range(epochs)):\n",
        "    LOSS_sum = 0 # 각 에폭마다 손실값을 합산할 변수 'LOSS_sum' 초기화\n",
        "    for xx, yy in trainloader: # 모델을 사용하여 예측값 'yhat' 계산\n",
        "        yhat = model(xx) # 모델을 사용하여 예측값 'yhat' 계산\n",
        "        loss = criterion(yhat, yy) # 손실 함수를 사용하여 손실값 'loss' 계산\n",
        "        LOSS_sum = LOSS_sum + loss * len(yy) # 손실값을 누적하여 'LOSS_sum' 업데이트\n",
        "        loss.backward() # 최적화 함수에 따른 grad계산\n",
        "\n",
        "        my_optim_nonbias.step() # weight = weight -lr*weight.grad 계산\n",
        "        my_optim_nonbias.zero_grad() # 최적화함수 미분식에 대한 grad update가 쌓이지 않도록 지워줌\n",
        "    history.append(LOSS_sum.item()/n) # 현재 에폭에서의 평균 손실값을 history 리스트에 추가"
      ],
      "metadata": {
        "id": "8hRAqU5WmTlK",
        "colab": {
          "base_uri": "https://localhost:8080/"
        },
        "outputId": "bded0452-99c7-4741-c702-b2f2708532fc"
      },
      "id": "8hRAqU5WmTlK",
      "execution_count": null,
      "outputs": [
        {
          "output_type": "stream",
          "name": "stderr",
          "text": [
            "100%|██████████| 100/100 [00:11<00:00,  8.33it/s]\n"
          ]
        }
      ]
    },
    {
      "cell_type": "code",
      "source": [
        "plt.plot(history) # 학습 과정에서 기록된 손실 값을 시각화"
      ],
      "metadata": {
        "id": "PhOZ0JhMmWv8",
        "colab": {
          "base_uri": "https://localhost:8080/",
          "height": 450
        },
        "outputId": "f42c613d-376e-4f5f-a170-ccc09db52f93"
      },
      "id": "PhOZ0JhMmWv8",
      "execution_count": null,
      "outputs": [
        {
          "output_type": "execute_result",
          "data": {
            "text/plain": [
              "[<matplotlib.lines.Line2D at 0x7eedd4fc2dd0>]"
            ]
          },
          "metadata": {},
          "execution_count": 30
        },
        {
          "output_type": "display_data",
          "data": {
            "text/plain": [
              "<Figure size 640x480 with 1 Axes>"
            ],
            "image/png": "[encoded data removed]"
          },
          "metadata": {}
        }
      ]
    },
    {
      "cell_type": "markdown",
      "source": [
        "i. Calculate $\\widehat{Y}$ when `lstat`s are given by 5, 10, 15, respectively.\n"
      ],
      "metadata": {
        "id": "ZL5pQoxo0IW_"
      },
      "id": "ZL5pQoxo0IW_"
    },
    {
      "cell_type": "code",
      "source": [
        "lstat_values = [5, 10, 15]\n",
        "\n",
        "# lstat_values를 PyTorch 텐서로 변환\n",
        "lstat_tensor = torch.tensor(lstat_values, dtype=torch.float32).reshape(-1, 1)\n",
        "# 'lstat_values' 리스트를 PyTorch 텐서로 변환하며, 데이터 타입을 float32로 설정하고 열 벡터 형태로 재구성\n",
        "\n",
        "# lstat 값을 입력으로 하는 특성 행렬 X를 생성 (상수 항 포함)\n",
        "X_lstat = torch.cat((lstat_tensor, torch.ones(len(lstat_tensor), 1)), dim=1)\n",
        "# 'lstat_tensor'와 상수 1로 구성된 열 벡터를 가로로 연결하여 특성 행렬 'X_lstat'을 생성\n",
        "\n",
        "# 예측값 Ŷ 계산\n",
        "with torch.no_grad():\n",
        "    y_pred = model(X_lstat)\n",
        "# 모델을 사용하여 'X_lstat'에 대한 예측값 계산. 'torch.no_grad()'를 사용하여 역전파가 일어나지 않도록 설정\n",
        "\n",
        "\n",
        "# 예측값을 NumPy 배열로 변환\n",
        "y_pred = y_pred.numpy()\n",
        "\n",
        "# 주어진 lstat 값에 대한 예측값 출력\n",
        "for lstat, y_hat in zip(lstat_values, y_pred):\n",
        "    print(\"lstat=\", lstat, \"Ŷ=\", y_hat[0])"
      ],
      "metadata": {
        "colab": {
          "base_uri": "https://localhost:8080/"
        },
        "id": "YzmsL3BG0ABU",
        "outputId": "e4f8af2d-7367-4f58-996e-d12b04a655a6"
      },
      "id": "YzmsL3BG0ABU",
      "execution_count": null,
      "outputs": [
        {
          "output_type": "stream",
          "name": "stdout",
          "text": [
            "lstat= 5 Ŷ= 105.51017\n",
            "lstat= 10 Ŷ= 217.70953\n",
            "lstat= 15 Ŷ= 329.90887\n"
          ]
        }
      ]
    },
    {
      "cell_type": "markdown",
      "source": [
        "\n",
        "ii. Calculate $R^2$.\n"
      ],
      "metadata": {
        "id": "_7ROCUubmPDG"
      },
      "id": "_7ROCUubmPDG"
    },
    {
      "cell_type": "code",
      "source": [
        "# 앞에서 만든 r2 함수 사용하여 X_design에 대한 r2값 계산\n",
        "Yhat = model(X_design)\n",
        "r2(Y, Yhat)"
      ],
      "metadata": {
        "id": "4gfHaGynmYpx",
        "colab": {
          "base_uri": "https://localhost:8080/"
        },
        "outputId": "66de80ac-9d78-4b09-cd17-94bb7fb692b7"
      },
      "id": "4gfHaGynmYpx",
      "execution_count": null,
      "outputs": [
        {
          "output_type": "execute_result",
          "data": {
            "text/plain": [
              "tensor([0.5440], grad_fn=<RsubBackward1>)"
            ]
          },
          "metadata": {},
          "execution_count": 32
        }
      ]
    },
    {
      "cell_type": "markdown",
      "source": [
        "# Exercise 1.3:\n",
        "\n",
        "Do the estimatsion procedure using `torch.nn.Linear(1,1, bias=False)` and an additional bias parameter defined by `torch.tensor`. Model itself should be the same as in Exercise 1.1 and 1.2. (Caution: However, the estimated parameter(s) should not be the exactly the same due to the randomness in the parameter initialization and batch learning.)\n",
        "\n",
        "Answer the following questions.\n",
        "\n",
        "\n"
      ],
      "metadata": {
        "id": "q5HoyOyO87KM"
      },
      "id": "q5HoyOyO87KM"
    },
    {
      "cell_type": "code",
      "source": [
        "Y = torch.tensor(y,dtype = torch.float32).reshape(-1,1)\n",
        "X = torch.tensor(X_boston.lstat, dtype = torch.float32).reshape(-1,1) # 문제에서 주어진 것과 같은 조건\n",
        "\n",
        "dataset1 = TensorDataset(X,Y) # tensordataset을 X, Y 이용해 생성\n",
        "trainloader = DataLoader(dataset = dataset1, batch_size = 5, shuffle = True)"
      ],
      "metadata": {
        "id": "371JwwtW87pA"
      },
      "id": "371JwwtW87pA",
      "execution_count": null,
      "outputs": []
    },
    {
      "cell_type": "code",
      "source": [
        "model = torch.nn.Linear(1,1, bias = False)\n",
        "# intercept 추가\n",
        "beta0 = torch.tensor(torch.randn([1]),requires_grad=True)\n",
        "\n",
        "# 학습 설정\n",
        "epochs = 100  # 학습 에폭 횟수\n",
        "history = []  # 손실 이력을 저장할 리스트\n",
        "n = len(X)  # 데이터 샘플 수\n",
        "lr = 0.01  # 학습률\n",
        "\n",
        "for epoch in tqdm(range(epochs)):\n",
        "    LOSS_sum = 0\n",
        "    for xx, yy in trainloader: # 미니배치 단위로 데이터를 가져와서 학습\n",
        "        yhat = model(xx) + beta0 # 모델을 사용하여 예측값을 계산하고 절편을 더함\n",
        "        loss = criterion(yhat, yy) # 손실 함수를 사용하여 손실을 계산\n",
        "        LOSS_sum = LOSS_sum + loss * len(yy) # 손실을 누적\n",
        "\n",
        "        loss.backward() # 그래디언트 계산\n",
        "        # 모델 가중치 업데이트\n",
        "        model.weight.data -= lr * model.weight.grad # my_optim.step()과 같은 결과\n",
        "        beta0.data -= lr * beta0.grad\n",
        "        # 그래디언트 초기화\n",
        "        model.weight.grad = None # 모델 가중치의 그래디언트를 초기화\n",
        "        beta0.grad = None # 절편의 그래디언트를 초기화\n",
        "\n",
        "    history.append(LOSS_sum.item()/n) # 에폭별 평균 손실을 history에 추가"
      ],
      "metadata": {
        "id": "feUlQqhimtJq",
        "colab": {
          "base_uri": "https://localhost:8080/"
        },
        "outputId": "d7b590d7-45ee-4049-cbea-b2051dc51e20"
      },
      "id": "feUlQqhimtJq",
      "execution_count": null,
      "outputs": [
        {
          "output_type": "stream",
          "name": "stderr",
          "text": [
            "<ipython-input-34-52e788fcf46b>:3: UserWarning: To copy construct from a tensor, it is recommended to use sourceTensor.clone().detach() or sourceTensor.clone().detach().requires_grad_(True), rather than torch.tensor(sourceTensor).\n",
            "  beta0 = torch.tensor(torch.randn([1]),requires_grad=True)\n",
            "100%|██████████| 100/100 [00:04<00:00, 24.55it/s]\n"
          ]
        }
      ]
    },
    {
      "cell_type": "code",
      "source": [
        "plt.plot(history) # 학습 과정에서 기록된 손실 값을 시각화"
      ],
      "metadata": {
        "id": "SuTkBru4mtHD",
        "colab": {
          "base_uri": "https://localhost:8080/",
          "height": 449
        },
        "outputId": "4df54c6b-0e68-4f18-9c7e-db90d6618e2f"
      },
      "id": "SuTkBru4mtHD",
      "execution_count": null,
      "outputs": [
        {
          "output_type": "execute_result",
          "data": {
            "text/plain": [
              "[<matplotlib.lines.Line2D at 0x7eedd5055600>]"
            ]
          },
          "metadata": {},
          "execution_count": 35
        },
        {
          "output_type": "display_data",
          "data": {
            "text/plain": [
              "<Figure size 640x480 with 1 Axes>"
            ],
            "image/png": "[encoded data removed]"
          },
          "metadata": {}
        }
      ]
    },
    {
      "cell_type": "markdown",
      "source": [
        "i. Calculate $\\widehat{Y}$ when `lstat`s are given by 5, 10, 15, respectively."
      ],
      "metadata": {
        "id": "LYlkxGLr8Psa"
      },
      "id": "LYlkxGLr8Psa"
    },
    {
      "cell_type": "code",
      "source": [
        "# lstat = 5\n",
        "# lstat_value를 표준화하여 새로운 입력 데이터 X_new를 생성\n",
        "X_new = torch.tensor((5-Boston['lstat'].mean())/Boston['lstat'].std(), dtype = torch.float32).reshape(-1,1)\n",
        "Yhat_5 = model(X_new) # lstat=5에 대한 모델학습\n",
        "Yhat_5"
      ],
      "metadata": {
        "colab": {
          "base_uri": "https://localhost:8080/"
        },
        "id": "W1zI3m_i5Vlj",
        "outputId": "5a973868-e3a1-4580-c22c-e20974a1f991"
      },
      "id": "W1zI3m_i5Vlj",
      "execution_count": null,
      "outputs": [
        {
          "output_type": "execute_result",
          "data": {
            "text/plain": [
              "tensor([[7.3189]], grad_fn=<MmBackward0>)"
            ]
          },
          "metadata": {},
          "execution_count": 36
        }
      ]
    },
    {
      "cell_type": "code",
      "source": [
        "# lstat = 10\n",
        "# lstat_value를 표준화하여 새로운 입력 데이터 X_new를 생성\n",
        "X_new = torch.tensor((10-Boston['lstat'].mean())/Boston['lstat'].std(), dtype = torch.float32).reshape(-1,1)\n",
        "Yhat_10 = model(X_new) # lstat=10에 대한 모델학습\n",
        "Yhat_10"
      ],
      "metadata": {
        "colab": {
          "base_uri": "https://localhost:8080/"
        },
        "id": "MiqeIySK6NtG",
        "outputId": "1d090a9e-fdee-4cd7-d6c5-12923cb09b7c"
      },
      "id": "MiqeIySK6NtG",
      "execution_count": null,
      "outputs": [
        {
          "output_type": "execute_result",
          "data": {
            "text/plain": [
              "tensor([[2.5372]], grad_fn=<MmBackward0>)"
            ]
          },
          "metadata": {},
          "execution_count": 37
        }
      ]
    },
    {
      "cell_type": "code",
      "source": [
        "# lstat = 15\n",
        "# lstat_value를 표준화하여 새로운 입력 데이터 X_new를 생성\n",
        "X_new = torch.tensor((15-Boston['lstat'].mean())/Boston['lstat'].std(), dtype = torch.float32).reshape(-1,1)\n",
        "Yhat_15 = model(X_new) # lstat=15에 대한 모델학습\n",
        "Yhat_15"
      ],
      "metadata": {
        "colab": {
          "base_uri": "https://localhost:8080/"
        },
        "id": "xw4mFOOd6Ypb",
        "outputId": "3e9b85f0-530d-45f8-8fa1-6a75588722ae"
      },
      "id": "xw4mFOOd6Ypb",
      "execution_count": null,
      "outputs": [
        {
          "output_type": "execute_result",
          "data": {
            "text/plain": [
              "tensor([[-2.2445]], grad_fn=<MmBackward0>)"
            ]
          },
          "metadata": {},
          "execution_count": 38
        }
      ]
    },
    {
      "cell_type": "markdown",
      "source": [
        "\n",
        "ii. Calculate $R^2$.\n"
      ],
      "metadata": {
        "id": "eq5jftt0mhLz"
      },
      "id": "eq5jftt0mhLz"
    },
    {
      "cell_type": "code",
      "source": [
        "Yhat = model(X_tmp) + beta0 # 모델을 사용하여 입력 데이터 'X_tmp'에 대한 예측값 'Yhat'을 계산하고, 상수항 'beta0'를 더함\n",
        "r2(Y, Yhat)"
      ],
      "metadata": {
        "id": "WTrXtuUAmhCL",
        "colab": {
          "base_uri": "https://localhost:8080/"
        },
        "outputId": "44795c0a-d187-47fe-a469-2267f3966b1f"
      },
      "id": "WTrXtuUAmhCL",
      "execution_count": null,
      "outputs": [
        {
          "output_type": "execute_result",
          "data": {
            "text/plain": [
              "tensor([0.5439], grad_fn=<RsubBackward1>)"
            ]
          },
          "metadata": {},
          "execution_count": 39
        }
      ]
    },
    {
      "cell_type": "markdown",
      "source": [
        "## 2.1 Exercise:\n",
        "\n",
        "Using the standardizied `Boston` data answer the following questions.\n"
      ],
      "metadata": {
        "id": "hBCsIilXD9ka"
      },
      "id": "hBCsIilXD9ka"
    },
    {
      "cell_type": "markdown",
      "source": [
        "\n",
        "(a) Using pytorch and customized layer, calculate the train MSE of the following model:\n",
        "\n",
        "`medv ~ age + lstat`\n"
      ],
      "metadata": {
        "id": "CG6bmD6EoBZo"
      },
      "id": "CG6bmD6EoBZo"
    },
    {
      "cell_type": "code",
      "source": [
        "design = MS(['lstat', 'age'])\n",
        "X = design.fit_transform(Boston) # 설계 특성을 데이터에 맞게 변환\n",
        "y = Boston['medv'] # target 변수 설정\n",
        "\n",
        "# 표준화\n",
        "lstat_mean = np.mean(X[\"lstat\"]) # 'lstat' 평균 계산\n",
        "lstat_std = np.std(X[\"lstat\"]) # 'lstat' 표준편차 계산\n",
        "age_mean = np.mean(X[\"age\"]) # 'age' 평균 계산\n",
        "age_std = np.std(X[\"age\"]) # 'age' 표준편차 계산\n",
        "\n",
        "\n",
        "X1 = torch.tensor((X[\"age\"]- age_mean) / age_std , dtype=torch.float32) # 'age' 표준화\n",
        "X2 = torch.tensor(( X[\"lstat\"]- lstat_mean) / lstat_std, dtype=torch.float32) # 'lstat' 표준화\n",
        "\n",
        "X_2var = torch.stack([X1, X2], axis=1) # 두 표준화된 특성을 하나의 변수로 결합\n",
        "\n",
        "Y = torch.tensor(y).reshape(-1,1) # y를 PyTorch Tensor로 변환하고 모양 재조정\n",
        "dataset = TensorDataset(X_2var, Y) # 데이터셋 생성\n",
        "trainloader = DataLoader(dataset = dataset, batch_size = 5, shuffle = True) # DataLoader 설정: 미니배치 학습용"
      ],
      "metadata": {
        "id": "Vu_laMBzoB53"
      },
      "id": "Vu_laMBzoB53",
      "execution_count": null,
      "outputs": []
    },
    {
      "cell_type": "code",
      "source": [
        "model = torch.nn.Linear(2,1, bias = True) # 모델 정의: 입력 특성 개수는 2(age, lstat), 출력은 1, 절편 포함\n",
        "my_optim = torch.optim.SGD(model.parameters(), lr = 0.01) # 최적화기 설정: SGD 사용, 학습률 0.01\n",
        "\n",
        "# 학습 설정\n",
        "epochs = 100  # 학습 에폭 횟수\n",
        "history = []  # 손실 이력을 저장할 리스트\n",
        "n = len(X_2var)# 데이터 샘플 수\n",
        "\n",
        "for _ in tqdm(range(epochs)):\n",
        "    LOSS_sum = 0\n",
        "    for xx, yy in trainloader:\n",
        "        # model로 yhat 만들기\n",
        "        yhat = model(xx)\n",
        "\n",
        "        #loss 계산\n",
        "        loss = criterion(yhat, yy)\n",
        "        LOSS_sum = LOSS_sum + loss * len(yy)\n",
        "\n",
        "        # loss(최적화 식)을 이용해 weight update할 grad 생성\n",
        "        loss.backward()  # 손실을 이용해 가중치 업데이트를 위한 그래디언트 생성\n",
        "\n",
        "        my_optim.step() # 모델 가중치 업데이트\n",
        "        my_optim.zero_grad() # 그래디언트 초기화\n",
        "\n",
        "    history.append(LOSS_sum.item()/n) # 학습 결과 저장"
      ],
      "metadata": {
        "id": "rQpiOH7v9BPK",
        "colab": {
          "base_uri": "https://localhost:8080/"
        },
        "outputId": "27819538-e4ca-45b1-aa7f-7082c628a2be"
      },
      "id": "rQpiOH7v9BPK",
      "execution_count": null,
      "outputs": [
        {
          "output_type": "stream",
          "name": "stderr",
          "text": [
            "100%|██████████| 100/100 [00:06<00:00, 16.29it/s]\n"
          ]
        }
      ]
    },
    {
      "cell_type": "code",
      "source": [
        "plt.plot(history) # 학습 과정에서 기록된 손실 값을 시각화"
      ],
      "metadata": {
        "id": "85OxdDhkm_fM",
        "colab": {
          "base_uri": "https://localhost:8080/",
          "height": 449
        },
        "outputId": "dec5cf93-0593-4a41-a959-64dd647a5e5f"
      },
      "id": "85OxdDhkm_fM",
      "execution_count": null,
      "outputs": [
        {
          "output_type": "execute_result",
          "data": {
            "text/plain": [
              "[<matplotlib.lines.Line2D at 0x7eedd4ef43a0>]"
            ]
          },
          "metadata": {},
          "execution_count": 42
        },
        {
          "output_type": "display_data",
          "data": {
            "text/plain": [
              "<Figure size 640x480 with 1 Axes>"
            ],
            "image/png": "[encoded data removed]"
          },
          "metadata": {}
        }
      ]
    },
    {
      "cell_type": "code",
      "source": [
        "# MSE 계산\n",
        "test_mse = 0 # MSE 계산을 위한 초기화\n",
        "with torch.no_grad():\n",
        "    for xx, yy in trainloader:\n",
        "        yhat = model(xx) # 모델로 예측값 계산\n",
        "        test_mse += criterion(yhat, yy).item() # 현재 미니배치에 대한 MSE 누적\n",
        "test_mse /= len(trainloader) # 미니배치 평균으로 MSE 계산\n",
        "\n",
        "print(test_mse)"
      ],
      "metadata": {
        "colab": {
          "base_uri": "https://localhost:8080/"
        },
        "id": "IE72B_DpK4ru",
        "outputId": "086ec0b4-c9de-4255-b892-65e8079a3c95"
      },
      "id": "IE72B_DpK4ru",
      "execution_count": null,
      "outputs": [
        {
          "output_type": "stream",
          "name": "stdout",
          "text": [
            "37.63704173141755\n"
          ]
        }
      ]
    },
    {
      "cell_type": "markdown",
      "source": [
        "(b) Using pytorch and customized layer, calculate the train MSE of the following model:\n",
        "\n",
        "`medv ~ age + lstat + lstat**2`\n"
      ],
      "metadata": {
        "id": "r7i58WmMm_t3"
      },
      "id": "r7i58WmMm_t3"
    },
    {
      "cell_type": "code",
      "source": [
        "# 변수 설정\n",
        "design = MS(['lstat', 'age'])\n",
        "X = design.fit_transform(Boston)\n",
        "y = Boston['medv']\n",
        "\n",
        "# 표준화\n",
        "lstat_mean = np.mean(X[\"lstat\"])\n",
        "lstat_std = np.std(X[\"lstat\"])\n",
        "lstatsq_mean = np.mean(X[\"lstat\"]**2)\n",
        "lstatsq_std = np.std(X[\"lstat\"]**2)\n",
        "age_mean = np.mean(X[\"age\"])\n",
        "age_std = np.std(X[\"age\"])\n",
        "# 표준화된 데이터 생성\n",
        "X1 = torch.tensor((X[\"age\"]- age_mean) / age_std, dtype=torch.float32)\n",
        "X2 = torch.tensor((X[\"lstat\"]- lstat_mean) / lstat_std, dtype=torch.float32)\n",
        "X3 = torch.tensor((X[\"lstat\"]**2- lstatsq_mean) / lstatsq_std, dtype=torch.float32)\n",
        "# 세 표준화된 특성을 하나의 변수로 결합\n",
        "X_2var_multreg = torch.stack([X1, X2,X3], axis=1)"
      ],
      "metadata": {
        "id": "v3y2qC9Wm_bJ"
      },
      "id": "v3y2qC9Wm_bJ",
      "execution_count": null,
      "outputs": []
    },
    {
      "cell_type": "code",
      "source": [
        "X_2var_multreg # 세 개의 특성이 하나로 잘 결합되었음을 알 수 있다"
      ],
      "metadata": {
        "id": "jyd9zHQFm_Y8",
        "colab": {
          "base_uri": "https://localhost:8080/"
        },
        "outputId": "5634ebf8-ae91-4415-ba77-65eae677da38"
      },
      "id": "jyd9zHQFm_Y8",
      "execution_count": null,
      "outputs": [
        {
          "output_type": "execute_result",
          "data": {
            "text/plain": [
              "tensor([[-0.1200, -1.0756, -0.7895],\n",
              "        [ 0.3672, -0.4924, -0.5405],\n",
              "        [-0.2658, -1.2087, -0.8258],\n",
              "        ...,\n",
              "        [ 0.7974, -0.9830, -0.7598],\n",
              "        [ 0.7370, -0.8653, -0.7166],\n",
              "        [ 0.4347, -0.6691, -0.6314]])"
            ]
          },
          "metadata": {},
          "execution_count": 45
        }
      ]
    },
    {
      "cell_type": "code",
      "source": [
        "X_2var # X_2var과 비교"
      ],
      "metadata": {
        "colab": {
          "base_uri": "https://localhost:8080/"
        },
        "id": "oVo_6hD1sTgs",
        "outputId": "e0b5c9fb-94ae-433b-d7fe-a5e9b9fbf4fd"
      },
      "id": "oVo_6hD1sTgs",
      "execution_count": null,
      "outputs": [
        {
          "output_type": "execute_result",
          "data": {
            "text/plain": [
              "tensor([[-0.1200, -1.0756],\n",
              "        [ 0.3672, -0.4924],\n",
              "        [-0.2658, -1.2087],\n",
              "        ...,\n",
              "        [ 0.7974, -0.9830],\n",
              "        [ 0.7370, -0.8653],\n",
              "        [ 0.4347, -0.6691]])"
            ]
          },
          "metadata": {},
          "execution_count": 46
        }
      ]
    },
    {
      "cell_type": "code",
      "source": [
        "dataset = TensorDataset(X_2var_multreg, Y)\n",
        "trainloader = DataLoader(dataset = dataset, batch_size = 5, shuffle = True)"
      ],
      "metadata": {
        "id": "p3rEhW-SsTd-"
      },
      "id": "p3rEhW-SsTd-",
      "execution_count": null,
      "outputs": []
    },
    {
      "cell_type": "code",
      "source": [
        "model = torch.nn.Linear(3, 1, bias = True) # 3(age, lstat, lstat**2)\n",
        "my_optim = torch.optim.SGD(model.parameters(), lr = 0.01)\n",
        "\n",
        "# 학습 설정\n",
        "epochs = 100\n",
        "n = len(X_2var)\n",
        "history = []\n",
        "\n",
        "for _ in tqdm(range(epochs)):\n",
        "    LOSS_sum = 0\n",
        "    for xx, yy in trainloader:\n",
        "        # model로 yhat 만들기\n",
        "        yhat = model(xx)\n",
        "\n",
        "        #loss 계산\n",
        "        loss = criterion(yhat, yy)\n",
        "        LOSS_sum = LOSS_sum + loss * len(yy)\n",
        "\n",
        "        # loss 이용해 weight update할 grad 생성\n",
        "        loss.backward()\n",
        "\n",
        "        my_optim.step()  # 모델 가중치 업데이트\n",
        "        my_optim.zero_grad() # 그래디언트 초기화\n",
        "\n",
        "    history.append(LOSS_sum.item() / n) # 학습 결과 저장"
      ],
      "metadata": {
        "id": "QxsOJT1rm_Wv",
        "colab": {
          "base_uri": "https://localhost:8080/"
        },
        "outputId": "a4ac4093-724b-4850-8da2-15d81631849f"
      },
      "id": "QxsOJT1rm_Wv",
      "execution_count": null,
      "outputs": [
        {
          "output_type": "stream",
          "name": "stderr",
          "text": [
            "100%|██████████| 100/100 [00:05<00:00, 16.96it/s]\n"
          ]
        }
      ]
    },
    {
      "cell_type": "code",
      "source": [
        "plt.plot(history) # 학습 과정에서 기록된 손실 값을 시각화"
      ],
      "metadata": {
        "id": "trocg-NCsrqw",
        "colab": {
          "base_uri": "https://localhost:8080/",
          "height": 449
        },
        "outputId": "5cc20d14-a798-40e5-ce01-257ba7b26d30"
      },
      "id": "trocg-NCsrqw",
      "execution_count": null,
      "outputs": [
        {
          "output_type": "execute_result",
          "data": {
            "text/plain": [
              "[<matplotlib.lines.Line2D at 0x7eedd4f56d70>]"
            ]
          },
          "metadata": {},
          "execution_count": 49
        },
        {
          "output_type": "display_data",
          "data": {
            "text/plain": [
              "<Figure size 640x480 with 1 Axes>"
            ],
            "image/png": "[encoded data removed]"
          },
          "metadata": {}
        }
      ]
    },
    {
      "cell_type": "code",
      "source": [
        "# 모델을 사용하여 예측을 생성하고 MSE를 계산\n",
        "test_mse = 0\n",
        "with torch.no_grad():\n",
        "    for xx, yy in trainloader:\n",
        "        yhat = model(xx)\n",
        "        test_mse += criterion(yhat, yy).item()\n",
        "\n",
        "# 테스트 데이터에 대한 MSE를 미니배치 수로 나누어 평균 계산\n",
        "test_mse /= len(trainloader)\n",
        "\n",
        "print(test_mse)"
      ],
      "metadata": {
        "colab": {
          "base_uri": "https://localhost:8080/"
        },
        "id": "nqh6eQSJSRUU",
        "outputId": "2431392f-c65c-4738-b34a-6660065d20fc"
      },
      "id": "nqh6eQSJSRUU",
      "execution_count": null,
      "outputs": [
        {
          "output_type": "stream",
          "name": "stdout",
          "text": [
            "28.387755561184857\n"
          ]
        }
      ]
    },
    {
      "cell_type": "markdown",
      "source": [
        "(c) Using pytorch and customized layer, calculate $R^2$ of each model in (a) and (b).\n"
      ],
      "metadata": {
        "id": "QvxKJUGinA1f"
      },
      "id": "QvxKJUGinA1f"
    },
    {
      "cell_type": "code",
      "source": [
        "## model (a)로 초기화\n",
        "\n",
        "design = MS(['lstat', 'age'])\n",
        "X = design.fit_transform(Boston)\n",
        "y = Boston['medv']\n",
        "lstat_mean = np.mean(X[\"lstat\"])\n",
        "lstat_std = np.std(X[\"lstat\"])\n",
        "age_mean = np.mean(X[\"age\"])\n",
        "age_std = np.std(X[\"age\"])\n",
        "X1 = torch.tensor((X[\"age\"]- age_mean) / age_std , dtype=torch.float32)\n",
        "X2 = torch.tensor((X[\"lstat\"]- lstat_mean) / lstat_std, dtype=torch.float32)\n",
        "X_2var = torch.stack([X1, X2], axis=1)\n",
        "Y = torch.tensor(y).reshape(-1,1)\n",
        "dataset = TensorDataset(X_2var, Y)\n",
        "trainloader = DataLoader(dataset = dataset, batch_size = 5, shuffle = True)\n",
        "model = torch.nn.Linear(2,1, bias = True)\n",
        "my_optim = torch.optim.SGD(model.parameters(), lr = 0.01)\n",
        "\n",
        "epochs = 100\n",
        "n = len(X_2var)\n",
        "history = []\n",
        "for _ in tqdm(range(epochs)):\n",
        "    LOSS_sum = 0\n",
        "    for xx, yy in trainloader:\n",
        "        yhat = model(xx)\n",
        "        loss = criterion(yhat, yy)\n",
        "        LOSS_sum = LOSS_sum + loss * len(yy)\n",
        "        loss.backward()\n",
        "        my_optim.step()\n",
        "        my_optim.zero_grad()\n",
        "    history.append(LOSS_sum.item()/n)"
      ],
      "metadata": {
        "colab": {
          "base_uri": "https://localhost:8080/"
        },
        "id": "o19dNMgscUwS",
        "outputId": "58b1e2dd-5f65-4a1d-aeb4-9ab6c8778dc3"
      },
      "id": "o19dNMgscUwS",
      "execution_count": null,
      "outputs": [
        {
          "output_type": "stream",
          "name": "stderr",
          "text": [
            "100%|██████████| 100/100 [00:05<00:00, 17.13it/s]\n"
          ]
        }
      ]
    },
    {
      "cell_type": "code",
      "source": [
        "# model (a) r2 계산\n",
        "yhat = model(X_2var)\n",
        "r2_value = r2(Y, yhat) # 앞서 만들었던 r2 함수 사용\n",
        "print(f\"R2 (Model a): {r2_value.item()}\")"
      ],
      "metadata": {
        "colab": {
          "base_uri": "https://localhost:8080/"
        },
        "id": "Ifr8p8IfdWe3",
        "outputId": "46944db8-43e8-4344-c9c6-990512a46a62"
      },
      "id": "Ifr8p8IfdWe3",
      "execution_count": null,
      "outputs": [
        {
          "output_type": "stream",
          "name": "stdout",
          "text": [
            "R2 (Model a): 0.5498396132242647\n"
          ]
        }
      ]
    },
    {
      "cell_type": "code",
      "source": [
        "## model (b)로 초기화\n",
        "design = MS(['lstat', 'age'])\n",
        "X = design.fit_transform(Boston)\n",
        "y = Boston['medv']\n",
        "\n",
        "lstat_mean = np.mean(X[\"lstat\"])\n",
        "lstat_std = np.std(X[\"lstat\"])\n",
        "lstatsq_mean = np.mean(X[\"lstat\"]**2)\n",
        "lstatsq_std = np.std(X[\"lstat\"]**2)\n",
        "age_mean = np.mean(X[\"age\"])\n",
        "age_std = np.std(X[\"age\"])\n",
        "X1 = torch.tensor((X[\"age\"]- age_mean) / age_std, dtype=torch.float32)\n",
        "X2 = torch.tensor((X[\"lstat\"]- lstat_mean) / lstat_std, dtype=torch.float32)\n",
        "X3 = torch.tensor((X[\"lstat\"]**2- lstatsq_mean) / lstatsq_std, dtype=torch.float32)\n",
        "X_2var_multreg = torch.stack([X1, X2,X3], axis=1)\n",
        "\n",
        "model = torch.nn.Linear(3,1, bias = True)\n",
        "my_optim = torch.optim.SGD(model.parameters(), lr = 0.01)\n",
        "dataset = TensorDataset(X_2var_multreg, Y)\n",
        "trainloader = DataLoader(dataset = dataset, batch_size = 5, shuffle = True)\n",
        "\n",
        "epochs = 100\n",
        "n = len(X_2var)\n",
        "history = []\n",
        "\n",
        "for _ in tqdm(range(epochs)):\n",
        "    LOSS_sum = 0\n",
        "    for xx, yy in trainloader:\n",
        "        yhat = model(xx)\n",
        "        loss = criterion(yhat, yy)\n",
        "        LOSS_sum = LOSS_sum + loss * len(yy)\n",
        "        loss.backward()\n",
        "        my_optim.step()\n",
        "        my_optim.zero_grad()\n",
        "    history.append(LOSS_sum.item() / n)"
      ],
      "metadata": {
        "colab": {
          "base_uri": "https://localhost:8080/"
        },
        "id": "lmmi9IMAdehz",
        "outputId": "c581dad3-8a93-4ec9-bc32-afd72d4f815e"
      },
      "id": "lmmi9IMAdehz",
      "execution_count": null,
      "outputs": [
        {
          "output_type": "stream",
          "name": "stderr",
          "text": [
            "100%|██████████| 100/100 [00:12<00:00,  8.09it/s]\n"
          ]
        }
      ]
    },
    {
      "cell_type": "code",
      "source": [
        "# model (b) r2 계산\n",
        "yhat = model(X_2var_multreg)\n",
        "r2_value = r2(Y, yhat) # 앞서 만들어두었던 r2 함수 사용\n",
        "print(f\"R2 (Model b): {r2_value.item()}\")"
      ],
      "metadata": {
        "colab": {
          "base_uri": "https://localhost:8080/"
        },
        "id": "06vGRJQQbI8T",
        "outputId": "f5513e5b-9d99-4895-af89-ce758c08b1f2"
      },
      "id": "06vGRJQQbI8T",
      "execution_count": null,
      "outputs": [
        {
          "output_type": "stream",
          "name": "stdout",
          "text": [
            "R2 (Model b): 0.6678626304180926\n"
          ]
        }
      ]
    },
    {
      "cell_type": "markdown",
      "source": [
        "\n",
        "(d) Repeat (a) and (b) by making use of 70% of data as train set and the remaining 30% as test set.\n"
      ],
      "metadata": {
        "id": "-QtybkaknB5m"
      },
      "id": "-QtybkaknB5m"
    },
    {
      "cell_type": "code",
      "source": [
        "## Repeat (a) by making use of 70% of data as train set and the remaining 30% as test set\n",
        "dataset = TensorDataset(X_2var,Y) # 데이터셋 생성: X_2var와 Y를 하나의 데이터셋으로 합침\n",
        "n = len(X) # 전체 데이터 샘플 수\n",
        "# 데이터를 학습용(train_set)과 검증용(val_set)으로 분할, 70%는 학습용, 30%는 검증용\n",
        "train_set, val_set = torch.utils.data.random_split(dataset, [int(np.floor(n*0.7)), n-int(np.floor(n*0.7))])\n",
        "# 학습 데이터로 사용할 DataLoader 설정: 미니배치 학습용\n",
        "trainloader = DataLoader(dataset = train_set, batch_size = 5, shuffle = True)\n",
        "# 테스트 데이터로 사용할 DataLoader 설정: 검증 데이터, 전체 데이터를 한 번에 처리\n",
        "testloader =  DataLoader(dataset = val_set, batch_size = n-int(np.floor(n*0.7)), shuffle = True)"
      ],
      "metadata": {
        "id": "MiSe6xCFE7za"
      },
      "id": "MiSe6xCFE7za",
      "execution_count": null,
      "outputs": []
    },
    {
      "cell_type": "code",
      "source": [
        "## 다시 만든 데이터로 model(a) 학습\n",
        "model = torch.nn.Linear( 2,1, bias = True)\n",
        "my_optim = torch.optim.SGD(model.parameters(), lr = 0.01)\n",
        "epochs = 100\n",
        "n = len(X_2var)\n",
        "history = []\n",
        "for _ in tqdm(range(epochs)):\n",
        "    LOSS_sum = 0\n",
        "    for xx, yy in trainloader:\n",
        "        yhat = model(xx)\n",
        "        loss = criterion(yhat, yy)\n",
        "        LOSS_sum = LOSS_sum + loss * len(yy)\n",
        "        loss.backward()\n",
        "        my_optim.step()\n",
        "        my_optim.zero_grad()\n",
        "    history.append(LOSS_sum.item()/n)"
      ],
      "metadata": {
        "id": "tGKOXiJZm-8U",
        "colab": {
          "base_uri": "https://localhost:8080/"
        },
        "outputId": "28560256-cb50-4d60-ffbe-260882f7a1f4"
      },
      "id": "tGKOXiJZm-8U",
      "execution_count": null,
      "outputs": [
        {
          "output_type": "stream",
          "name": "stderr",
          "text": [
            "100%|██████████| 100/100 [00:09<00:00, 10.79it/s]\n"
          ]
        }
      ]
    },
    {
      "cell_type": "code",
      "source": [
        "plt.plot(history) # 학습 과정에서 기록된 손실 값을 시각화"
      ],
      "metadata": {
        "colab": {
          "base_uri": "https://localhost:8080/",
          "height": 449
        },
        "id": "OdoWAWG338VU",
        "outputId": "b476aecd-4dc8-4ba5-f107-c811c680b3c0"
      },
      "id": "OdoWAWG338VU",
      "execution_count": null,
      "outputs": [
        {
          "output_type": "execute_result",
          "data": {
            "text/plain": [
              "[<matplotlib.lines.Line2D at 0x7eedd4de5b10>]"
            ]
          },
          "metadata": {},
          "execution_count": 57
        },
        {
          "output_type": "display_data",
          "data": {
            "text/plain": [
              "<Figure size 640x480 with 1 Axes>"
            ],
            "image/png": "[encoded data removed]"
          },
          "metadata": {}
        }
      ]
    },
    {
      "cell_type": "code",
      "source": [
        "# testloader로 예측값 생성\n",
        "# 원랜 for문을 돌릴필요가 없이 model에 넣고 싶지만 data split시 어떤 데이터가 train으로, test로 간 지 알 수 없어 x,y뽑아내기 위해 for문으로 작성함.\n",
        "for x, y in testloader:\n",
        "    yhat = model(x)"
      ],
      "metadata": {
        "id": "T3jZ7IZOEg5L"
      },
      "id": "T3jZ7IZOEg5L",
      "execution_count": null,
      "outputs": []
    },
    {
      "cell_type": "code",
      "source": [
        "print(yhat[:5])\n",
        "y[:5]"
      ],
      "metadata": {
        "colab": {
          "base_uri": "https://localhost:8080/"
        },
        "id": "jHwxtiUDEink",
        "outputId": "a8d713ce-aeb0-4f66-a170-5faa7b22688a"
      },
      "id": "jHwxtiUDEink",
      "execution_count": null,
      "outputs": [
        {
          "output_type": "stream",
          "name": "stdout",
          "text": [
            "tensor([[30.4702],\n",
            "        [18.4716],\n",
            "        [17.8989],\n",
            "        [24.2453],\n",
            "        [15.3198]], grad_fn=<SliceBackward0>)\n"
          ]
        },
        {
          "output_type": "execute_result",
          "data": {
            "text/plain": [
              "tensor([[35.4000],\n",
              "        [13.5000],\n",
              "        [14.5000],\n",
              "        [24.7000],\n",
              "        [13.5000]], dtype=torch.float64)"
            ]
          },
          "metadata": {},
          "execution_count": 59
        }
      ]
    },
    {
      "cell_type": "code",
      "source": [
        "print(criterion(yhat, y)) # test mse값 계산"
      ],
      "metadata": {
        "colab": {
          "base_uri": "https://localhost:8080/"
        },
        "id": "C1ORzjFTEkTE",
        "outputId": "db5d37a5-4f99-486c-aac6-437d5e04d7ae"
      },
      "id": "C1ORzjFTEkTE",
      "execution_count": null,
      "outputs": [
        {
          "output_type": "stream",
          "name": "stdout",
          "text": [
            "tensor(40.3901, dtype=torch.float64, grad_fn=<MeanBackward0>)\n"
          ]
        }
      ]
    },
    {
      "cell_type": "code",
      "source": [
        "## Repeat (b) by making use of 70% of data as train set and the remaining 30% as test set\n",
        "dataset = TensorDataset(X_2var_multreg,Y)\n",
        "n = len(X) # 전체 데이터 샘플 수\n",
        "# 데이터를 학습용(train_set)과 검증용(val_set)으로 분할, 70%는 학습용, 30%는 검증용\n",
        "train_set, val_set = torch.utils.data.random_split(dataset, [int(np.floor(n*0.7)), n-int(np.floor(n*0.7))])\n",
        "# 학습 데이터로 사용할 DataLoader 설정: 미니배치 학습용\n",
        "trainloader = DataLoader(dataset = train_set, batch_size = 5, shuffle = True)\n",
        "# 테스트 데이터로 사용할 DataLoader 설정: 검증 데이터, 전체 데이터를 한 번에 처리\n",
        "testloader =  DataLoader(dataset = val_set, batch_size = n-int(np.floor(n*0.7)), shuffle = True)"
      ],
      "metadata": {
        "id": "hFjyPPq2FS5v"
      },
      "id": "hFjyPPq2FS5v",
      "execution_count": null,
      "outputs": []
    },
    {
      "cell_type": "code",
      "source": [
        "## 다시 만든 데이터로 model (b) 학습\n",
        "model = torch.nn.Linear(3,1, bias = True)\n",
        "my_optim = torch.optim.SGD(model.parameters(), lr = 0.01)\n",
        "epochs = 100\n",
        "n = len(X_2var)\n",
        "history = []\n",
        "for _ in tqdm(range(epochs)):\n",
        "    LOSS_sum = 0\n",
        "    for xx, yy in trainloader:\n",
        "        yhat = model(xx)\n",
        "        loss = criterion(yhat, yy)\n",
        "        LOSS_sum = LOSS_sum + loss * len(yy)\n",
        "        loss.backward()\n",
        "        my_optim.step()\n",
        "        my_optim.zero_grad()\n",
        "\n",
        "    history.append(LOSS_sum.item()/n)"
      ],
      "metadata": {
        "colab": {
          "base_uri": "https://localhost:8080/"
        },
        "id": "mZU9gQGU5Emg",
        "outputId": "28cbf144-84c5-4184-af40-42d65131fe9f"
      },
      "id": "mZU9gQGU5Emg",
      "execution_count": null,
      "outputs": [
        {
          "output_type": "stream",
          "name": "stderr",
          "text": [
            "100%|██████████| 100/100 [00:08<00:00, 11.53it/s]\n"
          ]
        }
      ]
    },
    {
      "cell_type": "code",
      "source": [
        "plt.plot(history) # 학습 과정에서 기록된 손실 값을 시각화"
      ],
      "metadata": {
        "colab": {
          "base_uri": "https://localhost:8080/",
          "height": 449
        },
        "id": "bWfBQZOQ5WDW",
        "outputId": "61f8fc08-9187-40fb-b222-1e085806d772"
      },
      "id": "bWfBQZOQ5WDW",
      "execution_count": null,
      "outputs": [
        {
          "output_type": "execute_result",
          "data": {
            "text/plain": [
              "[<matplotlib.lines.Line2D at 0x7eedd4e802e0>]"
            ]
          },
          "metadata": {},
          "execution_count": 63
        },
        {
          "output_type": "display_data",
          "data": {
            "text/plain": [
              "<Figure size 640x480 with 1 Axes>"
            ],
            "image/png": "[encoded data removed]"
          },
          "metadata": {}
        }
      ]
    },
    {
      "cell_type": "code",
      "source": [
        "# testloader로 예측값 생성\n",
        "for x, y in testloader:\n",
        "    yhat = model(x)"
      ],
      "metadata": {
        "id": "EnTgTxCeswe4"
      },
      "id": "EnTgTxCeswe4",
      "execution_count": null,
      "outputs": []
    },
    {
      "cell_type": "code",
      "source": [
        "print(yhat[:5])\n",
        "y[:5]"
      ],
      "metadata": {
        "id": "-GX6KH2Ns17V",
        "colab": {
          "base_uri": "https://localhost:8080/"
        },
        "outputId": "6609dbd9-c578-4e78-ebff-d61e187a549a"
      },
      "id": "-GX6KH2Ns17V",
      "execution_count": null,
      "outputs": [
        {
          "output_type": "stream",
          "name": "stdout",
          "text": [
            "tensor([[26.3393],\n",
            "        [22.2819],\n",
            "        [30.9096],\n",
            "        [34.8736],\n",
            "        [18.0902]], grad_fn=<SliceBackward0>)\n"
          ]
        },
        {
          "output_type": "execute_result",
          "data": {
            "text/plain": [
              "tensor([[25.0000],\n",
              "        [18.2000],\n",
              "        [33.2000],\n",
              "        [50.0000],\n",
              "        [23.3000]], dtype=torch.float64)"
            ]
          },
          "metadata": {},
          "execution_count": 65
        }
      ]
    },
    {
      "cell_type": "code",
      "source": [
        "print(criterion(yhat, y)) # test mse값 계산"
      ],
      "metadata": {
        "id": "RTJcIq01s14g",
        "colab": {
          "base_uri": "https://localhost:8080/"
        },
        "outputId": "0caf6441-e981-4afb-f9db-0172c272aa31"
      },
      "id": "RTJcIq01s14g",
      "execution_count": null,
      "outputs": [
        {
          "output_type": "stream",
          "name": "stdout",
          "text": [
            "tensor(22.5304, dtype=torch.float64, grad_fn=<MeanBackward0>)\n"
          ]
        }
      ]
    },
    {
      "cell_type": "markdown",
      "source": [
        "## 3.1 Exercise:\n",
        "\n",
        "Using `Carseats` data answer the following questions.\n",
        "\n"
      ],
      "metadata": {
        "id": "GjoCoa6lFk3-"
      },
      "id": "GjoCoa6lFk3-"
    },
    {
      "cell_type": "code",
      "source": [
        "# 데이터 로드\n",
        "Carseats = load_data('Carseats')\n",
        "Carseats.columns"
      ],
      "metadata": {
        "id": "FFQpYKnZtG34",
        "colab": {
          "base_uri": "https://localhost:8080/"
        },
        "outputId": "944c10cb-bbc0-40ad-db1f-b3348eac6565"
      },
      "id": "FFQpYKnZtG34",
      "execution_count": null,
      "outputs": [
        {
          "output_type": "execute_result",
          "data": {
            "text/plain": [
              "Index(['Sales', 'CompPrice', 'Income', 'Advertising', 'Population', 'Price',\n",
              "       'ShelveLoc', 'Age', 'Education', 'Urban', 'US'],\n",
              "      dtype='object')"
            ]
          },
          "metadata": {},
          "execution_count": 67
        }
      ]
    },
    {
      "cell_type": "code",
      "source": [
        "Carseats.head(5) # 데이터가 잘 들어왔다"
      ],
      "metadata": {
        "id": "FhRG3nGgtG1m",
        "colab": {
          "base_uri": "https://localhost:8080/",
          "height": 206
        },
        "outputId": "8b5c514c-5a90-49da-bc9b-278f10192d0b"
      },
      "id": "FhRG3nGgtG1m",
      "execution_count": null,
      "outputs": [
        {
          "output_type": "execute_result",
          "data": {
            "text/plain": [
              "   Sales  CompPrice  Income  Advertising  Population  Price ShelveLoc  Age  \\\n",
              "0   9.50        138      73           11         276    120       Bad   42   \n",
              "1  11.22        111      48           16         260     83      Good   65   \n",
              "2  10.06        113      35           10         269     80    Medium   59   \n",
              "3   7.40        117     100            4         466     97    Medium   55   \n",
              "4   4.15        141      64            3         340    128       Bad   38   \n",
              "\n",
              "   Education Urban   US  \n",
              "0         17   Yes  Yes  \n",
              "1         10   Yes  Yes  \n",
              "2         12   Yes  Yes  \n",
              "3         14   Yes  Yes  \n",
              "4         13   Yes   No  "
            ],
            "text/html": [
              "\n",
              "  <div id=\"df-37078694-fc0a-4483-848a-cffadc0615a2\" class=\"colab-df-container\">\n",
              "    <div>\n",
              "<style scoped>\n",
              "    .dataframe tbody tr th:only-of-type {\n",
              "        vertical-align: middle;\n",
              "    }\n",
              "\n",
              "    .dataframe tbody tr th {\n",
              "        vertical-align: top;\n",
              "    }\n",
              "\n",
              "    .dataframe thead th {\n",
              "        text-align: right;\n",
              "    }\n",
              "</style>\n",
              "<table border=\"1\" class=\"dataframe\">\n",
              "  <thead>\n",
              "    <tr style=\"text-align: right;\">\n",
              "      <th></th>\n",
              "      <th>Sales</th>\n",
              "      <th>CompPrice</th>\n",
              "      <th>Income</th>\n",
              "      <th>Advertising</th>\n",
              "      <th>Population</th>\n",
              "      <th>Price</th>\n",
              "      <th>ShelveLoc</th>\n",
              "      <th>Age</th>\n",
              "      <th>Education</th>\n",
              "      <th>Urban</th>\n",
              "      <th>US</th>\n",
              "    </tr>\n",
              "  </thead>\n",
              "  <tbody>\n",
              "    <tr>\n",
              "      <th>0</th>\n",
              "      <td>9.50</td>\n",
              "      <td>138</td>\n",
              "      <td>73</td>\n",
              "      <td>11</td>\n",
              "      <td>276</td>\n",
              "      <td>120</td>\n",
              "      <td>Bad</td>\n",
              "      <td>42</td>\n",
              "      <td>17</td>\n",
              "      <td>Yes</td>\n",
              "      <td>Yes</td>\n",
              "    </tr>\n",
              "    <tr>\n",
              "      <th>1</th>\n",
              "      <td>11.22</td>\n",
              "      <td>111</td>\n",
              "      <td>48</td>\n",
              "      <td>16</td>\n",
              "      <td>260</td>\n",
              "      <td>83</td>\n",
              "      <td>Good</td>\n",
              "      <td>65</td>\n",
              "      <td>10</td>\n",
              "      <td>Yes</td>\n",
              "      <td>Yes</td>\n",
              "    </tr>\n",
              "    <tr>\n",
              "      <th>2</th>\n",
              "      <td>10.06</td>\n",
              "      <td>113</td>\n",
              "      <td>35</td>\n",
              "      <td>10</td>\n",
              "      <td>269</td>\n",
              "      <td>80</td>\n",
              "      <td>Medium</td>\n",
              "      <td>59</td>\n",
              "      <td>12</td>\n",
              "      <td>Yes</td>\n",
              "      <td>Yes</td>\n",
              "    </tr>\n",
              "    <tr>\n",
              "      <th>3</th>\n",
              "      <td>7.40</td>\n",
              "      <td>117</td>\n",
              "      <td>100</td>\n",
              "      <td>4</td>\n",
              "      <td>466</td>\n",
              "      <td>97</td>\n",
              "      <td>Medium</td>\n",
              "      <td>55</td>\n",
              "      <td>14</td>\n",
              "      <td>Yes</td>\n",
              "      <td>Yes</td>\n",
              "    </tr>\n",
              "    <tr>\n",
              "      <th>4</th>\n",
              "      <td>4.15</td>\n",
              "      <td>141</td>\n",
              "      <td>64</td>\n",
              "      <td>3</td>\n",
              "      <td>340</td>\n",
              "      <td>128</td>\n",
              "      <td>Bad</td>\n",
              "      <td>38</td>\n",
              "      <td>13</td>\n",
              "      <td>Yes</td>\n",
              "      <td>No</td>\n",
              "    </tr>\n",
              "  </tbody>\n",
              "</table>\n",
              "</div>\n",
              "    <div class=\"colab-df-buttons\">\n",
              "\n",
              "  <div class=\"colab-df-container\">\n",
              "    <button class=\"colab-df-convert\" onclick=\"convertToInteractive('df-37078694-fc0a-4483-848a-cffadc0615a2')\"\n",
              "            title=\"Convert this dataframe to an interactive table.\"\n",
              "            style=\"display:none;\">\n",
              "\n",
              "  <svg xmlns=\"http://www.w3.org/2000/svg\" height=\"24px\" viewBox=\"0 -960 960 960\">\n",
              "    <path d=\"M120-120v-720h720v720H120Zm60-500h600v-160H180v160Zm220 220h160v-160H400v160Zm0 220h160v-160H400v160ZM180-400h160v-160H180v160Zm440 0h160v-160H620v160ZM180-180h160v-160H180v160Zm440 0h160v-160H620v160Z\"/>\n",
              "  </svg>\n",
              "    </button>\n",
              "\n",
              "  <style>\n",
              "    .colab-df-container {\n",
              "      display:flex;\n",
              "      gap: 12px;\n",
              "    }\n",
              "\n",
              "    .colab-df-convert {\n",
              "      background-color: #E8F0FE;\n",
              "      border: none;\n",
              "      border-radius: 50%;\n",
              "      cursor: pointer;\n",
              "      display: none;\n",
              "      fill: #1967D2;\n",
              "      height: 32px;\n",
              "      padding: 0 0 0 0;\n",
              "      width: 32px;\n",
              "    }\n",
              "\n",
              "    .colab-df-convert:hover {\n",
              "      background-color: #E2EBFA;\n",
              "      box-shadow: 0px 1px 2px rgba(60, 64, 67, 0.3), 0px 1px 3px 1px rgba(60, 64, 67, 0.15);\n",
              "      fill: #174EA6;\n",
              "    }\n",
              "\n",
              "    .colab-df-buttons div {\n",
              "      margin-bottom: 4px;\n",
              "    }\n",
              "\n",
              "    [theme=dark] .colab-df-convert {\n",
              "      background-color: #3B4455;\n",
              "      fill: #D2E3FC;\n",
              "    }\n",
              "\n",
              "    [theme=dark] .colab-df-convert:hover {\n",
              "      background-color: #434B5C;\n",
              "      box-shadow: 0px 1px 3px 1px rgba(0, 0, 0, 0.15);\n",
              "      filter: drop-shadow(0px 1px 2px rgba(0, 0, 0, 0.3));\n",
              "      fill: #FFFFFF;\n",
              "    }\n",
              "  </style>\n",
              "\n",
              "    <script>\n",
              "      const buttonEl =\n",
              "        document.querySelector('#df-37078694-fc0a-4483-848a-cffadc0615a2 button.colab-df-convert');\n",
              "      buttonEl.style.display =\n",
              "        google.colab.kernel.accessAllowed ? 'block' : 'none';\n",
              "\n",
              "      async function convertToInteractive(key) {\n",
              "        const element = document.querySelector('#df-37078694-fc0a-4483-848a-cffadc0615a2');\n",
              "        const dataTable =\n",
              "          await google.colab.kernel.invokeFunction('convertToInteractive',\n",
              "                                                    [key], {});\n",
              "        if (!dataTable) return;\n",
              "\n",
              "        const docLinkHtml = 'Like what you see? Visit the ' +\n",
              "          '<a target=\"_blank\" href=https://colab.research.google.com/notebooks/data_table.ipynb>data table notebook</a>'\n",
              "          + ' to learn more about interactive tables.';\n",
              "        element.innerHTML = '';\n",
              "        dataTable['output_type'] = 'display_data';\n",
              "        await google.colab.output.renderOutput(dataTable, element);\n",
              "        const docLink = document.createElement('div');\n",
              "        docLink.innerHTML = docLinkHtml;\n",
              "        element.appendChild(docLink);\n",
              "      }\n",
              "    </script>\n",
              "  </div>\n",
              "\n",
              "\n",
              "<div id=\"df-c7de9634-1f07-4310-8f43-2d5c3deb0224\">\n",
              "  <button class=\"colab-df-quickchart\" onclick=\"quickchart('df-c7de9634-1f07-4310-8f43-2d5c3deb0224')\"\n",
              "            title=\"Suggest charts.\"\n",
              "            style=\"display:none;\">\n",
              "\n",
              "<svg xmlns=\"http://www.w3.org/2000/svg\" height=\"24px\"viewBox=\"0 0 24 24\"\n",
              "     width=\"24px\">\n",
              "    <g>\n",
              "        <path d=\"M19 3H5c-1.1 0-2 .9-2 2v14c0 1.1.9 2 2 2h14c1.1 0 2-.9 2-2V5c0-1.1-.9-2-2-2zM9 17H7v-7h2v7zm4 0h-2V7h2v10zm4 0h-2v-4h2v4z\"/>\n",
              "    </g>\n",
              "</svg>\n",
              "  </button>\n",
              "\n",
              "<style>\n",
              "  .colab-df-quickchart {\n",
              "      --bg-color: #E8F0FE;\n",
              "      --fill-color: #1967D2;\n",
              "      --hover-bg-color: #E2EBFA;\n",
              "      --hover-fill-color: #174EA6;\n",
              "      --disabled-fill-color: #AAA;\n",
              "      --disabled-bg-color: #DDD;\n",
              "  }\n",
              "\n",
              "  [theme=dark] .colab-df-quickchart {\n",
              "      --bg-color: #3B4455;\n",
              "      --fill-color: #D2E3FC;\n",
              "      --hover-bg-color: #434B5C;\n",
              "      --hover-fill-color: #FFFFFF;\n",
              "      --disabled-bg-color: #3B4455;\n",
              "      --disabled-fill-color: #666;\n",
              "  }\n",
              "\n",
              "  .colab-df-quickchart {\n",
              "    background-color: var(--bg-color);\n",
              "    border: none;\n",
              "    border-radius: 50%;\n",
              "    cursor: pointer;\n",
              "    display: none;\n",
              "    fill: var(--fill-color);\n",
              "    height: 32px;\n",
              "    padding: 0;\n",
              "    width: 32px;\n",
              "  }\n",
              "\n",
              "  .colab-df-quickchart:hover {\n",
              "    background-color: var(--hover-bg-color);\n",
              "    box-shadow: 0 1px 2px rgba(60, 64, 67, 0.3), 0 1px 3px 1px rgba(60, 64, 67, 0.15);\n",
              "    fill: var(--button-hover-fill-color);\n",
              "  }\n",
              "\n",
              "  .colab-df-quickchart-complete:disabled,\n",
              "  .colab-df-quickchart-complete:disabled:hover {\n",
              "    background-color: var(--disabled-bg-color);\n",
              "    fill: var(--disabled-fill-color);\n",
              "    box-shadow: none;\n",
              "  }\n",
              "\n",
              "  .colab-df-spinner {\n",
              "    border: 2px solid var(--fill-color);\n",
              "    border-color: transparent;\n",
              "    border-bottom-color: var(--fill-color);\n",
              "    animation:\n",
              "      spin 1s steps(1) infinite;\n",
              "  }\n",
              "\n",
              "  @keyframes spin {\n",
              "    0% {\n",
              "      border-color: transparent;\n",
              "      border-bottom-color: var(--fill-color);\n",
              "      border-left-color: var(--fill-color);\n",
              "    }\n",
              "    20% {\n",
              "      border-color: transparent;\n",
              "      border-left-color: var(--fill-color);\n",
              "      border-top-color: var(--fill-color);\n",
              "    }\n",
              "    30% {\n",
              "      border-color: transparent;\n",
              "      border-left-color: var(--fill-color);\n",
              "      border-top-color: var(--fill-color);\n",
              "      border-right-color: var(--fill-color);\n",
              "    }\n",
              "    40% {\n",
              "      border-color: transparent;\n",
              "      border-right-color: var(--fill-color);\n",
              "      border-top-color: var(--fill-color);\n",
              "    }\n",
              "    60% {\n",
              "      border-color: transparent;\n",
              "      border-right-color: var(--fill-color);\n",
              "    }\n",
              "    80% {\n",
              "      border-color: transparent;\n",
              "      border-right-color: var(--fill-color);\n",
              "      border-bottom-color: var(--fill-color);\n",
              "    }\n",
              "    90% {\n",
              "      border-color: transparent;\n",
              "      border-bottom-color: var(--fill-color);\n",
              "    }\n",
              "  }\n",
              "</style>\n",
              "\n",
              "  <script>\n",
              "    async function quickchart(key) {\n",
              "      const quickchartButtonEl =\n",
              "        document.querySelector('#' + key + ' button');\n",
              "      quickchartButtonEl.disabled = true;  // To prevent multiple clicks.\n",
              "      quickchartButtonEl.classList.add('colab-df-spinner');\n",
              "      try {\n",
              "        const charts = await google.colab.kernel.invokeFunction(\n",
              "            'suggestCharts', [key], {});\n",
              "      } catch (error) {\n",
              "        console.error('Error during call to suggestCharts:', error);\n",
              "      }\n",
              "      quickchartButtonEl.classList.remove('colab-df-spinner');\n",
              "      quickchartButtonEl.classList.add('colab-df-quickchart-complete');\n",
              "    }\n",
              "    (() => {\n",
              "      let quickchartButtonEl =\n",
              "        document.querySelector('#df-c7de9634-1f07-4310-8f43-2d5c3deb0224 button');\n",
              "      quickchartButtonEl.style.display =\n",
              "        google.colab.kernel.accessAllowed ? 'block' : 'none';\n",
              "    })();\n",
              "  </script>\n",
              "</div>\n",
              "    </div>\n",
              "  </div>\n"
            ]
          },
          "metadata": {},
          "execution_count": 68
        }
      ]
    },
    {
      "cell_type": "code",
      "source": [
        "my_vars = list(Carseats.columns.drop('Sales')) # 'Sales' 열을 제외한 모든 열을 선택\n",
        "y = Carseats['Sales']\n",
        "X_Carseats = MS([\"Advertising\", \"ShelveLoc\"]).fit_transform(Carseats)  # 'Advertising' 및 'ShelveLoc' 열을 선택하고 변환\n",
        "X_Carseats"
      ],
      "metadata": {
        "id": "-qZRRuZDtGyP",
        "colab": {
          "base_uri": "https://localhost:8080/",
          "height": 423
        },
        "outputId": "320fe121-7950-4095-96bd-92d9c7ccfb69"
      },
      "id": "-qZRRuZDtGyP",
      "execution_count": null,
      "outputs": [
        {
          "output_type": "execute_result",
          "data": {
            "text/plain": [
              "     intercept  Advertising  ShelveLoc[Good]  ShelveLoc[Medium]\n",
              "0          1.0           11              0.0                0.0\n",
              "1          1.0           16              1.0                0.0\n",
              "2          1.0           10              0.0                1.0\n",
              "3          1.0            4              0.0                1.0\n",
              "4          1.0            3              0.0                0.0\n",
              "..         ...          ...              ...                ...\n",
              "395        1.0           17              1.0                0.0\n",
              "396        1.0            3              0.0                1.0\n",
              "397        1.0           12              0.0                1.0\n",
              "398        1.0            7              0.0                0.0\n",
              "399        1.0            0              1.0                0.0\n",
              "\n",
              "[400 rows x 4 columns]"
            ],
            "text/html": [
              "\n",
              "  <div id=\"df-30e0b76e-ef70-4b3d-afe3-8d7362870a45\" class=\"colab-df-container\">\n",
              "    <div>\n",
              "<style scoped>\n",
              "    .dataframe tbody tr th:only-of-type {\n",
              "        vertical-align: middle;\n",
              "    }\n",
              "\n",
              "    .dataframe tbody tr th {\n",
              "        vertical-align: top;\n",
              "    }\n",
              "\n",
              "    .dataframe thead th {\n",
              "        text-align: right;\n",
              "    }\n",
              "</style>\n",
              "<table border=\"1\" class=\"dataframe\">\n",
              "  <thead>\n",
              "    <tr style=\"text-align: right;\">\n",
              "      <th></th>\n",
              "      <th>intercept</th>\n",
              "      <th>Advertising</th>\n",
              "      <th>ShelveLoc[Good]</th>\n",
              "      <th>ShelveLoc[Medium]</th>\n",
              "    </tr>\n",
              "  </thead>\n",
              "  <tbody>\n",
              "    <tr>\n",
              "      <th>0</th>\n",
              "      <td>1.0</td>\n",
              "      <td>11</td>\n",
              "      <td>0.0</td>\n",
              "      <td>0.0</td>\n",
              "    </tr>\n",
              "    <tr>\n",
              "      <th>1</th>\n",
              "      <td>1.0</td>\n",
              "      <td>16</td>\n",
              "      <td>1.0</td>\n",
              "      <td>0.0</td>\n",
              "    </tr>\n",
              "    <tr>\n",
              "      <th>2</th>\n",
              "      <td>1.0</td>\n",
              "      <td>10</td>\n",
              "      <td>0.0</td>\n",
              "      <td>1.0</td>\n",
              "    </tr>\n",
              "    <tr>\n",
              "      <th>3</th>\n",
              "      <td>1.0</td>\n",
              "      <td>4</td>\n",
              "      <td>0.0</td>\n",
              "      <td>1.0</td>\n",
              "    </tr>\n",
              "    <tr>\n",
              "      <th>4</th>\n",
              "      <td>1.0</td>\n",
              "      <td>3</td>\n",
              "      <td>0.0</td>\n",
              "      <td>0.0</td>\n",
              "    </tr>\n",
              "    <tr>\n",
              "      <th>...</th>\n",
              "      <td>...</td>\n",
              "      <td>...</td>\n",
              "      <td>...</td>\n",
              "      <td>...</td>\n",
              "    </tr>\n",
              "    <tr>\n",
              "      <th>395</th>\n",
              "      <td>1.0</td>\n",
              "      <td>17</td>\n",
              "      <td>1.0</td>\n",
              "      <td>0.0</td>\n",
              "    </tr>\n",
              "    <tr>\n",
              "      <th>396</th>\n",
              "      <td>1.0</td>\n",
              "      <td>3</td>\n",
              "      <td>0.0</td>\n",
              "      <td>1.0</td>\n",
              "    </tr>\n",
              "    <tr>\n",
              "      <th>397</th>\n",
              "      <td>1.0</td>\n",
              "      <td>12</td>\n",
              "      <td>0.0</td>\n",
              "      <td>1.0</td>\n",
              "    </tr>\n",
              "    <tr>\n",
              "      <th>398</th>\n",
              "      <td>1.0</td>\n",
              "      <td>7</td>\n",
              "      <td>0.0</td>\n",
              "      <td>0.0</td>\n",
              "    </tr>\n",
              "    <tr>\n",
              "      <th>399</th>\n",
              "      <td>1.0</td>\n",
              "      <td>0</td>\n",
              "      <td>1.0</td>\n",
              "      <td>0.0</td>\n",
              "    </tr>\n",
              "  </tbody>\n",
              "</table>\n",
              "<p>400 rows × 4 columns</p>\n",
              "</div>\n",
              "    <div class=\"colab-df-buttons\">\n",
              "\n",
              "  <div class=\"colab-df-container\">\n",
              "    <button class=\"colab-df-convert\" onclick=\"convertToInteractive('df-30e0b76e-ef70-4b3d-afe3-8d7362870a45')\"\n",
              "            title=\"Convert this dataframe to an interactive table.\"\n",
              "            style=\"display:none;\">\n",
              "\n",
              "  <svg xmlns=\"http://www.w3.org/2000/svg\" height=\"24px\" viewBox=\"0 -960 960 960\">\n",
              "    <path d=\"M120-120v-720h720v720H120Zm60-500h600v-160H180v160Zm220 220h160v-160H400v160Zm0 220h160v-160H400v160ZM180-400h160v-160H180v160Zm440 0h160v-160H620v160ZM180-180h160v-160H180v160Zm440 0h160v-160H620v160Z\"/>\n",
              "  </svg>\n",
              "    </button>\n",
              "\n",
              "  <style>\n",
              "    .colab-df-container {\n",
              "      display:flex;\n",
              "      gap: 12px;\n",
              "    }\n",
              "\n",
              "    .colab-df-convert {\n",
              "      background-color: #E8F0FE;\n",
              "      border: none;\n",
              "      border-radius: 50%;\n",
              "      cursor: pointer;\n",
              "      display: none;\n",
              "      fill: #1967D2;\n",
              "      height: 32px;\n",
              "      padding: 0 0 0 0;\n",
              "      width: 32px;\n",
              "    }\n",
              "\n",
              "    .colab-df-convert:hover {\n",
              "      background-color: #E2EBFA;\n",
              "      box-shadow: 0px 1px 2px rgba(60, 64, 67, 0.3), 0px 1px 3px 1px rgba(60, 64, 67, 0.15);\n",
              "      fill: #174EA6;\n",
              "    }\n",
              "\n",
              "    .colab-df-buttons div {\n",
              "      margin-bottom: 4px;\n",
              "    }\n",
              "\n",
              "    [theme=dark] .colab-df-convert {\n",
              "      background-color: #3B4455;\n",
              "      fill: #D2E3FC;\n",
              "    }\n",
              "\n",
              "    [theme=dark] .colab-df-convert:hover {\n",
              "      background-color: #434B5C;\n",
              "      box-shadow: 0px 1px 3px 1px rgba(0, 0, 0, 0.15);\n",
              "      filter: drop-shadow(0px 1px 2px rgba(0, 0, 0, 0.3));\n",
              "      fill: #FFFFFF;\n",
              "    }\n",
              "  </style>\n",
              "\n",
              "    <script>\n",
              "      const buttonEl =\n",
              "        document.querySelector('#df-30e0b76e-ef70-4b3d-afe3-8d7362870a45 button.colab-df-convert');\n",
              "      buttonEl.style.display =\n",
              "        google.colab.kernel.accessAllowed ? 'block' : 'none';\n",
              "\n",
              "      async function convertToInteractive(key) {\n",
              "        const element = document.querySelector('#df-30e0b76e-ef70-4b3d-afe3-8d7362870a45');\n",
              "        const dataTable =\n",
              "          await google.colab.kernel.invokeFunction('convertToInteractive',\n",
              "                                                    [key], {});\n",
              "        if (!dataTable) return;\n",
              "\n",
              "        const docLinkHtml = 'Like what you see? Visit the ' +\n",
              "          '<a target=\"_blank\" href=https://colab.research.google.com/notebooks/data_table.ipynb>data table notebook</a>'\n",
              "          + ' to learn more about interactive tables.';\n",
              "        element.innerHTML = '';\n",
              "        dataTable['output_type'] = 'display_data';\n",
              "        await google.colab.output.renderOutput(dataTable, element);\n",
              "        const docLink = document.createElement('div');\n",
              "        docLink.innerHTML = docLinkHtml;\n",
              "        element.appendChild(docLink);\n",
              "      }\n",
              "    </script>\n",
              "  </div>\n",
              "\n",
              "\n",
              "<div id=\"df-902a06e0-9bfd-4b28-a110-ccd8953c3648\">\n",
              "  <button class=\"colab-df-quickchart\" onclick=\"quickchart('df-902a06e0-9bfd-4b28-a110-ccd8953c3648')\"\n",
              "            title=\"Suggest charts.\"\n",
              "            style=\"display:none;\">\n",
              "\n",
              "<svg xmlns=\"http://www.w3.org/2000/svg\" height=\"24px\"viewBox=\"0 0 24 24\"\n",
              "     width=\"24px\">\n",
              "    <g>\n",
              "        <path d=\"M19 3H5c-1.1 0-2 .9-2 2v14c0 1.1.9 2 2 2h14c1.1 0 2-.9 2-2V5c0-1.1-.9-2-2-2zM9 17H7v-7h2v7zm4 0h-2V7h2v10zm4 0h-2v-4h2v4z\"/>\n",
              "    </g>\n",
              "</svg>\n",
              "  </button>\n",
              "\n",
              "<style>\n",
              "  .colab-df-quickchart {\n",
              "      --bg-color: #E8F0FE;\n",
              "      --fill-color: #1967D2;\n",
              "      --hover-bg-color: #E2EBFA;\n",
              "      --hover-fill-color: #174EA6;\n",
              "      --disabled-fill-color: #AAA;\n",
              "      --disabled-bg-color: #DDD;\n",
              "  }\n",
              "\n",
              "  [theme=dark] .colab-df-quickchart {\n",
              "      --bg-color: #3B4455;\n",
              "      --fill-color: #D2E3FC;\n",
              "      --hover-bg-color: #434B5C;\n",
              "      --hover-fill-color: #FFFFFF;\n",
              "      --disabled-bg-color: #3B4455;\n",
              "      --disabled-fill-color: #666;\n",
              "  }\n",
              "\n",
              "  .colab-df-quickchart {\n",
              "    background-color: var(--bg-color);\n",
              "    border: none;\n",
              "    border-radius: 50%;\n",
              "    cursor: pointer;\n",
              "    display: none;\n",
              "    fill: var(--fill-color);\n",
              "    height: 32px;\n",
              "    padding: 0;\n",
              "    width: 32px;\n",
              "  }\n",
              "\n",
              "  .colab-df-quickchart:hover {\n",
              "    background-color: var(--hover-bg-color);\n",
              "    box-shadow: 0 1px 2px rgba(60, 64, 67, 0.3), 0 1px 3px 1px rgba(60, 64, 67, 0.15);\n",
              "    fill: var(--button-hover-fill-color);\n",
              "  }\n",
              "\n",
              "  .colab-df-quickchart-complete:disabled,\n",
              "  .colab-df-quickchart-complete:disabled:hover {\n",
              "    background-color: var(--disabled-bg-color);\n",
              "    fill: var(--disabled-fill-color);\n",
              "    box-shadow: none;\n",
              "  }\n",
              "\n",
              "  .colab-df-spinner {\n",
              "    border: 2px solid var(--fill-color);\n",
              "    border-color: transparent;\n",
              "    border-bottom-color: var(--fill-color);\n",
              "    animation:\n",
              "      spin 1s steps(1) infinite;\n",
              "  }\n",
              "\n",
              "  @keyframes spin {\n",
              "    0% {\n",
              "      border-color: transparent;\n",
              "      border-bottom-color: var(--fill-color);\n",
              "      border-left-color: var(--fill-color);\n",
              "    }\n",
              "    20% {\n",
              "      border-color: transparent;\n",
              "      border-left-color: var(--fill-color);\n",
              "      border-top-color: var(--fill-color);\n",
              "    }\n",
              "    30% {\n",
              "      border-color: transparent;\n",
              "      border-left-color: var(--fill-color);\n",
              "      border-top-color: var(--fill-color);\n",
              "      border-right-color: var(--fill-color);\n",
              "    }\n",
              "    40% {\n",
              "      border-color: transparent;\n",
              "      border-right-color: var(--fill-color);\n",
              "      border-top-color: var(--fill-color);\n",
              "    }\n",
              "    60% {\n",
              "      border-color: transparent;\n",
              "      border-right-color: var(--fill-color);\n",
              "    }\n",
              "    80% {\n",
              "      border-color: transparent;\n",
              "      border-right-color: var(--fill-color);\n",
              "      border-bottom-color: var(--fill-color);\n",
              "    }\n",
              "    90% {\n",
              "      border-color: transparent;\n",
              "      border-bottom-color: var(--fill-color);\n",
              "    }\n",
              "  }\n",
              "</style>\n",
              "\n",
              "  <script>\n",
              "    async function quickchart(key) {\n",
              "      const quickchartButtonEl =\n",
              "        document.querySelector('#' + key + ' button');\n",
              "      quickchartButtonEl.disabled = true;  // To prevent multiple clicks.\n",
              "      quickchartButtonEl.classList.add('colab-df-spinner');\n",
              "      try {\n",
              "        const charts = await google.colab.kernel.invokeFunction(\n",
              "            'suggestCharts', [key], {});\n",
              "      } catch (error) {\n",
              "        console.error('Error during call to suggestCharts:', error);\n",
              "      }\n",
              "      quickchartButtonEl.classList.remove('colab-df-spinner');\n",
              "      quickchartButtonEl.classList.add('colab-df-quickchart-complete');\n",
              "    }\n",
              "    (() => {\n",
              "      let quickchartButtonEl =\n",
              "        document.querySelector('#df-902a06e0-9bfd-4b28-a110-ccd8953c3648 button');\n",
              "      quickchartButtonEl.style.display =\n",
              "        google.colab.kernel.accessAllowed ? 'block' : 'none';\n",
              "    })();\n",
              "  </script>\n",
              "</div>\n",
              "    </div>\n",
              "  </div>\n"
            ]
          },
          "metadata": {},
          "execution_count": 69
        }
      ]
    },
    {
      "cell_type": "code",
      "source": [
        "# Advertising의 평균과 표준편차 계산\n",
        "adv_mean = np.mean(X_Carseats[\"Advertising\"])\n",
        "adv_std = np.std(X_Carseats[\"Advertising\"])\n",
        "\n",
        "# Advertising 표준화\n",
        "X_Carseats[\"Advertising\"] = (X_Carseats[\"Advertising\"]- adv_mean) / adv_std"
      ],
      "metadata": {
        "id": "3dXLWwEGtGvW"
      },
      "id": "3dXLWwEGtGvW",
      "execution_count": null,
      "outputs": []
    },
    {
      "cell_type": "markdown",
      "source": [
        "(a) Using pytorch, calculate the train MSE of the following model:\n",
        "\n",
        "`Sales ~ Advertising + ShelveLoc`\n"
      ],
      "metadata": {
        "id": "7VPIH1nhoMVU"
      },
      "id": "7VPIH1nhoMVU"
    },
    {
      "cell_type": "code",
      "source": [
        "# Advertising, ShelveLoc[Good], ShelveLoc[Medium]을 PyTorch Tensor로 변환하여 결합\n",
        "X_Ex3_1 = torch.stack([torch.tensor(X_Carseats['Advertising'], dtype = torch.float32),\n",
        "            torch.tensor(X_Carseats['ShelveLoc[Good]'], dtype = torch.float32),\n",
        "            torch.tensor(X_Carseats['ShelveLoc[Medium]'], dtype = torch.float32)], axis = 1)\n",
        "\n",
        "print(X_Ex3_1[:5]) # 변환된 데이터 중 첫 5개 데이터 출력\n",
        "Y_1 = torch.tensor(Carseats['Sales'], dtype = torch.float32).reshape(-1,1) # Sales 열을 PyTorch Tensor로 변환하고 모양 재조정"
      ],
      "metadata": {
        "id": "UY8SLFXcoNCm",
        "colab": {
          "base_uri": "https://localhost:8080/"
        },
        "outputId": "57e49d25-0252-4368-99e2-5e8c37905f3f"
      },
      "id": "UY8SLFXcoNCm",
      "execution_count": null,
      "outputs": [
        {
          "output_type": "stream",
          "name": "stdout",
          "text": [
            "tensor([[ 0.6572,  0.0000,  0.0000],\n",
            "        [ 1.4100,  1.0000,  0.0000],\n",
            "        [ 0.5066,  0.0000,  1.0000],\n",
            "        [-0.3967,  0.0000,  1.0000],\n",
            "        [-0.5473,  0.0000,  0.0000]])\n"
          ]
        }
      ]
    },
    {
      "cell_type": "code",
      "source": [
        "dataset = TensorDataset(X_Ex3_1,Y_1) # 데이터셋 생성: X_Ex3_1, Y_1을 결합\n",
        "trainloader = DataLoader(dataset = dataset, batch_size = 5, shuffle = True) # 데이터로더 생성: 미니배치 학습용"
      ],
      "metadata": {
        "id": "W-68Cq5-tRPE"
      },
      "id": "W-68Cq5-tRPE",
      "execution_count": null,
      "outputs": []
    },
    {
      "cell_type": "code",
      "source": [
        "import torch.nn as nn\n",
        "# Define the model\n",
        "model = nn.Linear(3, 1, bias=True) # 모델 정의: 입력 특성 수는 3, 출력은 1\n",
        "\n",
        "my_optim = torch.optim.SGD(model.parameters(), lr=0.01) # 최적화기 및 학습률 설정: SGD\n",
        "epochs = 100\n",
        "n = len(trainloader)  # 데이터 로더의 미니배치 수 (적절한 값으로 대체해야 함)\n",
        "# 손실 함수 정의: MSE 손실 함수\n",
        "criterion = nn.MSELoss()\n",
        "history = [] # history값 저장\n",
        "\n",
        "for _ in tqdm(range(epochs)):\n",
        "    LOSS_sum = 0\n",
        "    for xx, yy in trainloader: # Forward pass\n",
        "        yhat = model(xx)\n",
        "\n",
        "        # Loss 계산\n",
        "        loss = criterion(yhat, yy)\n",
        "        LOSS_sum += loss.item()\n",
        "\n",
        "        # 역전파와 그래디언트 업데이트\n",
        "        loss.backward()\n",
        "        my_optim.step()\n",
        "        my_optim.zero_grad()\n",
        "\n",
        "    history.append(LOSS_sum / n)  # training loss 저장"
      ],
      "metadata": {
        "colab": {
          "base_uri": "https://localhost:8080/"
        },
        "id": "dCfJuP0a9eVs",
        "outputId": "86d2f00f-a826-4e23-bb26-96808cc0c9c7"
      },
      "id": "dCfJuP0a9eVs",
      "execution_count": null,
      "outputs": [
        {
          "output_type": "stream",
          "name": "stderr",
          "text": [
            "100%|██████████| 100/100 [00:04<00:00, 24.95it/s]\n"
          ]
        }
      ]
    },
    {
      "cell_type": "code",
      "source": [
        "plt.plot(history) # 학습 과정에서 기록된 손실 값을 시각화"
      ],
      "metadata": {
        "colab": {
          "base_uri": "https://localhost:8080/",
          "height": 449
        },
        "id": "Wj_z-bMk7Bq1",
        "outputId": "d5099faf-a04d-4330-c0f7-5b1ea158f155"
      },
      "id": "Wj_z-bMk7Bq1",
      "execution_count": null,
      "outputs": [
        {
          "output_type": "execute_result",
          "data": {
            "text/plain": [
              "[<matplotlib.lines.Line2D at 0x7eedd4bf31f0>]"
            ]
          },
          "metadata": {},
          "execution_count": 97
        },
        {
          "output_type": "display_data",
          "data": {
            "text/plain": [
              "<Figure size 640x480 with 1 Axes>"
            ],
            "image/png": "[encoded data removed]"
          },
          "metadata": {}
        }
      ]
    },
    {
      "cell_type": "code",
      "source": [
        "## MSE 계산\n",
        "with torch.no_grad():\n",
        "    total_mse = 0\n",
        "    for xx, yy in trainloader:\n",
        "        # Forward 방식 사용\n",
        "        yhat = model(xx)\n",
        "        # 미니배치에 대한 MSE 계산\n",
        "        mse = criterion(yhat, yy)\n",
        "        total_mse += mse.item() * len(yy)\n",
        "    final_mse = total_mse / n # 모든 미니배치에 대한 MSE를 총 샘플 수로 나누어 최종 MSE 계산\n",
        "\n",
        "print(final_mse)"
      ],
      "metadata": {
        "colab": {
          "base_uri": "https://localhost:8080/"
        },
        "id": "9bMYSXFH-dNA",
        "outputId": "67287bdc-0f02-477d-ec5c-e56c60ae4f6d"
      },
      "id": "9bMYSXFH-dNA",
      "execution_count": null,
      "outputs": [
        {
          "output_type": "stream",
          "name": "stdout",
          "text": [
            "24.936042986810207\n"
          ]
        }
      ]
    },
    {
      "cell_type": "markdown",
      "source": [
        "\n",
        "(b) Using pytorch, calculate the train MSE of the following model:\n",
        "\n",
        "`Sales ~ Advertising`\n"
      ],
      "metadata": {
        "id": "KYTGJ_wXnFlQ"
      },
      "id": "KYTGJ_wXnFlQ"
    },
    {
      "cell_type": "code",
      "source": [
        "## 데이터 조정\n",
        "X_Ex3_2 = torch.tensor(X_Carseats['Advertising'], dtype = torch.float32).reshape(-1,1)\n",
        "Y_2 = torch.tensor(Carseats['Sales'], dtype = torch.float32).reshape(-1,1)"
      ],
      "metadata": {
        "id": "y8N8l4Sfi_2b"
      },
      "id": "y8N8l4Sfi_2b",
      "execution_count": null,
      "outputs": []
    },
    {
      "cell_type": "code",
      "source": [
        "## 데이터 합치기\n",
        "dataset = TensorDataset(X_Ex3_2,Y_2)\n",
        "trainloader = DataLoader(dataset = dataset, batch_size = 5, shuffle = True)"
      ],
      "metadata": {
        "id": "ewhn3j0ulfuj"
      },
      "id": "ewhn3j0ulfuj",
      "execution_count": null,
      "outputs": []
    },
    {
      "cell_type": "code",
      "source": [
        "# 모델 정의\n",
        "model = nn.Linear(1, 1)  # Advertising & Sales\n",
        "criterion = nn.MSELoss() # 손실 함수 정의: MSE\n",
        "optimizer = optim.SGD(model.parameters(), lr=0.01) # optimizer: SGD\n",
        "\n",
        "# PyTorch 데이터셋 및 데이터 로더 생성\n",
        "dataset = TensorDataset(X_Ex3_2, Y_2)\n",
        "trainloader = DataLoader(dataset=dataset, batch_size=5, shuffle=True) # 미니배치 학습용 데이터 로더 생성\n",
        "\n",
        "# 학습 조건 설정\n",
        "epochs = 100\n",
        "n = len(X)\n",
        "history = []\n",
        "\n",
        "for _ in tqdm(range(epochs)):\n",
        "    LOSS_sum = 0\n",
        "    for xx, yy in trainloader: # 미니배치로 계산\n",
        "        yhat = model(xx)\n",
        "\n",
        "        # 손실 계산\n",
        "        loss = criterion(yhat, yy)\n",
        "        LOSS_sum += loss.item()\n",
        "\n",
        "        # Backpropagation\n",
        "        optimizer.zero_grad()\n",
        "        loss.backward()\n",
        "        optimizer.step()\n",
        "\n",
        "    history.append(LOSS_sum / n)  # history 저장"
      ],
      "metadata": {
        "colab": {
          "base_uri": "https://localhost:8080/"
        },
        "id": "PZ0N7UpTizUa",
        "outputId": "42f0c40b-5f16-47a7-b1dc-dc2f19ca8ffb"
      },
      "id": "PZ0N7UpTizUa",
      "execution_count": null,
      "outputs": [
        {
          "output_type": "stream",
          "name": "stderr",
          "text": [
            "100%|██████████| 100/100 [00:07<00:00, 12.55it/s]\n"
          ]
        }
      ]
    },
    {
      "cell_type": "code",
      "source": [
        "plt.plot(history) # 학습 과정에서 기록된 손실 값을 시각화"
      ],
      "metadata": {
        "colab": {
          "base_uri": "https://localhost:8080/",
          "height": 449
        },
        "id": "o11aqgh4iSC0",
        "outputId": "a858da0c-74d7-4522-c607-f9efedd97716"
      },
      "id": "o11aqgh4iSC0",
      "execution_count": null,
      "outputs": [
        {
          "output_type": "execute_result",
          "data": {
            "text/plain": [
              "[<matplotlib.lines.Line2D at 0x7eedd4d93670>]"
            ]
          },
          "metadata": {},
          "execution_count": 79
        },
        {
          "output_type": "display_data",
          "data": {
            "text/plain": [
              "<Figure size 640x480 with 1 Axes>"
            ],
            "image/png": "[encoded data removed]"
          },
          "metadata": {}
        }
      ]
    },
    {
      "cell_type": "code",
      "source": [
        "## MSE 계산\n",
        "yhat = model(X_Ex3_2)\n",
        "train_mse = criterion(yhat, Y_2).item()\n",
        "print(f\"Train MSE: {train_mse}\")"
      ],
      "metadata": {
        "colab": {
          "base_uri": "https://localhost:8080/"
        },
        "id": "jqSldJFriSAc",
        "outputId": "c892819b-e4c2-49ee-efab-f121360675ea"
      },
      "id": "jqSldJFriSAc",
      "execution_count": null,
      "outputs": [
        {
          "output_type": "stream",
          "name": "stdout",
          "text": [
            "Train MSE: 7.380057334899902\n"
          ]
        }
      ]
    },
    {
      "cell_type": "markdown",
      "source": [
        "\n",
        "(c) Calculate $R^2$ of each model in (a) and (b).\n"
      ],
      "metadata": {
        "id": "mRxJLjA3nGw7"
      },
      "id": "mRxJLjA3nGw7"
    },
    {
      "cell_type": "code",
      "source": [
        "## model (a)\n",
        "# model (a)로 초기화\n",
        "X_Ex3_1 = torch.stack([torch.tensor(X_Carseats['Advertising'], dtype = torch.float32),\n",
        "            torch.tensor(X_Carseats['ShelveLoc[Good]'], dtype = torch.float32),\n",
        "            torch.tensor(X_Carseats['ShelveLoc[Medium]'], dtype = torch.float32)], axis = 1)\n",
        "Y_1 = torch.tensor(Carseats['Sales'], dtype = torch.float32).reshape(-1,1)\n",
        "dataset = TensorDataset(X_Ex3_1,Y_1)\n",
        "trainloader = DataLoader(dataset = dataset, batch_size = 5, shuffle = True)\n",
        "model = nn.Linear(3, 1, bias=True)\n",
        "my_optim = torch.optim.SGD(model.parameters(), lr=0.01)\n",
        "epochs = 100\n",
        "n = len(trainloader)\n",
        "criterion = nn.MSELoss()\n",
        "history = []\n",
        "for _ in tqdm(range(epochs)):\n",
        "    LOSS_sum = 0\n",
        "    for xx, yy in trainloader:\n",
        "        # Forward pass\n",
        "        yhat = model(xx)\n",
        "        loss = criterion(yhat, yy)\n",
        "        LOSS_sum += loss.item()\n",
        "        loss.backward()\n",
        "        my_optim.step()\n",
        "        my_optim.zero_grad()\n",
        "    history.append(LOSS_sum / n)"
      ],
      "metadata": {
        "colab": {
          "base_uri": "https://localhost:8080/"
        },
        "id": "LsSdl9w6lcRi",
        "outputId": "abd00af3-7f13-4e13-98dc-675adbf5732d"
      },
      "id": "LsSdl9w6lcRi",
      "execution_count": null,
      "outputs": [
        {
          "output_type": "stream",
          "name": "stderr",
          "text": [
            "100%|██████████| 100/100 [00:05<00:00, 18.46it/s]\n"
          ]
        }
      ]
    },
    {
      "cell_type": "code",
      "source": [
        "# model (a) r2 계산\n",
        "yhat_1 = model(X_Ex3_1)\n",
        "r2_value = r2(Y_1, yhat_1) # 앞서 만들었던 r2 함수 사용\n",
        "print(f\"R2 (Model a): {r2_value.item()}\")"
      ],
      "metadata": {
        "id": "RyzI_CbfnFOU",
        "colab": {
          "base_uri": "https://localhost:8080/"
        },
        "outputId": "6c56b58e-b533-4dc5-e372-f926a4ba4665"
      },
      "id": "RyzI_CbfnFOU",
      "execution_count": null,
      "outputs": [
        {
          "output_type": "stream",
          "name": "stdout",
          "text": [
            "R2 (Model a): 0.3715518116950989\n"
          ]
        }
      ]
    },
    {
      "cell_type": "code",
      "source": [
        "## model (b)\n",
        "# model (b)로 초기화\n",
        "X_Ex3_2 = torch.tensor(X_Carseats['Advertising'], dtype = torch.float32).reshape(-1,1)\n",
        "Y_2 = torch.tensor(Carseats['Sales'], dtype = torch.float32).reshape(-1,1)\n",
        "dataset = TensorDataset(X_Ex3_2,Y_2)\n",
        "trainloader = DataLoader(dataset = dataset, batch_size = 5, shuffle = True)\n",
        "model = nn.Linear(1, 1)\n",
        "criterion = nn.MSELoss()\n",
        "optimizer = optim.SGD(model.parameters(), lr=0.01)\n",
        "dataset = TensorDataset(X_Ex3_2, Y_2)\n",
        "trainloader = DataLoader(dataset=dataset, batch_size=5, shuffle=True)\n",
        "epochs = 100\n",
        "n = len(X)\n",
        "history = []\n",
        "for _ in tqdm(range(epochs)):\n",
        "    LOSS_sum = 0\n",
        "    for xx, yy in trainloader:\n",
        "        yhat = model(xx)\n",
        "        loss = criterion(yhat, yy)\n",
        "        LOSS_sum += loss.item()\n",
        "        optimizer.zero_grad()\n",
        "        loss.backward()\n",
        "        optimizer.step()\n",
        "    history.append(LOSS_sum / n)"
      ],
      "metadata": {
        "colab": {
          "base_uri": "https://localhost:8080/"
        },
        "id": "wXPH1J7Slz_3",
        "outputId": "42040134-1973-433e-98d0-60ce24621e0f"
      },
      "id": "wXPH1J7Slz_3",
      "execution_count": null,
      "outputs": [
        {
          "output_type": "stream",
          "name": "stderr",
          "text": [
            "100%|██████████| 100/100 [00:06<00:00, 15.31it/s]\n"
          ]
        }
      ]
    },
    {
      "cell_type": "code",
      "source": [
        "# model (b) r2 계산\n",
        "yhat_2 = model(X_Ex3_2)\n",
        "r2_value = r2(Y_2, yhat_2) # 앞서 만들었던 r2 함수 사용\n",
        "print(f\"R2 (Model b): {r2_value.item()}\")"
      ],
      "metadata": {
        "id": "fxP1fJ4EnFL_",
        "colab": {
          "base_uri": "https://localhost:8080/"
        },
        "outputId": "e59f5d09-c4ad-4fd3-fd9f-e20b27fd6ac9"
      },
      "id": "fxP1fJ4EnFL_",
      "execution_count": null,
      "outputs": [
        {
          "output_type": "stream",
          "name": "stdout",
          "text": [
            "R2 (Model b): 0.07254457473754883\n"
          ]
        }
      ]
    },
    {
      "cell_type": "markdown",
      "source": [
        "\n",
        "(d) Repeat (a) and (b) by making use of 70% of data as train set and the remaining 30% as test set."
      ],
      "metadata": {
        "id": "AgEakZcSnH5t"
      },
      "id": "AgEakZcSnH5t"
    },
    {
      "cell_type": "code",
      "source": [
        "## (a)\n",
        "# 70% of data as train set and the remaining 30% as test set\n",
        "dataset = TensorDataset(X_Ex3_1,Y_1)\n",
        "n = len(X_Carseats)\n",
        "# 70%의 데이터를 훈련 세트로, 나머지 30%를 테스트 세트로 나눔\n",
        "train_set, val_set = torch.utils.data.random_split(dataset, [int(np.floor(n*0.7)), n-int(np.floor(n*0.7))])\n",
        "# 훈련 데이터 로더 생성: 미니배치 학습용, 미니배치 크기는 5\n",
        "trainloader = DataLoader( dataset = train_set, batch_size = 5, shuffle = True)\n",
        "# 테스트 데이터 로더 생성: 전체 테스트 세트를 하나의 미니배치로 사용\n",
        "testloader =  DataLoader( dataset = val_set, batch_size = n-int(np.floor(n*0.7)), shuffle = True)"
      ],
      "metadata": {
        "id": "yXoonRSXnE4M"
      },
      "id": "yXoonRSXnE4M",
      "execution_count": null,
      "outputs": []
    },
    {
      "cell_type": "code",
      "source": [
        "## model (a) 다시 학습시키기\n",
        "model = nn.Linear(3, 1, bias=True)\n",
        "my_optim = torch.optim.SGD(model.parameters(), lr=0.01)\n",
        "epochs = 100\n",
        "n = len(trainloader)\n",
        "criterion = nn.MSELoss()\n",
        "history = []\n",
        "for _ in tqdm(range(epochs)):\n",
        "    LOSS_sum = 0\n",
        "    for xx, yy in trainloader:\n",
        "        yhat = model(xx)\n",
        "        loss = criterion(yhat, yy)\n",
        "        LOSS_sum += loss.item()\n",
        "        loss.backward()\n",
        "        my_optim.step()\n",
        "        my_optim.zero_grad()\n",
        "    history.append(LOSS_sum / n)"
      ],
      "metadata": {
        "colab": {
          "base_uri": "https://localhost:8080/"
        },
        "id": "bOIgMffMp9Fg",
        "outputId": "99b7db52-4c2d-4eb4-eae2-a74fdbc8e7ac"
      },
      "id": "bOIgMffMp9Fg",
      "execution_count": null,
      "outputs": [
        {
          "output_type": "stream",
          "name": "stderr",
          "text": [
            "100%|██████████| 100/100 [00:04<00:00, 22.94it/s]\n"
          ]
        }
      ]
    },
    {
      "cell_type": "code",
      "source": [
        "plt.plot(history) # 학습 과정에서 기록된 손실 값을 시각화"
      ],
      "metadata": {
        "colab": {
          "base_uri": "https://localhost:8080/",
          "height": 449
        },
        "id": "vnoPwaDAp9DD",
        "outputId": "f927c1b5-cd8e-4cb6-f6d5-23450f5f9c33"
      },
      "id": "vnoPwaDAp9DD",
      "execution_count": null,
      "outputs": [
        {
          "output_type": "execute_result",
          "data": {
            "text/plain": [
              "[<matplotlib.lines.Line2D at 0x7eedd5057f40>]"
            ]
          },
          "metadata": {},
          "execution_count": 87
        },
        {
          "output_type": "display_data",
          "data": {
            "text/plain": [
              "<Figure size 640x480 with 1 Axes>"
            ],
            "image/png": "[encoded data removed]"
          },
          "metadata": {}
        }
      ]
    },
    {
      "cell_type": "code",
      "source": [
        "## MSE 계산\n",
        "with torch.no_grad():\n",
        "    total_mse = 0\n",
        "    for xx, yy in trainloader:\n",
        "        # Forward 방식 사용\n",
        "        yhat = model(xx)\n",
        "        # 미니배치에 대한 MSE 계산\n",
        "        mse = criterion(yhat, yy)\n",
        "        total_mse += mse.item() * len(yy)\n",
        "    final_mse = total_mse / n # 모든 미니배치에 대한 MSE를 총 샘플 수로 나누어 최종 MSE 계산\n",
        "\n",
        "print(final_mse)"
      ],
      "metadata": {
        "colab": {
          "base_uri": "https://localhost:8080/"
        },
        "id": "qh9XPACrRJZe",
        "outputId": "ce74b162-95c6-467c-c249-c75ea097a848"
      },
      "id": "qh9XPACrRJZe",
      "execution_count": null,
      "outputs": [
        {
          "output_type": "stream",
          "name": "stdout",
          "text": [
            "25.295619099800074\n"
          ]
        }
      ]
    },
    {
      "cell_type": "code",
      "source": [
        "## (b)\n",
        "# 70% of data as train set and the remaining 30% as test set\n",
        "dataset = TensorDataset(X_Ex3_2,Y_2)\n",
        "n = len(X_Carseats)\n",
        "# 70%의 데이터를 훈련 세트로, 나머지 30%를 테스트 세트로 나눔\n",
        "train_set, val_set = torch.utils.data.random_split(dataset, [int(np.floor(n*0.7)), n-int(np.floor(n*0.7))])\n",
        "# 훈련 데이터 로더 생성: 미니배치 학습용, 미니배치 크기는 5\n",
        "trainloader = DataLoader(dataset = train_set, batch_size = 5, shuffle = True)\n",
        "# 테스트 데이터 로더 생성: 전체 테스트 세트를 하나의 미니배치로 사용\n",
        "testloader =  DataLoader(dataset = val_set, batch_size = n-int(np.floor(n*0.7)), shuffle = True)"
      ],
      "metadata": {
        "id": "bFiy8ZGuP6I8"
      },
      "id": "bFiy8ZGuP6I8",
      "execution_count": null,
      "outputs": []
    },
    {
      "cell_type": "code",
      "source": [
        "# model(b) 다시 학습시키기\n",
        "model = nn.Linear(1, 1)\n",
        "criterion = nn.MSELoss()\n",
        "optimizer = optim.SGD(model.parameters(), lr=0.01)\n",
        "dataset = TensorDataset(X_Ex3_2, Y_2)\n",
        "trainloader = DataLoader(dataset=dataset, batch_size=5, shuffle=True)\n",
        "epochs = 100\n",
        "n = len(X)\n",
        "history = []\n",
        "for _ in tqdm(range(epochs)):\n",
        "    LOSS_sum = 0\n",
        "    for xx, yy in trainloader:\n",
        "        yhat = model(xx)\n",
        "        loss = criterion(yhat, yy)\n",
        "        LOSS_sum += loss.item()\n",
        "        optimizer.zero_grad()\n",
        "        loss.backward()\n",
        "        optimizer.step()\n",
        "    history.append(LOSS_sum / n)"
      ],
      "metadata": {
        "colab": {
          "base_uri": "https://localhost:8080/"
        },
        "id": "gpaHoKKWp9AF",
        "outputId": "39ec32ad-53e1-4730-82e0-cd7f6ff459c2"
      },
      "id": "gpaHoKKWp9AF",
      "execution_count": null,
      "outputs": [
        {
          "output_type": "stream",
          "name": "stderr",
          "text": [
            "100%|██████████| 100/100 [00:04<00:00, 24.18it/s]\n"
          ]
        }
      ]
    },
    {
      "cell_type": "code",
      "source": [
        "plt.plot(history) # 학습 과정에서 기록된 손실 값을 시각화"
      ],
      "metadata": {
        "colab": {
          "base_uri": "https://localhost:8080/",
          "height": 449
        },
        "id": "atm2e6-gss3o",
        "outputId": "c7c292cd-e73d-49d8-cc9f-48d159a53561"
      },
      "id": "atm2e6-gss3o",
      "execution_count": null,
      "outputs": [
        {
          "output_type": "execute_result",
          "data": {
            "text/plain": [
              "[<matplotlib.lines.Line2D at 0x7eedd4e9a200>]"
            ]
          },
          "metadata": {},
          "execution_count": 91
        },
        {
          "output_type": "display_data",
          "data": {
            "text/plain": [
              "<Figure size 640x480 with 1 Axes>"
            ],
            "image/png": "[encoded data removed]"
          },
          "metadata": {}
        }
      ]
    },
    {
      "cell_type": "code",
      "source": [
        "## MSE 계산\n",
        "yhat = model(X_Ex3_2)\n",
        "train_mse = criterion(yhat, Y_2).item()\n",
        "print(f\"Train MSE: {train_mse}\")"
      ],
      "metadata": {
        "colab": {
          "base_uri": "https://localhost:8080/"
        },
        "id": "ZxbJGhn2RNkQ",
        "outputId": "8fccd5f0-c5ca-4654-89a5-3718b9adafff"
      },
      "id": "ZxbJGhn2RNkQ",
      "execution_count": null,
      "outputs": [
        {
          "output_type": "stream",
          "name": "stdout",
          "text": [
            "Train MSE: 7.380727767944336\n"
          ]
        }
      ]
    }
  ]
}