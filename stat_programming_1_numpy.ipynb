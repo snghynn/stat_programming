{
  "nbformat": 4,
  "nbformat_minor": 0,
  "metadata": {
    "colab": {
      "provenance": []
    },
    "kernelspec": {
      "name": "python3",
      "display_name": "Python 3"
    },
    "language_info": {
      "name": "python"
    }
  },
  "cells": [
    {
      "cell_type": "markdown",
      "source": [
        "###1.\n",
        "For an 2-dimensional input matrix, write a NumPy function to subtract the mean of each row of a given matrix.\n",
        "\n",
        "Sample Input:\n",
        "\n",
        "A = np.array([[1,2,5,1], [3,4,1,0]])\n",
        "\n",
        "my_function(A)\n",
        "\n",
        "Sample Output:\n",
        "\n",
        "array([[-1.25, -0.25, 2.75, -1.25],\n",
        "       [ 1. , 2. , -1. , -2. ]])"
      ],
      "metadata": {
        "id": "UpfRhvZuk4k3"
      }
    },
    {
      "cell_type": "code",
      "execution_count": 1,
      "metadata": {
        "id": "h7GIAs7hk0kN"
      },
      "outputs": [],
      "source": [
        "import numpy as np\n",
        "def my_function(matrix):\n",
        "  mymean=np.mean(matrix, axis=1, keepdims=True) # 각 행별 평균 계산\n",
        "  newmatrix=matrix-mymean # 각 요소에서 평균 빼기\n",
        "  return newmatrix"
      ]
    },
    {
      "cell_type": "code",
      "source": [
        "# sample input\n",
        "A = np.array([[1,2,5,1],\n",
        "              [3,4,1,0]])\n",
        "my_function(A)"
      ],
      "metadata": {
        "colab": {
          "base_uri": "https://localhost:8080/"
        },
        "id": "IlLHfwNclmQb",
        "outputId": "00192c8e-d3e3-4e69-ba22-3ef0e51c7db5"
      },
      "execution_count": 2,
      "outputs": [
        {
          "output_type": "execute_result",
          "data": {
            "text/plain": [
              "array([[-1.25, -0.25,  2.75, -1.25],\n",
              "       [ 1.  ,  2.  , -1.  , -2.  ]])"
            ]
          },
          "metadata": {},
          "execution_count": 2
        }
      ]
    },
    {
      "cell_type": "markdown",
      "source": [
        "### 2.\n",
        "For an 2-dimensional input matrix, write a NumPy function to subtract the mean of each column of a given matrix.\n",
        "\n",
        "Sample Input:\n",
        "\n",
        "A = np.array([[1,2,5,1], [3,4,1,0]])\n",
        "\n",
        "my_function(A)\n",
        "\n",
        "Sample Output:\n",
        "\n",
        "array([[-1. , -1. , 2. , 0.5],\n",
        " [ 1. , 1. , -2. , -0.5]])"
      ],
      "metadata": {
        "id": "-NwbeGKNl-pp"
      }
    },
    {
      "cell_type": "code",
      "source": [
        "import numpy as np\n",
        "def my_function(matrix):\n",
        "  mymean=np.mean(matrix, axis=0, keepdims=True) # 각 열별 평균 계산\n",
        "  newmatrix=matrix-mymean # 각 요소에서 평균 빼기\n",
        "  return newmatrix"
      ],
      "metadata": {
        "id": "5QSij3QKlrsw"
      },
      "execution_count": 3,
      "outputs": []
    },
    {
      "cell_type": "code",
      "source": [
        "# sample input\n",
        "A = np.array([[1,2,5,1], [3,4,1,0]])\n",
        "my_function(A)"
      ],
      "metadata": {
        "colab": {
          "base_uri": "https://localhost:8080/"
        },
        "id": "7twMBGr4mSya",
        "outputId": "4890ba1c-65c3-46d2-bd82-6e797deb398b"
      },
      "execution_count": 4,
      "outputs": [
        {
          "output_type": "execute_result",
          "data": {
            "text/plain": [
              "array([[-1. , -1. ,  2. ,  0.5],\n",
              "       [ 1. ,  1. , -2. , -0.5]])"
            ]
          },
          "metadata": {},
          "execution_count": 4
        }
      ]
    },
    {
      "cell_type": "markdown",
      "source": [
        "### 3.\n",
        "Write a NumPy function to concatenate two given two dimensional arrays of shape (n, p) and (n,q), respectively, to create (n, p+q) array.\n",
        "\n",
        "Sample Output:\n",
        "\n",
        "Original arrays:\n",
        "\n",
        "[[4.5 3.5]\n",
        "\n",
        "[5.1 2.3]]\n",
        "\n",
        "[[1]\n",
        "\n",
        "[2]]\n",
        "\n",
        "Concatenated arrays:\n",
        "\n",
        "[[4.5 3.5 1. ]\n",
        "\n",
        "[5.1 2.3 2. ]]\n"
      ],
      "metadata": {
        "id": "EcUgPF68mX7T"
      }
    },
    {
      "cell_type": "code",
      "source": [
        "def my_concate(a,b):\n",
        "  # 가로 방향으로 concatenate하기\n",
        "  result = np.concatenate((a, b), axis=1)\n",
        "  return result"
      ],
      "metadata": {
        "id": "GVWPMM9jmVUi"
      },
      "execution_count": 5,
      "outputs": []
    },
    {
      "cell_type": "code",
      "source": [
        "# sample input\n",
        "A = np.array([[4.5, 3.5],\n",
        "              [5.1, 2.3]])\n",
        "B = np.array([[1],\n",
        "              [2]])\n",
        "\n",
        "my_concate(A,B)"
      ],
      "metadata": {
        "id": "UPBzV87yl0Y4",
        "colab": {
          "base_uri": "https://localhost:8080/"
        },
        "outputId": "eaaf00c9-c27e-4275-eb48-4db3ac390901"
      },
      "execution_count": 6,
      "outputs": [
        {
          "output_type": "execute_result",
          "data": {
            "text/plain": [
              "array([[4.5, 3.5, 1. ],\n",
              "       [5.1, 2.3, 2. ]])"
            ]
          },
          "metadata": {},
          "execution_count": 6
        }
      ]
    },
    {
      "cell_type": "markdown",
      "source": [
        "### 4.\n",
        "Write a NumPy function to concatenate two given two dimensional arrays of shape (n, p) and (m,p), respectively, to create (n+m, p) array.\n",
        "\n",
        "Sample Output:\n",
        "\n",
        "Original arrays:\n",
        "\n",
        "[[4.5 3.5]\n",
        "\n",
        "[5.1 2.3]]\n",
        "\n",
        "[[4 3]\n",
        "\n",
        "[5 2]\n",
        "\n",
        "[1 1]]\n",
        "\n",
        "Concatenate arrays:\n",
        "\n",
        "[[4.5 3.5]\n",
        "\n",
        "[5.1 2.3]\n",
        "\n",
        "[4 3]\n",
        "\n",
        "[5 2]\n",
        "\n",
        "[1 1]]"
      ],
      "metadata": {
        "id": "s9hSPUxhj4Bf"
      }
    },
    {
      "cell_type": "code",
      "source": [
        "def my_concate(a,b):\n",
        "  # 세로 방향으로 concatenate하기\n",
        "  result = np.concatenate((a, b), axis=0)\n",
        "  return result"
      ],
      "metadata": {
        "id": "qX32hGLPl0R0"
      },
      "execution_count": 7,
      "outputs": []
    },
    {
      "cell_type": "code",
      "source": [
        "# sample input\n",
        "A = np.array([[4.5, 3.5],\n",
        "              [5.1, 2.3]])\n",
        "B = np.array([[4, 3],\n",
        "              [5, 2],\n",
        "              [1, 1]])\n",
        "\n",
        "my_concate(A,B)"
      ],
      "metadata": {
        "id": "dAFkNhCfl0PX",
        "colab": {
          "base_uri": "https://localhost:8080/"
        },
        "outputId": "ba7983ee-5fa3-47a9-b6d7-eeeaa48a5211"
      },
      "execution_count": 8,
      "outputs": [
        {
          "output_type": "execute_result",
          "data": {
            "text/plain": [
              "array([[4.5, 3.5],\n",
              "       [5.1, 2.3],\n",
              "       [4. , 3. ],\n",
              "       [5. , 2. ],\n",
              "       [1. , 1. ]])"
            ]
          },
          "metadata": {},
          "execution_count": 8
        }
      ]
    },
    {
      "cell_type": "markdown",
      "source": [
        "### 5\n",
        "[Video Record] Create a python function to create a matrix having a boundary with a value of 1 and an inner one 0 the legend is shown below for given row and column numbers."
      ],
      "metadata": {
        "id": "cYitltzpksbV"
      }
    },
    {
      "cell_type": "code",
      "source": [
        "def my_matrix(i, j):\n",
        "\n",
        "    # 모든 원소가 1인 matrix를 생성해 matrix 변수에 저장: np.ones(row, col)\n",
        "    matrix = np.ones((i, j), dtype=int)\n",
        "    # 테두리 부분을 제외한 부분을 0으로 대체시키기\n",
        "    matrix[1:-1, 1:-1] = 0\n",
        "    return matrix"
      ],
      "metadata": {
        "id": "za4lgZJhkPX4"
      },
      "execution_count": 9,
      "outputs": []
    },
    {
      "cell_type": "code",
      "source": [
        "# sample input\n",
        "my_matrix(10,10)"
      ],
      "metadata": {
        "colab": {
          "base_uri": "https://localhost:8080/"
        },
        "id": "X7rJl2DZkPVk",
        "outputId": "56af0952-4a01-49e5-9ef9-41d11a0d34e6"
      },
      "execution_count": 10,
      "outputs": [
        {
          "output_type": "execute_result",
          "data": {
            "text/plain": [
              "array([[1, 1, 1, 1, 1, 1, 1, 1, 1, 1],\n",
              "       [1, 0, 0, 0, 0, 0, 0, 0, 0, 1],\n",
              "       [1, 0, 0, 0, 0, 0, 0, 0, 0, 1],\n",
              "       [1, 0, 0, 0, 0, 0, 0, 0, 0, 1],\n",
              "       [1, 0, 0, 0, 0, 0, 0, 0, 0, 1],\n",
              "       [1, 0, 0, 0, 0, 0, 0, 0, 0, 1],\n",
              "       [1, 0, 0, 0, 0, 0, 0, 0, 0, 1],\n",
              "       [1, 0, 0, 0, 0, 0, 0, 0, 0, 1],\n",
              "       [1, 0, 0, 0, 0, 0, 0, 0, 0, 1],\n",
              "       [1, 1, 1, 1, 1, 1, 1, 1, 1, 1]])"
            ]
          },
          "metadata": {},
          "execution_count": 10
        }
      ]
    },
    {
      "cell_type": "code",
      "source": [
        "## Another solution)\n",
        "n=10  # input\n",
        "\n",
        "A=np.zeros([n,n])\n",
        "for i in range(n):\n",
        "  for j in range(n):\n",
        "    if (i==0) | (i==(n-1)):\n",
        "      A[i,j]=1\n",
        "    if (j==0) | (j==(n-1)):\n",
        "      A[i,j]=1\n",
        "\n",
        "A"
      ],
      "metadata": {
        "colab": {
          "base_uri": "https://localhost:8080/"
        },
        "id": "xzorN3uSl0nE",
        "outputId": "1a5881a3-e83c-4b53-a218-62615d33f1f0"
      },
      "execution_count": 11,
      "outputs": [
        {
          "output_type": "execute_result",
          "data": {
            "text/plain": [
              "array([[1., 1., 1., 1., 1., 1., 1., 1., 1., 1.],\n",
              "       [1., 0., 0., 0., 0., 0., 0., 0., 0., 1.],\n",
              "       [1., 0., 0., 0., 0., 0., 0., 0., 0., 1.],\n",
              "       [1., 0., 0., 0., 0., 0., 0., 0., 0., 1.],\n",
              "       [1., 0., 0., 0., 0., 0., 0., 0., 0., 1.],\n",
              "       [1., 0., 0., 0., 0., 0., 0., 0., 0., 1.],\n",
              "       [1., 0., 0., 0., 0., 0., 0., 0., 0., 1.],\n",
              "       [1., 0., 0., 0., 0., 0., 0., 0., 0., 1.],\n",
              "       [1., 0., 0., 0., 0., 0., 0., 0., 0., 1.],\n",
              "       [1., 1., 1., 1., 1., 1., 1., 1., 1., 1.]])"
            ]
          },
          "metadata": {},
          "execution_count": 11
        }
      ]
    },
    {
      "cell_type": "markdown",
      "source": [
        "### 6.\n",
        "Given a sequence of n values x1, x2, ..., xn and a window size k>0, the k-th moving average of the given sequence is defined as follows:\n",
        "\n",
        "The moving average sequence has n-k+1 elements as shown below. The moving averages with k=4 of a ten-value sequence (n=10) is shown below\n",
        "\n",
        "i 1 2 3 4 5 6 7 8 9 10\n",
        "\n",
        "===== == == == == == == == == == ==\n",
        "\n",
        "Input 10 20 30 40 50 60 70 80 90 100\n",
        "\n",
        "y1 25 = (10+20+30+40)/4\n",
        "\n",
        "y2 35 = (20+30+40+50)/4\n",
        "\n",
        "y3 45 = (30+40+50+60)/4\n",
        "\n",
        "y4 55 = (40+50+60+70)/4\n",
        "\n",
        "y5 65 = (50+60+70+80)/4\n",
        "\n",
        "y6 75 = (60+70+80+90)/4\n",
        "\n",
        "y7 85 = (70+80+90+100)/4\n",
        "\n",
        "Thus, the moving average sequence has n-k+1=10-4+1=7 values.\n",
        "\n",
        "Write a Python function to find moving average in an array over a window\n",
        "with an array and window size as inputs:\n",
        "\n",
        "Test it over [3, 5, 7, 2, 8, 10, 11, 65, 72, 81, 99, 100, 150] and window size 3."
      ],
      "metadata": {
        "id": "_W5niD5JmpDt"
      }
    },
    {
      "cell_type": "code",
      "source": [
        "def moving_average(arr, k):\n",
        "    n = len(arr)\n",
        "    # 비어있는 list 생성하기\n",
        "    moving_averages = []\n",
        "\n",
        "    for i in range(n - k + 1):\n",
        "        w = arr[i : i+k]\n",
        "        # 이동평균 구하기\n",
        "        avg = sum(w) / k\n",
        "        # list에 moving average 추가하기\n",
        "        moving_averages.append(avg)\n",
        "\n",
        "    return moving_averages"
      ],
      "metadata": {
        "id": "n9Ct97KMkPRR"
      },
      "execution_count": 12,
      "outputs": []
    },
    {
      "cell_type": "code",
      "source": [
        "# Sample function\n",
        "data = [3, 5, 7, 2, 8, 10, 11, 65, 72, 81, 99, 100, 150]\n",
        "window_size = 3\n",
        "\n",
        "moving_average(data, window_size)"
      ],
      "metadata": {
        "colab": {
          "base_uri": "https://localhost:8080/"
        },
        "id": "Dy5bj315kPLc",
        "outputId": "5a9937c4-e411-4239-ac1a-2147afdcad89"
      },
      "execution_count": 13,
      "outputs": [
        {
          "output_type": "execute_result",
          "data": {
            "text/plain": [
              "[5.0,\n",
              " 4.666666666666667,\n",
              " 5.666666666666667,\n",
              " 6.666666666666667,\n",
              " 9.666666666666666,\n",
              " 28.666666666666668,\n",
              " 49.333333333333336,\n",
              " 72.66666666666667,\n",
              " 84.0,\n",
              " 93.33333333333333,\n",
              " 116.33333333333333]"
            ]
          },
          "metadata": {},
          "execution_count": 13
        }
      ]
    },
    {
      "cell_type": "markdown",
      "source": [
        "### 7. [Video Record]\n",
        "\n"
      ],
      "metadata": {
        "id": "Sj-bfxt7tQER"
      }
    },
    {
      "cell_type": "markdown",
      "source": [
        "### a)\n",
        "Create an array “N” of shape [3, 5] to represent the number of accidents. Similarly, create arrays of “Salary” and “Sports” of shape [3,5] each to represent the salary and sports car."
      ],
      "metadata": {
        "id": "M3Fx0pqttxd1"
      }
    },
    {
      "cell_type": "code",
      "source": [
        "# Table 1 : Number of accidents\n",
        "N = np.array([[0, 1, 0, 1, 2],\n",
        "               [1, 3, 2, 1, 0],\n",
        "               [0, 0, 0, 1, 3]])\n",
        "\n",
        "# Table 2 : Salary (in dollars)\n",
        "Salary = np.array([[157, 167, 130, 145, 170],\n",
        "               [250, 260, 263, 273, 290],\n",
        "               [301, 120, 30, 100, 502]])\n",
        "\n",
        "# Table 3 : Sports car (0: no, 1: yes)\n",
        "Sports = np.array([[1, 1, 1, 1, 1],\n",
        "               [0, 0, 0, 0, 0],\n",
        "               [0, 0, 0, 0, 0]])"
      ],
      "metadata": {
        "id": "W0e5glSGs7GA"
      },
      "execution_count": 14,
      "outputs": []
    },
    {
      "cell_type": "markdown",
      "source": [
        "### b)\n",
        "Create an array “Y” of shape [3,5,3] where (i,j,1)-th element of “Y” represent the number of accidents of i-th id in the j-th year, and (i,j,2)-th element of “Y” represents the salary of i-th id in the j-th year, and (i,j,3)-th element of “Y” represent sports car (0 or 1) of i-th id in the j-th year. (Please type everything element to define “Y”)"
      ],
      "metadata": {
        "id": "zWF-_kP-vcJi"
      }
    },
    {
      "cell_type": "code",
      "source": [
        "Y = np.array([[[0,157,1],[1,167,1],[0,130,1],[1,145,1],[2,170,1]],\n",
        "              [[1,250,0],[3,260,0],[2,263,0],[1,273,0],[0,290,0]],\n",
        "              [[0,301,0],[0,120,0],[0,30,0],[1,100,0],[3,502,0]]])\n",
        "\n",
        "print(Y)"
      ],
      "metadata": {
        "id": "6X1u8snbvhOW",
        "colab": {
          "base_uri": "https://localhost:8080/"
        },
        "outputId": "5eb9afca-a799-4ae6-f5a9-23e35c58a7f7"
      },
      "execution_count": 15,
      "outputs": [
        {
          "output_type": "stream",
          "name": "stdout",
          "text": [
            "[[[  0 157   1]\n",
            "  [  1 167   1]\n",
            "  [  0 130   1]\n",
            "  [  1 145   1]\n",
            "  [  2 170   1]]\n",
            "\n",
            " [[  1 250   0]\n",
            "  [  3 260   0]\n",
            "  [  2 263   0]\n",
            "  [  1 273   0]\n",
            "  [  0 290   0]]\n",
            "\n",
            " [[  0 301   0]\n",
            "  [  0 120   0]\n",
            "  [  0  30   0]\n",
            "  [  1 100   0]\n",
            "  [  3 502   0]]]\n"
          ]
        }
      ]
    },
    {
      "cell_type": "markdown",
      "source": [
        "### c)\n",
        "Solve part b) again by utilizing “N”, “Salary”, and “Sports” defined in a)."
      ],
      "metadata": {
        "id": "qT0ywUtPFVfk"
      }
    },
    {
      "cell_type": "code",
      "source": [
        "N.reshape(3,5,1)"
      ],
      "metadata": {
        "colab": {
          "base_uri": "https://localhost:8080/"
        },
        "id": "w-tBdKw2Iri4",
        "outputId": "395d033e-8b13-4150-ffd8-e5ee89e229b3"
      },
      "execution_count": 16,
      "outputs": [
        {
          "output_type": "execute_result",
          "data": {
            "text/plain": [
              "array([[[0],\n",
              "        [1],\n",
              "        [0],\n",
              "        [1],\n",
              "        [2]],\n",
              "\n",
              "       [[1],\n",
              "        [3],\n",
              "        [2],\n",
              "        [1],\n",
              "        [0]],\n",
              "\n",
              "       [[0],\n",
              "        [0],\n",
              "        [0],\n",
              "        [1],\n",
              "        [3]]])"
            ]
          },
          "metadata": {},
          "execution_count": 16
        }
      ]
    },
    {
      "cell_type": "code",
      "source": [
        "Salary.reshape(3,5,1)"
      ],
      "metadata": {
        "colab": {
          "base_uri": "https://localhost:8080/"
        },
        "id": "HLkOQXZFItc_",
        "outputId": "e240ec4e-341c-48cb-a8df-0c1e35641b84"
      },
      "execution_count": 17,
      "outputs": [
        {
          "output_type": "execute_result",
          "data": {
            "text/plain": [
              "array([[[157],\n",
              "        [167],\n",
              "        [130],\n",
              "        [145],\n",
              "        [170]],\n",
              "\n",
              "       [[250],\n",
              "        [260],\n",
              "        [263],\n",
              "        [273],\n",
              "        [290]],\n",
              "\n",
              "       [[301],\n",
              "        [120],\n",
              "        [ 30],\n",
              "        [100],\n",
              "        [502]]])"
            ]
          },
          "metadata": {},
          "execution_count": 17
        }
      ]
    },
    {
      "cell_type": "code",
      "source": [
        "Sports.reshape(3,5,1)"
      ],
      "metadata": {
        "colab": {
          "base_uri": "https://localhost:8080/"
        },
        "id": "uYXuNOwfIuBD",
        "outputId": "e284a780-ca20-4f7c-d399-30c0537276fd"
      },
      "execution_count": 18,
      "outputs": [
        {
          "output_type": "execute_result",
          "data": {
            "text/plain": [
              "array([[[1],\n",
              "        [1],\n",
              "        [1],\n",
              "        [1],\n",
              "        [1]],\n",
              "\n",
              "       [[0],\n",
              "        [0],\n",
              "        [0],\n",
              "        [0],\n",
              "        [0]],\n",
              "\n",
              "       [[0],\n",
              "        [0],\n",
              "        [0],\n",
              "        [0],\n",
              "        [0]]])"
            ]
          },
          "metadata": {},
          "execution_count": 18
        }
      ]
    },
    {
      "cell_type": "code",
      "source": [
        "# 차원을 늘려 합쳐야 하는 경우이므로, numpy.stack()을 사용한다.\n",
        "Y_new = np.stack((N, Salary, Sports), axis = 2)\n",
        "print(Y_new)"
      ],
      "metadata": {
        "id": "V-74UHayvhKT",
        "colab": {
          "base_uri": "https://localhost:8080/"
        },
        "outputId": "dab445ba-38ee-4142-d81c-9b742bd45fff"
      },
      "execution_count": 19,
      "outputs": [
        {
          "output_type": "stream",
          "name": "stdout",
          "text": [
            "[[[  0 157   1]\n",
            "  [  1 167   1]\n",
            "  [  0 130   1]\n",
            "  [  1 145   1]\n",
            "  [  2 170   1]]\n",
            "\n",
            " [[  1 250   0]\n",
            "  [  3 260   0]\n",
            "  [  2 263   0]\n",
            "  [  1 273   0]\n",
            "  [  0 290   0]]\n",
            "\n",
            " [[  0 301   0]\n",
            "  [  0 120   0]\n",
            "  [  0  30   0]\n",
            "  [  1 100   0]\n",
            "  [  3 502   0]]]\n"
          ]
        }
      ]
    },
    {
      "cell_type": "markdown",
      "source": [
        "### d)\n",
        "Create an array “Y2” of shape [3,3,5] where (i,1,j)-th element of “Y” represent the number of accidents of i-th id in the j-th year, and (i,2,j)-th element of “Y” represents the salary of i-th id in the j-th year, and (i,3,j)-th element of “Y” represent sports car (0 or 1) of i-th id in the j-th year. (Please type everything element to define “Y2”)\n",
        "\n"
      ],
      "metadata": {
        "id": "vM4ZHc9ttc0Q"
      }
    },
    {
      "cell_type": "code",
      "source": [
        "Y2 = np.array([[[0,1,0,1,2],[157,167,130,145,170],[1,1,1,1,1],],\n",
        "               [[1,3,2,1,0],[250,260,263,273,290],[0,0,0,0,0]],\n",
        "               [[0,0,0,1,3],[301,120,30,100,502],[0,0,0,0,0]]])\n",
        "print(Y2)"
      ],
      "metadata": {
        "id": "uxNmYAhjs7EI",
        "colab": {
          "base_uri": "https://localhost:8080/"
        },
        "outputId": "2dcebb97-44ac-497a-cf79-cd336fd95f50"
      },
      "execution_count": 20,
      "outputs": [
        {
          "output_type": "stream",
          "name": "stdout",
          "text": [
            "[[[  0   1   0   1   2]\n",
            "  [157 167 130 145 170]\n",
            "  [  1   1   1   1   1]]\n",
            "\n",
            " [[  1   3   2   1   0]\n",
            "  [250 260 263 273 290]\n",
            "  [  0   0   0   0   0]]\n",
            "\n",
            " [[  0   0   0   1   3]\n",
            "  [301 120  30 100 502]\n",
            "  [  0   0   0   0   0]]]\n"
          ]
        }
      ]
    },
    {
      "cell_type": "markdown",
      "source": [
        "### e)\n",
        "Solve part d> again by converting an array “Y” into “Y2” Hint: Use numpy.tranpose() function or numpy.swapaxes() function\n"
      ],
      "metadata": {
        "id": "abYzjeP9Hz71"
      }
    },
    {
      "cell_type": "code",
      "source": [
        "np.transpose(Y,(0,2,1))"
      ],
      "metadata": {
        "id": "LBhrjUqVs7Be",
        "colab": {
          "base_uri": "https://localhost:8080/"
        },
        "outputId": "fae2b8fa-bf93-4c29-adce-dca9fcc01a23"
      },
      "execution_count": 21,
      "outputs": [
        {
          "output_type": "execute_result",
          "data": {
            "text/plain": [
              "array([[[  0,   1,   0,   1,   2],\n",
              "        [157, 167, 130, 145, 170],\n",
              "        [  1,   1,   1,   1,   1]],\n",
              "\n",
              "       [[  1,   3,   2,   1,   0],\n",
              "        [250, 260, 263, 273, 290],\n",
              "        [  0,   0,   0,   0,   0]],\n",
              "\n",
              "       [[  0,   0,   0,   1,   3],\n",
              "        [301, 120,  30, 100, 502],\n",
              "        [  0,   0,   0,   0,   0]]])"
            ]
          },
          "metadata": {},
          "execution_count": 21
        }
      ]
    },
    {
      "cell_type": "code",
      "source": [
        "Y2"
      ],
      "metadata": {
        "colab": {
          "base_uri": "https://localhost:8080/"
        },
        "id": "syZRwSBrJZ-R",
        "outputId": "472b0da8-da59-416b-e3e9-70c61d9ca3ce"
      },
      "execution_count": 22,
      "outputs": [
        {
          "output_type": "execute_result",
          "data": {
            "text/plain": [
              "array([[[  0,   1,   0,   1,   2],\n",
              "        [157, 167, 130, 145, 170],\n",
              "        [  1,   1,   1,   1,   1]],\n",
              "\n",
              "       [[  1,   3,   2,   1,   0],\n",
              "        [250, 260, 263, 273, 290],\n",
              "        [  0,   0,   0,   0,   0]],\n",
              "\n",
              "       [[  0,   0,   0,   1,   3],\n",
              "        [301, 120,  30, 100, 502],\n",
              "        [  0,   0,   0,   0,   0]]])"
            ]
          },
          "metadata": {},
          "execution_count": 22
        }
      ]
    },
    {
      "cell_type": "markdown",
      "source": [
        "### f)\n",
        "Solve part d> again by utilizing “N”, “Salary”, and “Sports” defined in a>"
      ],
      "metadata": {
        "id": "W7CuAJoNH2gj"
      }
    },
    {
      "cell_type": "code",
      "source": [
        "Y2_new = np.stack((N,Salary,Sports),axis=1)\n",
        "print(Y2_new)"
      ],
      "metadata": {
        "id": "HbhNx8Drs6_I",
        "colab": {
          "base_uri": "https://localhost:8080/"
        },
        "outputId": "e80e6ed5-8308-4d8e-efb2-e55becab4bac"
      },
      "execution_count": 23,
      "outputs": [
        {
          "output_type": "stream",
          "name": "stdout",
          "text": [
            "[[[  0   1   0   1   2]\n",
            "  [157 167 130 145 170]\n",
            "  [  1   1   1   1   1]]\n",
            "\n",
            " [[  1   3   2   1   0]\n",
            "  [250 260 263 273 290]\n",
            "  [  0   0   0   0   0]]\n",
            "\n",
            " [[  0   0   0   1   3]\n",
            "  [301 120  30 100 502]\n",
            "  [  0   0   0   0   0]]]\n"
          ]
        }
      ]
    }
  ]
}
