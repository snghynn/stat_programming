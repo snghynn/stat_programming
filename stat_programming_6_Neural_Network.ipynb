{
  "nbformat": 4,
  "nbformat_minor": 0,
  "metadata": {
    "colab": {
      "provenance": [],
      "include_colab_link": true
    },
    "kernelspec": {
      "name": "python3",
      "display_name": "Python 3"
    },
    "language_info": {
      "name": "python"
    }
  },
  "cells": [
    {
      "cell_type": "markdown",
      "metadata": {
        "id": "view-in-github",
        "colab_type": "text"
      },
      "source": [
        "<a href=\"https://colab.research.google.com/github/snghynn/stat_programming/blob/main/stat_programming_6_Neural_Network.ipynb\" target=\"_parent\"><img src=\"https://colab.research.google.com/assets/colab-badge.svg\" alt=\"Open In Colab\"/></a>"
      ]
    },
    {
      "cell_type": "code",
      "source": [
        "%pip install ISLP"
      ],
      "metadata": {
        "id": "ym6_UY7v03iE",
        "colab": {
          "base_uri": "https://localhost:8080/"
        },
        "outputId": "588064ed-a60c-4510-9649-4119d0b45f71"
      },
      "execution_count": null,
      "outputs": [
        {
          "output_type": "stream",
          "name": "stdout",
          "text": [
            "Requirement already satisfied: ISLP in /usr/local/lib/python3.10/dist-packages (0.3.21)\n",
            "Requirement already satisfied: numpy<1.25,>=1.7.1 in /usr/local/lib/python3.10/dist-packages (from ISLP) (1.24.4)\n",
            "Requirement already satisfied: scipy>=0.9 in /usr/local/lib/python3.10/dist-packages (from ISLP) (1.11.4)\n",
            "Requirement already satisfied: pandas<=1.9,>=0.20 in /usr/local/lib/python3.10/dist-packages (from ISLP) (1.5.3)\n",
            "Requirement already satisfied: lxml in /usr/local/lib/python3.10/dist-packages (from ISLP) (4.9.3)\n",
            "Requirement already satisfied: scikit-learn>=1.2 in /usr/local/lib/python3.10/dist-packages (from ISLP) (1.2.2)\n",
            "Requirement already satisfied: joblib in /usr/local/lib/python3.10/dist-packages (from ISLP) (1.3.2)\n",
            "Requirement already satisfied: statsmodels>=0.13 in /usr/local/lib/python3.10/dist-packages (from ISLP) (0.14.0)\n",
            "Requirement already satisfied: lifelines in /usr/local/lib/python3.10/dist-packages (from ISLP) (0.27.8)\n",
            "Requirement already satisfied: pygam in /usr/local/lib/python3.10/dist-packages (from ISLP) (0.9.0)\n",
            "Requirement already satisfied: torch in /usr/local/lib/python3.10/dist-packages (from ISLP) (2.1.0+cu118)\n",
            "Requirement already satisfied: pytorch-lightning in /usr/local/lib/python3.10/dist-packages (from ISLP) (2.1.2)\n",
            "Requirement already satisfied: torchmetrics in /usr/local/lib/python3.10/dist-packages (from ISLP) (1.2.1)\n",
            "Requirement already satisfied: python-dateutil>=2.8.1 in /usr/local/lib/python3.10/dist-packages (from pandas<=1.9,>=0.20->ISLP) (2.8.2)\n",
            "Requirement already satisfied: pytz>=2020.1 in /usr/local/lib/python3.10/dist-packages (from pandas<=1.9,>=0.20->ISLP) (2023.3.post1)\n",
            "Requirement already satisfied: threadpoolctl>=2.0.0 in /usr/local/lib/python3.10/dist-packages (from scikit-learn>=1.2->ISLP) (3.2.0)\n",
            "Requirement already satisfied: patsy>=0.5.2 in /usr/local/lib/python3.10/dist-packages (from statsmodels>=0.13->ISLP) (0.5.3)\n",
            "Requirement already satisfied: packaging>=21.3 in /usr/local/lib/python3.10/dist-packages (from statsmodels>=0.13->ISLP) (23.2)\n",
            "Requirement already satisfied: matplotlib>=3.0 in /usr/local/lib/python3.10/dist-packages (from lifelines->ISLP) (3.7.1)\n",
            "Requirement already satisfied: autograd>=1.5 in /usr/local/lib/python3.10/dist-packages (from lifelines->ISLP) (1.6.2)\n",
            "Requirement already satisfied: autograd-gamma>=0.3 in /usr/local/lib/python3.10/dist-packages (from lifelines->ISLP) (0.5.0)\n",
            "Requirement already satisfied: formulaic>=0.2.2 in /usr/local/lib/python3.10/dist-packages (from lifelines->ISLP) (0.6.6)\n",
            "Requirement already satisfied: progressbar2<5.0.0,>=4.2.0 in /usr/local/lib/python3.10/dist-packages (from pygam->ISLP) (4.2.0)\n",
            "Requirement already satisfied: tqdm>=4.57.0 in /usr/local/lib/python3.10/dist-packages (from pytorch-lightning->ISLP) (4.66.1)\n",
            "Requirement already satisfied: PyYAML>=5.4 in /usr/local/lib/python3.10/dist-packages (from pytorch-lightning->ISLP) (6.0.1)\n",
            "Requirement already satisfied: fsspec[http]>2021.06.0 in /usr/local/lib/python3.10/dist-packages (from pytorch-lightning->ISLP) (2023.6.0)\n",
            "Requirement already satisfied: typing-extensions>=4.0.0 in /usr/local/lib/python3.10/dist-packages (from pytorch-lightning->ISLP) (4.5.0)\n",
            "Requirement already satisfied: lightning-utilities>=0.8.0 in /usr/local/lib/python3.10/dist-packages (from pytorch-lightning->ISLP) (0.10.0)\n",
            "Requirement already satisfied: filelock in /usr/local/lib/python3.10/dist-packages (from torch->ISLP) (3.13.1)\n",
            "Requirement already satisfied: sympy in /usr/local/lib/python3.10/dist-packages (from torch->ISLP) (1.12)\n",
            "Requirement already satisfied: networkx in /usr/local/lib/python3.10/dist-packages (from torch->ISLP) (3.2.1)\n",
            "Requirement already satisfied: jinja2 in /usr/local/lib/python3.10/dist-packages (from torch->ISLP) (3.1.2)\n",
            "Requirement already satisfied: triton==2.1.0 in /usr/local/lib/python3.10/dist-packages (from torch->ISLP) (2.1.0)\n",
            "Requirement already satisfied: future>=0.15.2 in /usr/local/lib/python3.10/dist-packages (from autograd>=1.5->lifelines->ISLP) (0.18.3)\n",
            "Requirement already satisfied: astor>=0.8 in /usr/local/lib/python3.10/dist-packages (from formulaic>=0.2.2->lifelines->ISLP) (0.8.1)\n",
            "Requirement already satisfied: interface-meta>=1.2.0 in /usr/local/lib/python3.10/dist-packages (from formulaic>=0.2.2->lifelines->ISLP) (1.3.0)\n",
            "Requirement already satisfied: wrapt>=1.0 in /usr/local/lib/python3.10/dist-packages (from formulaic>=0.2.2->lifelines->ISLP) (1.14.1)\n",
            "Requirement already satisfied: requests in /usr/local/lib/python3.10/dist-packages (from fsspec[http]>2021.06.0->pytorch-lightning->ISLP) (2.31.0)\n",
            "Requirement already satisfied: aiohttp!=4.0.0a0,!=4.0.0a1 in /usr/local/lib/python3.10/dist-packages (from fsspec[http]>2021.06.0->pytorch-lightning->ISLP) (3.9.1)\n",
            "Requirement already satisfied: setuptools in /usr/local/lib/python3.10/dist-packages (from lightning-utilities>=0.8.0->pytorch-lightning->ISLP) (67.7.2)\n",
            "Requirement already satisfied: contourpy>=1.0.1 in /usr/local/lib/python3.10/dist-packages (from matplotlib>=3.0->lifelines->ISLP) (1.2.0)\n",
            "Requirement already satisfied: cycler>=0.10 in /usr/local/lib/python3.10/dist-packages (from matplotlib>=3.0->lifelines->ISLP) (0.12.1)\n",
            "Requirement already satisfied: fonttools>=4.22.0 in /usr/local/lib/python3.10/dist-packages (from matplotlib>=3.0->lifelines->ISLP) (4.45.1)\n",
            "Requirement already satisfied: kiwisolver>=1.0.1 in /usr/local/lib/python3.10/dist-packages (from matplotlib>=3.0->lifelines->ISLP) (1.4.5)\n",
            "Requirement already satisfied: pillow>=6.2.0 in /usr/local/lib/python3.10/dist-packages (from matplotlib>=3.0->lifelines->ISLP) (9.4.0)\n",
            "Requirement already satisfied: pyparsing>=2.3.1 in /usr/local/lib/python3.10/dist-packages (from matplotlib>=3.0->lifelines->ISLP) (3.1.1)\n",
            "Requirement already satisfied: six in /usr/local/lib/python3.10/dist-packages (from patsy>=0.5.2->statsmodels>=0.13->ISLP) (1.16.0)\n",
            "Requirement already satisfied: python-utils>=3.0.0 in /usr/local/lib/python3.10/dist-packages (from progressbar2<5.0.0,>=4.2.0->pygam->ISLP) (3.8.1)\n",
            "Requirement already satisfied: MarkupSafe>=2.0 in /usr/local/lib/python3.10/dist-packages (from jinja2->torch->ISLP) (2.1.3)\n",
            "Requirement already satisfied: mpmath>=0.19 in /usr/local/lib/python3.10/dist-packages (from sympy->torch->ISLP) (1.3.0)\n",
            "Requirement already satisfied: attrs>=17.3.0 in /usr/local/lib/python3.10/dist-packages (from aiohttp!=4.0.0a0,!=4.0.0a1->fsspec[http]>2021.06.0->pytorch-lightning->ISLP) (23.1.0)\n",
            "Requirement already satisfied: multidict<7.0,>=4.5 in /usr/local/lib/python3.10/dist-packages (from aiohttp!=4.0.0a0,!=4.0.0a1->fsspec[http]>2021.06.0->pytorch-lightning->ISLP) (6.0.4)\n",
            "Requirement already satisfied: yarl<2.0,>=1.0 in /usr/local/lib/python3.10/dist-packages (from aiohttp!=4.0.0a0,!=4.0.0a1->fsspec[http]>2021.06.0->pytorch-lightning->ISLP) (1.9.3)\n",
            "Requirement already satisfied: frozenlist>=1.1.1 in /usr/local/lib/python3.10/dist-packages (from aiohttp!=4.0.0a0,!=4.0.0a1->fsspec[http]>2021.06.0->pytorch-lightning->ISLP) (1.4.0)\n",
            "Requirement already satisfied: aiosignal>=1.1.2 in /usr/local/lib/python3.10/dist-packages (from aiohttp!=4.0.0a0,!=4.0.0a1->fsspec[http]>2021.06.0->pytorch-lightning->ISLP) (1.3.1)\n",
            "Requirement already satisfied: async-timeout<5.0,>=4.0 in /usr/local/lib/python3.10/dist-packages (from aiohttp!=4.0.0a0,!=4.0.0a1->fsspec[http]>2021.06.0->pytorch-lightning->ISLP) (4.0.3)\n",
            "Requirement already satisfied: charset-normalizer<4,>=2 in /usr/local/lib/python3.10/dist-packages (from requests->fsspec[http]>2021.06.0->pytorch-lightning->ISLP) (3.3.2)\n",
            "Requirement already satisfied: idna<4,>=2.5 in /usr/local/lib/python3.10/dist-packages (from requests->fsspec[http]>2021.06.0->pytorch-lightning->ISLP) (3.6)\n",
            "Requirement already satisfied: urllib3<3,>=1.21.1 in /usr/local/lib/python3.10/dist-packages (from requests->fsspec[http]>2021.06.0->pytorch-lightning->ISLP) (2.0.7)\n",
            "Requirement already satisfied: certifi>=2017.4.17 in /usr/local/lib/python3.10/dist-packages (from requests->fsspec[http]>2021.06.0->pytorch-lightning->ISLP) (2023.11.17)\n"
          ]
        }
      ]
    },
    {
      "cell_type": "code",
      "execution_count": null,
      "metadata": {
        "id": "VCSoDHEdhpQL"
      },
      "outputs": [],
      "source": [
        "import torch\n",
        "import numpy as np\n",
        "import matplotlib.pyplot as plt\n",
        "from torch.utils.data import TensorDataset, DataLoader"
      ]
    },
    {
      "cell_type": "markdown",
      "source": [
        "# Problem 1: Iris data"
      ],
      "metadata": {
        "id": "GUxpo0IdNzmp"
      }
    },
    {
      "cell_type": "markdown",
      "source": [
        "We will be using the famous Iris dataset, which contains measurements of the sepal length, sepal width, petal length, and petal width for three species of iris flowers (Iris setosa, Iris versicolor, and Iris virginica). The goal is to predict the species of an iris flower based on these measurements."
      ],
      "metadata": {
        "id": "_dPfo6OoSXGe"
      }
    },
    {
      "cell_type": "code",
      "source": [
        "import torch\n",
        "import numpy as np\n",
        "import matplotlib.pyplot as plt\n",
        "from torch.utils.data import TensorDataset, DataLoader"
      ],
      "metadata": {
        "id": "hQeww8EnQIF1"
      },
      "execution_count": null,
      "outputs": []
    },
    {
      "cell_type": "code",
      "source": [
        "from sklearn.datasets import load_iris\n",
        "from sklearn.model_selection import train_test_split\n",
        "\n",
        "# Load the Iris dataset\n",
        "iris = load_iris()\n",
        "\n",
        "# Convert the data to PyTorch tensors\n",
        "X = torch.tensor(iris.data, dtype=torch.float32)\n",
        "y = torch.tensor(iris.target, dtype=torch.long)\n",
        "\n",
        "t = torch.nn.functional.one_hot(torch.tensor(y, dtype=torch.int64), num_classes=3)\n",
        "t = torch.tensor(t, dtype=torch.float32)\n",
        "\n",
        "\n",
        "# Normalize the input data\n",
        "mean = torch.mean(X, dim=0)\n",
        "std = torch.std(X, dim=0)\n",
        "X = (X - mean) / std\n",
        "\n",
        "# Split the dataset into training and validation sets\n",
        "X_train, X_val, t_train, t_val = train_test_split(X, t, test_size=0.2, random_state=42)\n",
        "\n",
        "# Create PyTorch Datasets\n",
        "train_dataset = TensorDataset(X_train, t_train)\n",
        "val_dataset = TensorDataset(X_val, t_val)\n",
        "\n",
        "# Define the data loaders\n",
        "batch_size = 32\n",
        "train_loader = DataLoader(train_dataset, batch_size=batch_size, shuffle=True)\n",
        "test_loader = DataLoader(val_dataset, batch_size=batch_size, shuffle=False)"
      ],
      "metadata": {
        "colab": {
          "base_uri": "https://localhost:8080/"
        },
        "id": "Kyo_KXiCSHBM",
        "outputId": "b93cc0dc-dbe0-4317-f275-d9b3ddd33f40"
      },
      "execution_count": null,
      "outputs": [
        {
          "output_type": "stream",
          "name": "stderr",
          "text": [
            "<ipython-input-3-d11aa3dd3743>:11: UserWarning: To copy construct from a tensor, it is recommended to use sourceTensor.clone().detach() or sourceTensor.clone().detach().requires_grad_(True), rather than torch.tensor(sourceTensor).\n",
            "  t = torch.nn.functional.one_hot(torch.tensor(y, dtype=torch.int64), num_classes=3)\n",
            "<ipython-input-3-d11aa3dd3743>:12: UserWarning: To copy construct from a tensor, it is recommended to use sourceTensor.clone().detach() or sourceTensor.clone().detach().requires_grad_(True), rather than torch.tensor(sourceTensor).\n",
            "  t = torch.tensor(t, dtype=torch.float32)\n"
          ]
        }
      ]
    },
    {
      "cell_type": "markdown",
      "source": [
        "Use `neural networks` and `multinomial logistic regression model` to classiy the iris, and calculate the test error. Try to provide the best `neural networks` with the smallest test error rate."
      ],
      "metadata": {
        "id": "NNktCPQ3Sf-w"
      }
    },
    {
      "cell_type": "code",
      "source": [
        "## neural network\n",
        "# neural network class 생성\n",
        "class my_dn(torch.nn.Module):\n",
        "    def __init__(self):\n",
        "        super().__init__()\n",
        "        self.linear1 = torch.nn.Linear(4, 128)\n",
        "        self.linear2 = torch.nn.Linear(128, 64)\n",
        "        self.linear3 = torch.nn.Linear(64, 32)\n",
        "        self.linear4 = torch.nn.Linear(32, 3)\n",
        "        self.relu1 = torch.nn.ReLU()\n",
        "    def forward(self, x):\n",
        "        x = self.linear1(x)\n",
        "        x = self.relu1(x)\n",
        "        x = self.linear2(x)\n",
        "        x = self.relu1(x)\n",
        "        x = self.linear3(x)\n",
        "        x = self.relu1(x)\n",
        "        x = self.linear4(x)\n",
        "        x = self.relu1(x)\n",
        "        return x"
      ],
      "metadata": {
        "id": "N5F4qFXHOA5e"
      },
      "execution_count": null,
      "outputs": []
    },
    {
      "cell_type": "code",
      "source": [
        "# model, loss ftn, optimizer 정의\n",
        "DN = my_dn()\n",
        "loss_ftn = torch.nn.CrossEntropyLoss()\n",
        "optimizer = torch.optim.SGD(DN.parameters(), lr=0.01)\n",
        "\n",
        "history = []\n",
        "epochs = 100000\n",
        "\n",
        "for epoch in range(epochs):\n",
        "  running_loss = 0\n",
        "  for xx, tt in train_loader:\n",
        "    optimizer.zero_grad()\n",
        "    zhat = DN(xx)\n",
        "    loss = loss_ftn(zhat, tt)\n",
        "    loss.backward()\n",
        "    optimizer.step()\n",
        "    running_loss += loss.item()*len(xx)\n",
        "  history.append(running_loss/len(train_loader.dataset))\n",
        "\n",
        "plt.plot(history)"
      ],
      "metadata": {
        "colab": {
          "base_uri": "https://localhost:8080/",
          "height": 449
        },
        "id": "eKUas4YUTCGa",
        "outputId": "e02966cf-5630-44ee-a613-9ed110dadf32"
      },
      "execution_count": null,
      "outputs": [
        {
          "output_type": "execute_result",
          "data": {
            "text/plain": [
              "[<matplotlib.lines.Line2D at 0x7edbfe10ae30>]"
            ]
          },
          "metadata": {},
          "execution_count": 6
        },
        {
          "output_type": "display_data",
          "data": {
            "text/plain": [
              "<Figure size 640x480 with 1 Axes>"
            ],
            "image/png": "[encoded data removed]"
          },
          "metadata": {}
        }
      ]
    },
    {
      "cell_type": "code",
      "source": [
        "# accuracy 계산\n",
        "for xx, tt in test_loader:\n",
        "    zhat_test = DN(xx) #x_test: [n_test, 4]\n",
        "    Q_test = torch.softmax(zhat_test, axis=1) # Q_test: [n_test, 3]\n",
        "    y_hat = torch.argmax(Q_test, axis=1).to(torch.float32) #y_hat: [n_test,]\n",
        "    yy    = torch.argmax(tt, axis=1).to(torch.float32) #y_hat: [n_test,]\n",
        "\n",
        "accuracy = sum(y_hat == yy)/len(val_dataset)\n",
        "accuracy"
      ],
      "metadata": {
        "colab": {
          "base_uri": "https://localhost:8080/"
        },
        "id": "ViSjzcWDhcsE",
        "outputId": "cd15f94c-c3fa-446e-b4ea-145ddfeb4562"
      },
      "execution_count": null,
      "outputs": [
        {
          "output_type": "execute_result",
          "data": {
            "text/plain": [
              "tensor(0.7000)"
            ]
          },
          "metadata": {},
          "execution_count": 7
        }
      ]
    },
    {
      "cell_type": "code",
      "source": [
        "# test error 계산\n",
        "test_error = 1 - accuracy\n",
        "test_error"
      ],
      "metadata": {
        "colab": {
          "base_uri": "https://localhost:8080/"
        },
        "id": "FoyaNsFLslh-",
        "outputId": "1ae586c9-15bc-4b89-9930-07af276071c7"
      },
      "execution_count": null,
      "outputs": [
        {
          "output_type": "execute_result",
          "data": {
            "text/plain": [
              "tensor(0.3000)"
            ]
          },
          "metadata": {},
          "execution_count": 8
        }
      ]
    },
    {
      "cell_type": "markdown",
      "source": [
        "## Exercise 2.3.3. Iris data"
      ],
      "metadata": {
        "id": "jL6Q41VhSDtg"
      }
    },
    {
      "cell_type": "markdown",
      "source": [
        "We will be using the famous Iris dataset, which contains measurements of the sepal length, sepal width, petal length, and petal width for three species of iris flowers (Iris setosa, Iris versicolor, and Iris virginica). The goal is to predict the species of an iris flower based on these measurements."
      ],
      "metadata": {
        "id": "hLwA7VKyOcwp"
      }
    },
    {
      "cell_type": "code",
      "source": [
        "from sklearn.datasets import load_iris\n",
        "from sklearn.model_selection import train_test_split\n",
        "\n",
        "# Load the Iris dataset\n",
        "iris = load_iris()\n",
        "\n",
        "# Convert the data to PyTorch tensors\n",
        "X = torch.tensor(iris.data, dtype=torch.float32)\n",
        "y = torch.tensor(iris.target, dtype=torch.long)\n",
        "\n",
        "t = torch.nn.functional.one_hot(torch.tensor(y, dtype=torch.int64), num_classes=3)\n",
        "t = torch.tensor(t, dtype=torch.float32)\n",
        "\n",
        "\n",
        "# Normalize the input data\n",
        "mean = torch.mean(X, dim=0)\n",
        "std = torch.std(X, dim=0)\n",
        "X = (X - mean) / std\n",
        "\n",
        "# Split the dataset into training and validation sets\n",
        "X_train, X_val, t_train, t_val = train_test_split(X, t, test_size=0.2, random_state=42)\n",
        "\n",
        "# Create PyTorch Datasets\n",
        "train_dataset = TensorDataset(X_train, t_train)\n",
        "val_dataset = TensorDataset(X_val, t_val)\n",
        "\n",
        "# Define the data loaders\n",
        "batch_size = 16\n",
        "train_loader = DataLoader(train_dataset, batch_size=batch_size, shuffle=True)\n",
        "test_loader = DataLoader(val_dataset, batch_size=batch_size, shuffle=False)"
      ],
      "metadata": {
        "colab": {
          "base_uri": "https://localhost:8080/"
        },
        "outputId": "c6480456-05fb-493f-cbfe-726c084c84b6",
        "id": "MapnLbhTOcwp"
      },
      "execution_count": null,
      "outputs": [
        {
          "output_type": "stream",
          "name": "stderr",
          "text": [
            "<ipython-input-9-8c6f6fee426b>:11: UserWarning: To copy construct from a tensor, it is recommended to use sourceTensor.clone().detach() or sourceTensor.clone().detach().requires_grad_(True), rather than torch.tensor(sourceTensor).\n",
            "  t = torch.nn.functional.one_hot(torch.tensor(y, dtype=torch.int64), num_classes=3)\n",
            "<ipython-input-9-8c6f6fee426b>:12: UserWarning: To copy construct from a tensor, it is recommended to use sourceTensor.clone().detach() or sourceTensor.clone().detach().requires_grad_(True), rather than torch.tensor(sourceTensor).\n",
            "  t = torch.tensor(t, dtype=torch.float32)\n"
          ]
        }
      ]
    },
    {
      "cell_type": "markdown",
      "source": [
        "Use multinomial logistic regression model to classify the iris, and calculate the test error."
      ],
      "metadata": {
        "id": "y07LmOd0Ocwq"
      }
    },
    {
      "cell_type": "code",
      "source": [
        "## logistic regression model\n",
        "# model 정의\n",
        "z_model = torch.nn.Linear(4, 3, bias=True)\n",
        "# loss function 정의\n",
        "loss_fn = torch.nn.CrossEntropyLoss(reduction='mean')\n",
        "# optimizer 정의\n",
        "optimizer = torch.optim.SGD(z_model.parameters(), lr=0.01)\n",
        "# 초기화 및 parameter정의\n",
        "history = []\n",
        "epochs = 100000\n",
        "n = len(train_loader.dataset)\n",
        "# model\n",
        "for epoch in range(epochs):\n",
        "  epoch_loss = 0.0\n",
        "  for xx, tt in train_loader:\n",
        "    zhat = z_model(xx) #xx@W+b\n",
        "    loss = loss_fn(zhat, tt) # loss 계산\n",
        "    loss.backward()\n",
        "    epoch_loss += loss.item()*len(xx)\n",
        "    optimizer.step()\n",
        "    optimizer.zero_grad()\n",
        "  history.append(epoch_loss/n)\n",
        "plt.plot(history)"
      ],
      "metadata": {
        "colab": {
          "base_uri": "https://localhost:8080/",
          "height": 449
        },
        "id": "E_ss5CRnQks1",
        "outputId": "8f9884fe-4905-4fb4-8f7d-aa10f6932949"
      },
      "execution_count": null,
      "outputs": [
        {
          "output_type": "execute_result",
          "data": {
            "text/plain": [
              "[<matplotlib.lines.Line2D at 0x7edbfb598be0>]"
            ]
          },
          "metadata": {},
          "execution_count": 10
        },
        {
          "output_type": "display_data",
          "data": {
            "text/plain": [
              "<Figure size 640x480 with 1 Axes>"
            ],
            "image/png": "[encoded data removed]"
          },
          "metadata": {}
        }
      ]
    },
    {
      "cell_type": "code",
      "source": [
        "# 정확도 계산 함수 생성\n",
        "def accuracy_ftn(qhat, t):\n",
        "  yhat = torch.argmax(qhat, axis=1).to(torch.float32)\n",
        "  y = torch.argmax(t, axis=1).to(torch.float32)\n",
        "  accuracy = torch.mean((y==yhat).to(torch.float32))\n",
        "  return accuracy"
      ],
      "metadata": {
        "id": "byLVyP5mqHYu"
      },
      "execution_count": null,
      "outputs": []
    },
    {
      "cell_type": "code",
      "source": [
        "# 정확도 계산\n",
        "zhat = z_model(X_val) # with test data\n",
        "qhat = torch.softmax(zhat, axis=1)\n",
        "accuracy = accuracy_ftn(qhat, t_val)\n",
        "accuracy # 정확도가 100%에 수렴한다."
      ],
      "metadata": {
        "colab": {
          "base_uri": "https://localhost:8080/"
        },
        "id": "MD3eYFQgqJYU",
        "outputId": "367859b7-27f3-4c60-a8f4-a99f3009009e"
      },
      "execution_count": null,
      "outputs": [
        {
          "output_type": "execute_result",
          "data": {
            "text/plain": [
              "tensor(1.)"
            ]
          },
          "metadata": {},
          "execution_count": 29
        }
      ]
    },
    {
      "cell_type": "code",
      "source": [
        "# test error 계산\n",
        "test_error = 1 - accuracy\n",
        "test_error"
      ],
      "metadata": {
        "colab": {
          "base_uri": "https://localhost:8080/"
        },
        "id": "NqA3kOJqqifm",
        "outputId": "1958e9b9-1805-4572-e056-1704cadfdef5"
      },
      "execution_count": null,
      "outputs": [
        {
          "output_type": "execute_result",
          "data": {
            "text/plain": [
              "tensor(0.)"
            ]
          },
          "metadata": {},
          "execution_count": 30
        }
      ]
    },
    {
      "cell_type": "markdown",
      "source": [
        "neural network에 비해 multinomial logistic regression의 test error가 더 낮은 것으로 볼 때, 이 경우에는 multinomial logistic regression이 더 좋은 모델이라고 할 수 있다."
      ],
      "metadata": {
        "id": "zVzI86un77Kf"
      }
    },
    {
      "cell_type": "markdown",
      "metadata": {
        "id": "6MMnjhQOPR-2"
      },
      "source": [
        "## Problem 2: Fashion MNIST data"
      ]
    },
    {
      "cell_type": "markdown",
      "metadata": {
        "id": "Q0wBOhSpRP6A"
      },
      "source": [
        "You are given the following fashion MNIST data. Use `the multinomial regression` and `neural networks` so that the model can determine the label from the images. Calculate the test accuracy. Compare your test accuracy with that of the `linear` version of the `multinomial regression`.\n"
      ]
    },
    {
      "cell_type": "markdown",
      "source": [
        "Hint: Each training and test example is assigned to one of the following labels:\n",
        "\n",
        "0 T-shirt/top\n",
        "\n",
        "1 Trouser\n",
        "\n",
        "2 Pullover\n",
        "\n",
        "3 Dress\n",
        "\n",
        "4 Coat\n",
        "\n",
        "5 Sandal\n",
        "\n",
        "6 Shirt\n",
        "\n",
        "7 Sneaker\n",
        "\n",
        "8 Bag\n",
        "\n",
        "9 Ankle boot"
      ],
      "metadata": {
        "id": "f0332X2pWmn0"
      }
    },
    {
      "cell_type": "code",
      "execution_count": null,
      "metadata": {
        "id": "E-OllAGT6pr-"
      },
      "outputs": [],
      "source": [
        "import torch\n",
        "from torch import nn, optim\n",
        "import torch.nn.functional as F\n",
        "from torch.utils.data import DataLoader\n",
        "from torchvision import datasets, transforms\n",
        "import matplotlib.pyplot as plt"
      ]
    },
    {
      "cell_type": "code",
      "execution_count": null,
      "metadata": {
        "id": "Y2dqyxnr6psU"
      },
      "outputs": [],
      "source": [
        "# transform to normalize the data\n",
        "transform = transforms.Compose([transforms.ToTensor(),\n",
        "                                transforms.Normalize((0.5,), (0.5,))])\n",
        "\n",
        "# Download and load the training data\n",
        "trainset = datasets.FashionMNIST('./data', download=True, train=True, transform=transform)\n",
        "train_loader = DataLoader(trainset, batch_size=64, shuffle=True)\n",
        "\n",
        "# Download and load the test data\n",
        "validationset = datasets.FashionMNIST('./data', download=True, train=False, transform=transform)\n",
        "test_loader = DataLoader(validationset, batch_size=64, shuffle=True)"
      ]
    },
    {
      "cell_type": "code",
      "source": [
        "xx, yy = trainset[0]"
      ],
      "metadata": {
        "id": "fH_-sM1iXlj4"
      },
      "execution_count": null,
      "outputs": []
    },
    {
      "cell_type": "code",
      "source": [
        "plt.imshow(xx.reshape(28,28))\n",
        "my_name = { 0: \"T-shirt/top\", 1: \"Trouser\",\n",
        "              2: \"Pullover\", 3: \"Dress\", 4: \"Coat\", 5: \"Sandal\", 6: \"Shirt\", 7: \"Sneaker\", 8: \"Bag\", 9: \"Ankle boot\"}\n",
        "print(my_name[yy])"
      ],
      "metadata": {
        "colab": {
          "base_uri": "https://localhost:8080/",
          "height": 449
        },
        "id": "PEu4G4HsXug4",
        "outputId": "ec590cc1-1745-444b-b5ae-ca74be17eeae"
      },
      "execution_count": null,
      "outputs": [
        {
          "output_type": "stream",
          "name": "stdout",
          "text": [
            "Ankle boot\n"
          ]
        },
        {
          "output_type": "display_data",
          "data": {
            "text/plain": [
              "<Figure size 640x480 with 1 Axes>"
            ],
            "image/png": "[encoded data removed]"
          },
          "metadata": {}
        }
      ]
    },
    {
      "cell_type": "markdown",
      "source": [
        "< multinomial regression >"
      ],
      "metadata": {
        "id": "UH5emjIO826D"
      }
    },
    {
      "cell_type": "code",
      "source": [
        "# model 정의\n",
        "z_model2 = torch.nn.Linear(784, 10, bias=True)\n",
        "loss_fn = torch.nn.CrossEntropyLoss(reduction='mean')\n",
        "\n",
        "# optimizer 정의\n",
        "optimizer = torch.optim.SGD(z_model2.parameters(), lr=0.01)\n",
        "\n",
        "# parameter 정의\n",
        "history = []\n",
        "epochs = 100\n",
        "n = len(train_loader.dataset)\n",
        "\n",
        "# modeling\n",
        "for epoch in range(epochs):\n",
        "  epoch_loss = 0.0\n",
        "  for xx, tt in train_loader:\n",
        "    zhat = z_model2(xx.reshape(-1,784)) #xx@W+b\n",
        "    loss = loss_fn(zhat, tt)\n",
        "    loss.backward()\n",
        "    epoch_loss += loss.item()*len(xx)\n",
        "    optimizer.step()\n",
        "    optimizer.zero_grad()\n",
        "\n",
        "  history.append(epoch_loss/n)\n",
        "\n",
        "# history plot\n",
        "plt.plot(history)"
      ],
      "metadata": {
        "colab": {
          "base_uri": "https://localhost:8080/",
          "height": 449
        },
        "id": "OvWNtATIqxXk",
        "outputId": "a9c37cfe-0ae0-4158-81ff-daf34143dcdc"
      },
      "execution_count": null,
      "outputs": [
        {
          "output_type": "execute_result",
          "data": {
            "text/plain": [
              "[<matplotlib.lines.Line2D at 0x7e128c8144f0>]"
            ]
          },
          "metadata": {},
          "execution_count": 32
        },
        {
          "output_type": "display_data",
          "data": {
            "text/plain": [
              "<Figure size 640x480 with 1 Axes>"
            ],
            "image/png": "[encoded data removed]"
          },
          "metadata": {}
        }
      ]
    },
    {
      "cell_type": "code",
      "source": [
        "# accuracy 계산\n",
        "sum_acc = 0\n",
        "for xx, tt in test_loader:\n",
        "    zhat_test = z_model2(xx.reshape(-1,28*28)) #x_test: [n_test, 784]\n",
        "    Q_test = torch.softmax(zhat_test, axis=1) # Q_test: [n_test, 10]\n",
        "    y_hat = torch.argmax(Q_test, axis=1).to(torch.float32) #y_hat: [n_test,]\n",
        "    sum_acc += torch.sum(y_hat == tt)\n",
        "\n",
        "accuracy = sum_acc/len(validationset)\n",
        "print('multinomial accuracy:', accuracy)"
      ],
      "metadata": {
        "colab": {
          "base_uri": "https://localhost:8080/"
        },
        "id": "_f3xdiqE2nLb",
        "outputId": "c834872d-9b5d-4381-a832-7f569ff14b0c"
      },
      "execution_count": null,
      "outputs": [
        {
          "output_type": "stream",
          "name": "stdout",
          "text": [
            "multinomial accuracy: tensor(0.8424)\n"
          ]
        }
      ]
    },
    {
      "cell_type": "markdown",
      "source": [
        "< neural network >"
      ],
      "metadata": {
        "id": "2n15PsaX8y_i"
      }
    },
    {
      "cell_type": "code",
      "source": [
        "# class를 이용해 neural network 생성\n",
        "class my_dn2(torch.nn.Module):\n",
        "    def __init__(self):\n",
        "        super().__init__()\n",
        "        self.linear1 = torch.nn.Linear(784, 128)\n",
        "        self.relu1 = torch.nn.ReLU()\n",
        "        self.linear2 = torch.nn.Linear(128, 64)\n",
        "        self.linear3 = torch.nn.Linear(64, 32)\n",
        "        self.linear4 = torch.nn.Linear(32, 10)\n",
        "    def forward(self, x):\n",
        "        x = self.linear1(x)\n",
        "        x = self.relu1(x)\n",
        "        x = self.linear2(x)\n",
        "        x = self.relu1(x)\n",
        "        x = self.linear3(x)\n",
        "        x = self.relu1(x)\n",
        "        x = self.linear4(x)\n",
        "        x = self.relu1(x)\n",
        "        return x"
      ],
      "metadata": {
        "id": "nWwn3WV7qrh3"
      },
      "execution_count": null,
      "outputs": []
    },
    {
      "cell_type": "code",
      "source": [
        "# model 정의\n",
        "DN2 = my_dn2()\n",
        "# loss function 정의\n",
        "loss_ftn = torch.nn.CrossEntropyLoss()\n",
        "# optimizer 정의\n",
        "optimizer = torch.optim.SGD(DN2.parameters(), lr=0.01)\n",
        "# parameter 정의\n",
        "epochs = 100\n",
        "history = []\n",
        "# modeling\n",
        "for epoch in range(epochs):\n",
        "  running_loss = 0\n",
        "  for xx, tt in train_loader:\n",
        "    optimizer.zero_grad()\n",
        "    zhat = DN2(xx.reshape(-1,784))\n",
        "    loss = loss_ftn(zhat, tt)\n",
        "    loss.backward()\n",
        "    optimizer.step()\n",
        "    running_loss += loss.item()*len(xx)\n",
        "  history.append(running_loss/len(train_loader.dataset))\n",
        "# history plot 그리기\n",
        "plt.plot(history)"
      ],
      "metadata": {
        "colab": {
          "base_uri": "https://localhost:8080/",
          "height": 449
        },
        "id": "47aylHfkrJHd",
        "outputId": "f211609d-d733-4395-fd5c-edc660862a6f"
      },
      "execution_count": null,
      "outputs": [
        {
          "output_type": "execute_result",
          "data": {
            "text/plain": [
              "[<matplotlib.lines.Line2D at 0x7e128c6b15a0>]"
            ]
          },
          "metadata": {},
          "execution_count": 35
        },
        {
          "output_type": "display_data",
          "data": {
            "text/plain": [
              "<Figure size 640x480 with 1 Axes>"
            ],
            "image/png": "[encoded data removed]"
          },
          "metadata": {}
        }
      ]
    },
    {
      "cell_type": "code",
      "source": [
        "# accuracy 계산\n",
        "sum_acc = 0\n",
        "for xx, tt in test_loader:\n",
        "    zhat_test = DN2(xx.reshape(-1,28*28)) #x_test: [n_test, 784]\n",
        "    Q_test = torch.softmax(zhat_test, axis=1) # Q_test: [n_test, 10]\n",
        "    y_hat = torch.argmax(Q_test, axis=1).to(torch.float32) #y_hat: [n_test,]\n",
        "    sum_acc += torch.sum(y_hat == tt)\n",
        "\n",
        "accuracy = sum_acc/len(validationset)\n",
        "print('DN accuracy:', accuracy)"
      ],
      "metadata": {
        "colab": {
          "base_uri": "https://localhost:8080/"
        },
        "id": "YVJcgZul9W5A",
        "outputId": "7f7e4ec7-06e0-4637-c7d3-1001b470c07b"
      },
      "execution_count": null,
      "outputs": [
        {
          "output_type": "stream",
          "name": "stdout",
          "text": [
            "DN accuracy: tensor(0.8134)\n"
          ]
        }
      ]
    },
    {
      "cell_type": "markdown",
      "source": [
        "neural network에 비해 multinomial logistic regression의 test accuracy가 더 높은 것으로 볼 때, 이 경우에는 multinomial logistic regression이 더 좋은 모델이라고 할 수 있다."
      ],
      "metadata": {
        "id": "UTBpVaYK8v1j"
      }
    }
  ]
}