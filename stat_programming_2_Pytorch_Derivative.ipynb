{
  "nbformat": 4,
  "nbformat_minor": 5,
  "metadata": {
    "accelerator": "GPU",
    "colab": {
      "provenance": [],
      "machine_shape": "hm",
      "include_colab_link": true
    },
    "kernelspec": {
      "name": "python3",
      "display_name": "Python 3"
    },
    "language_info": {
      "name": "python"
    }
  },
  "cells": [
    {
      "cell_type": "markdown",
      "metadata": {
        "id": "view-in-github",
        "colab_type": "text"
      },
      "source": [
        "<a href=\"https://colab.research.google.com/github/snghynn/stat_programming/blob/main/stat_programming_2_Pytorch_Derivative.ipynb\" target=\"_parent\"><img src=\"https://colab.research.google.com/assets/colab-badge.svg\" alt=\"Open In Colab\"/></a>"
      ]
    },
    {
      "cell_type": "code",
      "source": [
        "import torch\n",
        "import matplotlib.pyplot as plt\n",
        "import torch.autograd as autograd\n",
        "from autograd import grad"
      ],
      "metadata": {
        "id": "_PB0jAxN21Yv"
      },
      "id": "_PB0jAxN21Yv",
      "execution_count": null,
      "outputs": []
    },
    {
      "cell_type": "markdown",
      "source": [
        "## Problem 1:\n",
        "\n",
        "You are given $X$ and $Y$. Using the linear regression, you want to have the following model\n",
        "\n",
        "$\\widehat{Y}=\\widehat{\\beta}_0+\\widehat{\\beta}_1X$\n",
        "\n",
        "by minimizing the following square loss\n",
        "\n",
        "$g(\\beta_0, \\beta_1)=\\sum\\limits_{i=1}^{20}(y_i-(\\beta_0+\\beta_1 x_i))^2$.\n",
        "\n",
        "Answer the following questions."
      ],
      "metadata": {
        "id": "c4RGZgC-BPcx"
      },
      "id": "c4RGZgC-BPcx"
    },
    {
      "cell_type": "code",
      "source": [
        "X=torch.tensor([-3.0000e+00, -2.7000e+00, -2.4000e+00, -2.1000e+00, -1.8000e+00,\n",
        "        -1.5000e+00, -1.2000e+00, -9.0000e-01, -6.0000e-01, -3.0000e-01,\n",
        "        -2.3842e-08,  3.0000e-01,  6.0000e-01,  9.0000e-01,  1.2000e+00,\n",
        "         1.5000e+00,  1.8000e+00,  2.1000e+00,  2.4000e+00,  2.7000e+00])"
      ],
      "metadata": {
        "id": "rj-hsS6h7rl1"
      },
      "id": "rj-hsS6h7rl1",
      "execution_count": null,
      "outputs": []
    },
    {
      "cell_type": "code",
      "source": [
        "Y = torch.tensor([-7.1452, -5.4253, -5.1977, -3.6225, -3.8022, -4.4101, -4.6622, -3.1932,\n",
        "        -1.7325, -1.8879, -1.0742, -0.2320,  1.8226,  1.5453, -1.5535,  0.8857,\n",
        "         1.7537,  3.1607,  1.8912,  4.0895])"
      ],
      "metadata": {
        "id": "-J--aAeqBTKV"
      },
      "id": "-J--aAeqBTKV",
      "execution_count": null,
      "outputs": []
    },
    {
      "cell_type": "markdown",
      "source": [
        "1. Calculate grad $g$ at $(\\beta_0, \\beta_1)=(1.0, 0.5)$ without using autograd."
      ],
      "metadata": {
        "id": "T11cHxPtz3HN"
      },
      "id": "T11cHxPtz3HN"
    },
    {
      "cell_type": "code",
      "source": [
        "# beta 지정\n",
        "beta0 = 1.0\n",
        "beta1 = 0.5\n",
        "\n",
        "# beta0에 대한 grad 계산\n",
        "grad_beta0_manual = -2 * torch.sum(Y - (beta0 + beta1 * X))\n",
        "# beta1에 대한 grad 계산\n",
        "grad_beta1_manual = -2 * torch.sum(X * (Y - (beta0 + beta1 * X)))\n",
        "\n",
        "print(grad_beta0_manual)\n",
        "print(grad_beta1_manual)"
      ],
      "metadata": {
        "id": "HVUuut1iBXLM",
        "colab": {
          "base_uri": "https://localhost:8080/"
        },
        "outputId": "4d193380-52c3-44f9-ef47-2a9f65b8aebd"
      },
      "id": "HVUuut1iBXLM",
      "execution_count": null,
      "outputs": [
        {
          "output_type": "stream",
          "name": "stdout",
          "text": [
            "tensor(94.5796)\n",
            "tensor(-159.6058)\n"
          ]
        }
      ]
    },
    {
      "cell_type": "code",
      "source": [
        "from numpy import True_\n",
        "def lin_reg_ftn(x,y,betas):\n",
        "  return(sum((y-(betas[0]+betas[1]*x))**2))\n",
        "\n",
        "betas = torch.tensor([1.0, 0.5], requires_grad=True)\n",
        "f = lin_reg_ftn(X, Y, betas)\n",
        "f.backward()\n",
        "betas.grad"
      ],
      "metadata": {
        "colab": {
          "base_uri": "https://localhost:8080/"
        },
        "id": "LH3EqcZ8op3x",
        "outputId": "2f224c91-c240-4e3a-f95c-d9d5c4163fa7"
      },
      "id": "LH3EqcZ8op3x",
      "execution_count": null,
      "outputs": [
        {
          "output_type": "execute_result",
          "data": {
            "text/plain": [
              "tensor([  94.5796, -159.6058])"
            ]
          },
          "metadata": {},
          "execution_count": 6
        }
      ]
    },
    {
      "cell_type": "markdown",
      "source": [
        "2. Calculate grad $g$ at $(\\beta_0, \\beta_1)=(1.0, 0.5)$ using autograd.\n"
      ],
      "metadata": {
        "id": "2dmqqZJc0QQw"
      },
      "id": "2dmqqZJc0QQw"
    },
    {
      "cell_type": "code",
      "source": [
        "params = (X, Y, betas)\n",
        "torch.autograd.functional.jacobian(lin_reg_ftn, params)"
      ],
      "metadata": {
        "colab": {
          "base_uri": "https://localhost:8080/"
        },
        "id": "HRdOQj3Dpr-P",
        "outputId": "f438f05a-1759-4e2c-8c2f-e52dc930b1f4"
      },
      "id": "HRdOQj3Dpr-P",
      "execution_count": null,
      "outputs": [
        {
          "output_type": "execute_result",
          "data": {
            "text/plain": [
              "(tensor([ 6.6452,  5.0753,  4.9977,  3.5725,  3.9022,  4.6601,  5.0622,  3.7432,\n",
              "          2.4325,  2.7379,  2.0742,  1.3820, -0.5226, -0.0953,  3.1535,  0.8643,\n",
              "          0.1463, -1.1107,  0.3088, -1.7395]),\n",
              " tensor([-13.2904, -10.1506,  -9.9954,  -7.1450,  -7.8044,  -9.3202, -10.1244,\n",
              "          -7.4864,  -4.8650,  -5.4758,  -4.1484,  -2.7640,   1.0452,   0.1906,\n",
              "          -6.3070,  -1.7286,  -0.2926,   2.2214,  -0.6176,   3.4790]),\n",
              " tensor([  94.5796, -159.6058]))"
            ]
          },
          "metadata": {},
          "execution_count": 7
        }
      ]
    },
    {
      "cell_type": "markdown",
      "source": [
        "3. Reshape $X$ into the shape of $[20,1]$ and name it as $XX$. Then, calculate grad $g$ at $(\\beta_0, \\beta_1)=(1.0, 0.5)$ using autograd. (Caution: your answer should be the same as in 2.)\n",
        "\n",
        "\n",
        "---\n",
        "\n"
      ],
      "metadata": {
        "id": "TX71XAoi1DiU"
      },
      "id": "TX71XAoi1DiU"
    },
    {
      "cell_type": "code",
      "source": [
        "# Reshape X into [20, 1]\n",
        "XX = X.reshape(20, 1)\n",
        "XX"
      ],
      "metadata": {
        "colab": {
          "base_uri": "https://localhost:8080/"
        },
        "id": "gg24nGAxflL5",
        "outputId": "4175e111-5c7a-42d3-839e-576e073eb8be"
      },
      "id": "gg24nGAxflL5",
      "execution_count": null,
      "outputs": [
        {
          "output_type": "execute_result",
          "data": {
            "text/plain": [
              "tensor([[-3.0000e+00],\n",
              "        [-2.7000e+00],\n",
              "        [-2.4000e+00],\n",
              "        [-2.1000e+00],\n",
              "        [-1.8000e+00],\n",
              "        [-1.5000e+00],\n",
              "        [-1.2000e+00],\n",
              "        [-9.0000e-01],\n",
              "        [-6.0000e-01],\n",
              "        [-3.0000e-01],\n",
              "        [-2.3842e-08],\n",
              "        [ 3.0000e-01],\n",
              "        [ 6.0000e-01],\n",
              "        [ 9.0000e-01],\n",
              "        [ 1.2000e+00],\n",
              "        [ 1.5000e+00],\n",
              "        [ 1.8000e+00],\n",
              "        [ 2.1000e+00],\n",
              "        [ 2.4000e+00],\n",
              "        [ 2.7000e+00]])"
            ]
          },
          "metadata": {},
          "execution_count": 10
        }
      ]
    },
    {
      "cell_type": "code",
      "source": [
        "params = (XX, Y.reshape(20,1),betas) #Y까지 reshape해서 X와 같은 형태로 만들기\n",
        "torch.autograd.functional.jacobian(lin_reg_ftn, params)[-1]"
      ],
      "metadata": {
        "colab": {
          "base_uri": "https://localhost:8080/"
        },
        "id": "LiWrCfGsqDip",
        "outputId": "4e374201-8fd3-4d9a-caf2-c3bcf22baec5"
      },
      "id": "LiWrCfGsqDip",
      "execution_count": null,
      "outputs": [
        {
          "output_type": "execute_result",
          "data": {
            "text/plain": [
              "tensor([[  94.5796, -159.6058]])"
            ]
          },
          "metadata": {},
          "execution_count": 11
        }
      ]
    },
    {
      "cell_type": "markdown",
      "source": [
        "4. Stack $X$ and $Y$ to make $MY\\_data1$ of shape $[20,2]$. Then, calculate grad $g$ at $(\\beta_0, \\beta_1)=(1.0, 0.5)$ using autograd. (Caution: your answer should be the same as in 2.)"
      ],
      "metadata": {
        "id": "hSWNisI51ODE"
      },
      "id": "hSWNisI51ODE"
    },
    {
      "cell_type": "code",
      "source": [
        "# Stack X and Y to create MY_data1\n",
        "MY_data1 = torch.stack((X, Y), dim=1)\n",
        "MY_data1"
      ],
      "metadata": {
        "colab": {
          "base_uri": "https://localhost:8080/"
        },
        "id": "qsJmj9rCi_xi",
        "outputId": "38472686-e0b5-46ac-e8e9-29f5f5a9595a"
      },
      "id": "qsJmj9rCi_xi",
      "execution_count": null,
      "outputs": [
        {
          "output_type": "execute_result",
          "data": {
            "text/plain": [
              "tensor([[-3.0000e+00, -7.1452e+00],\n",
              "        [-2.7000e+00, -5.4253e+00],\n",
              "        [-2.4000e+00, -5.1977e+00],\n",
              "        [-2.1000e+00, -3.6225e+00],\n",
              "        [-1.8000e+00, -3.8022e+00],\n",
              "        [-1.5000e+00, -4.4101e+00],\n",
              "        [-1.2000e+00, -4.6622e+00],\n",
              "        [-9.0000e-01, -3.1932e+00],\n",
              "        [-6.0000e-01, -1.7325e+00],\n",
              "        [-3.0000e-01, -1.8879e+00],\n",
              "        [-2.3842e-08, -1.0742e+00],\n",
              "        [ 3.0000e-01, -2.3200e-01],\n",
              "        [ 6.0000e-01,  1.8226e+00],\n",
              "        [ 9.0000e-01,  1.5453e+00],\n",
              "        [ 1.2000e+00, -1.5535e+00],\n",
              "        [ 1.5000e+00,  8.8570e-01],\n",
              "        [ 1.8000e+00,  1.7537e+00],\n",
              "        [ 2.1000e+00,  3.1607e+00],\n",
              "        [ 2.4000e+00,  1.8912e+00],\n",
              "        [ 2.7000e+00,  4.0895e+00]])"
            ]
          },
          "metadata": {},
          "execution_count": 58
        }
      ]
    },
    {
      "cell_type": "code",
      "source": [
        "# Define the values of beta0 and beta1\n",
        "beta0 = torch.tensor(1.0, requires_grad=True)\n",
        "beta1 = torch.tensor(0.5, requires_grad=True)\n",
        "\n",
        "# Calculate the square loss using MY_data1\n",
        "loss = torch.sum((MY_data1[:, 1] - (beta0 + beta1 * MY_data1[:, 0]))**2)\n",
        "\n",
        "# Compute the gradient\n",
        "loss.backward()\n",
        "\n",
        "# The gradients are stored in beta0.grad and beta1.grad\n",
        "grad_beta0 = beta0.grad.item()\n",
        "grad_beta1 = beta1.grad.item()\n",
        "\n",
        "print(grad_beta0)\n",
        "print(grad_beta1)"
      ],
      "metadata": {
        "colab": {
          "base_uri": "https://localhost:8080/"
        },
        "id": "Xc49OQsGbes9",
        "outputId": "04c658f2-6aea-4043-ecef-a089d79f2fc8"
      },
      "id": "Xc49OQsGbes9",
      "execution_count": null,
      "outputs": [
        {
          "output_type": "stream",
          "name": "stdout",
          "text": [
            "94.57958984375\n",
            "-159.60577392578125\n"
          ]
        }
      ]
    },
    {
      "cell_type": "markdown",
      "source": [
        "5. Concatenate $X$ and $Y$ to make $MY\\_data2$ of shape $[20,2]$. (Use the reshape if necessary) Then, calculate grad $g$ at $(\\beta_0, \\beta_1)=(1.0, 0.5)$ using autograd. (Caution: your answer should be the same as in 2.)"
      ],
      "metadata": {
        "id": "ydwNH0zP1VzB"
      },
      "id": "ydwNH0zP1VzB"
    },
    {
      "cell_type": "code",
      "source": [
        "# Concatenate X and Y to create MY_data2\n",
        "MY_data2 = torch.cat((X.unsqueeze(1), Y.unsqueeze(1)), dim=1)\n",
        "MY_data2"
      ],
      "metadata": {
        "colab": {
          "base_uri": "https://localhost:8080/"
        },
        "id": "PhDlKVExjF1H",
        "outputId": "98d89c1e-aa3c-4930-c2fe-1faa3009f4f2"
      },
      "id": "PhDlKVExjF1H",
      "execution_count": null,
      "outputs": [
        {
          "output_type": "execute_result",
          "data": {
            "text/plain": [
              "tensor([[-3.0000e+00, -7.1452e+00],\n",
              "        [-2.7000e+00, -5.4253e+00],\n",
              "        [-2.4000e+00, -5.1977e+00],\n",
              "        [-2.1000e+00, -3.6225e+00],\n",
              "        [-1.8000e+00, -3.8022e+00],\n",
              "        [-1.5000e+00, -4.4101e+00],\n",
              "        [-1.2000e+00, -4.6622e+00],\n",
              "        [-9.0000e-01, -3.1932e+00],\n",
              "        [-6.0000e-01, -1.7325e+00],\n",
              "        [-3.0000e-01, -1.8879e+00],\n",
              "        [-2.3842e-08, -1.0742e+00],\n",
              "        [ 3.0000e-01, -2.3200e-01],\n",
              "        [ 6.0000e-01,  1.8226e+00],\n",
              "        [ 9.0000e-01,  1.5453e+00],\n",
              "        [ 1.2000e+00, -1.5535e+00],\n",
              "        [ 1.5000e+00,  8.8570e-01],\n",
              "        [ 1.8000e+00,  1.7537e+00],\n",
              "        [ 2.1000e+00,  3.1607e+00],\n",
              "        [ 2.4000e+00,  1.8912e+00],\n",
              "        [ 2.7000e+00,  4.0895e+00]])"
            ]
          },
          "metadata": {},
          "execution_count": 60
        }
      ]
    },
    {
      "cell_type": "code",
      "source": [
        "# Define the values of beta0 and beta1\n",
        "beta0 = torch.tensor(1.0, requires_grad=True)\n",
        "beta1 = torch.tensor(0.5, requires_grad=True)\n",
        "\n",
        "# Calculate the square loss using MY_data2\n",
        "loss = torch.sum((MY_data2[:, 1] - (beta0 + beta1 * MY_data2[:, 0]))**2)\n",
        "\n",
        "# Compute the gradient\n",
        "loss.backward()\n",
        "\n",
        "# The gradients are stored in beta0.grad and beta1.grad\n",
        "grad_beta0 = beta0.grad.item()\n",
        "grad_beta1 = beta1.grad.item()\n",
        "\n",
        "print(grad_beta0)\n",
        "print(grad_beta1)"
      ],
      "metadata": {
        "colab": {
          "base_uri": "https://localhost:8080/"
        },
        "id": "7s0Ajjlp1irF",
        "outputId": "291af89d-b0ef-40f3-b2b5-855212ed25b0"
      },
      "id": "7s0Ajjlp1irF",
      "execution_count": null,
      "outputs": [
        {
          "output_type": "stream",
          "name": "stdout",
          "text": [
            "94.57958984375\n",
            "-159.60577392578125\n"
          ]
        }
      ]
    },
    {
      "cell_type": "markdown",
      "source": [
        "## Problem 2:\n",
        "\n",
        "You are given\n",
        "\n",
        "$f(x)=x^3-3x^2+4$\n",
        "\n",
        "Answer the following questions.\n",
        "\n",
        "1. Draw the graph of $(x,f(x))$ for $x\\in [-5, 5]$.\n",
        "\n",
        "\n"
      ],
      "metadata": {
        "id": "slWy4oJhDtD-"
      },
      "id": "slWy4oJhDtD-"
    },
    {
      "cell_type": "code",
      "source": [
        "# Define the function f(x)\n",
        "def f(x):\n",
        "    return x**3 - 3*x**2 + 4\n",
        "\n",
        "# Generate x values in the range [-5, 5]\n",
        "x = torch.linspace(-5, 5, 100)\n",
        "# calculate f(x)\n",
        "y = f(x)\n",
        "\n",
        "# Plot the graph of f(x)\n",
        "plt.figure(figsize=(8, 6))\n",
        "plt.plot(x.numpy(), y.numpy(), label='f(x) = x^3 - 3x^2 + 4')\n",
        "plt.xlabel('x')\n",
        "plt.ylabel('f(x)')\n",
        "plt.title('Graph of f(x)')\n",
        "plt.legend()\n",
        "plt.show()"
      ],
      "metadata": {
        "id": "ea3ywnhlEH1Q",
        "colab": {
          "base_uri": "https://localhost:8080/",
          "height": 564
        },
        "outputId": "4ef9e620-b61e-4321-a417-c392b249ad6d"
      },
      "id": "ea3ywnhlEH1Q",
      "execution_count": null,
      "outputs": [
        {
          "output_type": "display_data",
          "data": {
            "text/plain": [
              "<Figure size 800x600 with 1 Axes>"
            ],
            "image/png": "[encoded data removed]"
          },
          "metadata": {}
        }
      ]
    },
    {
      "cell_type": "markdown",
      "source": [
        "2. Draw the graph of $(x,f^{\\prime}(x))$ for $x\\in [-5, 5]$ using augograd in torch.\n"
      ],
      "metadata": {
        "id": "vn2Agjwj13OT"
      },
      "id": "vn2Agjwj13OT"
    },
    {
      "cell_type": "code",
      "source": [
        "# Define the function f(x)\n",
        "def f(x):\n",
        "    return x**3 - 3*x**2 + 4\n",
        "\n",
        "# Generate x values in the range [-5, 5]\n",
        "x = torch.linspace(-5, 5, 100)\n",
        "x.requires_grad = True  # Enable gradients for x\n",
        "\n",
        "# Calculate f(x)\n",
        "y = f(x)\n",
        "\n",
        "# Calculate the gradient of the sum of f(x) with respect to x\n",
        "grad_f = autograd.grad(torch.sum(y), x, create_graph=True)[0]\n",
        "\n",
        "# Plot the graph of f'(x)\n",
        "plt.figure(figsize=(8, 6))\n",
        "plt.plot(x.detach().numpy(), grad_f.detach().numpy(), label=\"f'(x)\")\n",
        "plt.xlabel('x')\n",
        "plt.ylabel(\"f'(x)\")\n",
        "plt.title(\"Graph of f'(x)\")\n",
        "plt.legend()\n",
        "plt.show()\n"
      ],
      "metadata": {
        "colab": {
          "base_uri": "https://localhost:8080/",
          "height": 564
        },
        "id": "9h2fSY962SwO",
        "outputId": "eb889252-8416-426d-9dd1-6c5f8fe6b239"
      },
      "id": "9h2fSY962SwO",
      "execution_count": null,
      "outputs": [
        {
          "output_type": "display_data",
          "data": {
            "text/plain": [
              "<Figure size 800x600 with 1 Axes>"
            ],
            "image/png": "[encoded data removed]"
          },
          "metadata": {}
        }
      ]
    }
  ]
}