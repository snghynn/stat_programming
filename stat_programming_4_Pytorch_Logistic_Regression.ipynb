{
  "nbformat": 4,
  "nbformat_minor": 5,
  "metadata": {
    "accelerator": "GPU",
    "colab": {
      "provenance": [],
      "machine_shape": "hm",
      "include_colab_link": true
    },
    "kernelspec": {
      "name": "python3",
      "display_name": "Python 3"
    },
    "language_info": {
      "name": "python"
    }
  },
  "cells": [
    {
      "cell_type": "markdown",
      "metadata": {
        "id": "view-in-github",
        "colab_type": "text"
      },
      "source": [
        "<a href=\"https://colab.research.google.com/github/snghynn/stat_programming/blob/main/stat_programming_4_Logistic_Regression_Pytorch.ipynb\" target=\"_parent\"><img src=\"https://colab.research.google.com/assets/colab-badge.svg\" alt=\"Open In Colab\"/></a>"
      ]
    },
    {
      "cell_type": "markdown",
      "metadata": {
        "id": "3oSL_cLemi3d"
      },
      "source": [
        "\n",
        "\n",
        "# 1. Logistic regression with Pytorch\n",
        "## 1.1 Preparation of data\n",
        "\n",
        "Here, we will build binary logistic regression models with Python that will predict whether a breast cancer tumor is malignant or benign (malignant or benign will be our response variable). We will use the Breast Cancer Wisconsin (Diagnostic) Data Set available from sklearn.datasets."
      ],
      "id": "3oSL_cLemi3d"
    },
    {
      "cell_type": "code",
      "source": [
        "import torch\n",
        "import numpy as np\n",
        "import matplotlib.pyplot as plt\n",
        "from torch.utils.data import Dataset, DataLoader, TensorDataset"
      ],
      "metadata": {
        "id": "vwhtGsc8vscl"
      },
      "id": "vwhtGsc8vscl",
      "execution_count": null,
      "outputs": []
    },
    {
      "cell_type": "markdown",
      "source": [
        "We can import this data as follows:"
      ],
      "metadata": {
        "id": "z3cX2nHwwB6M"
      },
      "id": "z3cX2nHwwB6M"
    },
    {
      "cell_type": "code",
      "source": [
        "from sklearn.datasets import load_breast_cancer\n",
        "cancer1 = load_breast_cancer()"
      ],
      "metadata": {
        "id": "Oqj8XjaKRU7W"
      },
      "id": "Oqj8XjaKRU7W",
      "execution_count": null,
      "outputs": []
    },
    {
      "cell_type": "code",
      "source": [
        "print(\"Predictors: \", cancer1.feature_names)"
      ],
      "metadata": {
        "colab": {
          "base_uri": "https://localhost:8080/"
        },
        "id": "FyJ1no3wwIvW",
        "outputId": "0ce10268-3770-4697-8954-0af544e4d806"
      },
      "id": "FyJ1no3wwIvW",
      "execution_count": null,
      "outputs": [
        {
          "output_type": "stream",
          "name": "stdout",
          "text": [
            "Predictors:  ['mean radius' 'mean texture' 'mean perimeter' 'mean area'\n",
            " 'mean smoothness' 'mean compactness' 'mean concavity'\n",
            " 'mean concave points' 'mean symmetry' 'mean fractal dimension'\n",
            " 'radius error' 'texture error' 'perimeter error' 'area error'\n",
            " 'smoothness error' 'compactness error' 'concavity error'\n",
            " 'concave points error' 'symmetry error' 'fractal dimension error'\n",
            " 'worst radius' 'worst texture' 'worst perimeter' 'worst area'\n",
            " 'worst smoothness' 'worst compactness' 'worst concavity'\n",
            " 'worst concave points' 'worst symmetry' 'worst fractal dimension']\n"
          ]
        }
      ]
    },
    {
      "cell_type": "code",
      "source": [
        "print(\"\\nResponse: \", cancer1.target_names)  # target name이 양성/악성으로 구성됨"
      ],
      "metadata": {
        "colab": {
          "base_uri": "https://localhost:8080/"
        },
        "id": "gLYGiypQwJZ5",
        "outputId": "a76ebda2-6d04-4e9d-9110-2d3531030861"
      },
      "id": "gLYGiypQwJZ5",
      "execution_count": null,
      "outputs": [
        {
          "output_type": "stream",
          "name": "stdout",
          "text": [
            "\n",
            "Response:  ['malignant' 'benign']\n"
          ]
        }
      ]
    },
    {
      "cell_type": "markdown",
      "source": [
        "Here we can see that there are 30 predictors available in our dataset that can be used in our logistic regression models.\n",
        "\n",
        "Purely for convenience, we convert this sklearn.utils.Bunch object to a pandas.DataFrame as pandas DataFrames are a very commonly used data structure. We then use the shape property to see it has 569 rows and 30 columns."
      ],
      "metadata": {
        "id": "EvDv1Rd6wGsz"
      },
      "id": "EvDv1Rd6wGsz"
    },
    {
      "cell_type": "code",
      "metadata": {
        "id": "u0z0v8tJ1yE8",
        "colab": {
          "base_uri": "https://localhost:8080/"
        },
        "outputId": "90c2a9b0-e670-4b64-a440-96bf10e2ba1f"
      },
      "source": [
        "import pandas as pd\n",
        "\n",
        "cancer = pd.DataFrame(cancer1.data, columns=cancer1.feature_names)\n",
        "cancer.columns = cancer.columns.str.replace(' ','_')\n",
        "cancer.shape # 데이터가 569행, 30개의 특성으로 이루어짐"
      ],
      "id": "u0z0v8tJ1yE8",
      "execution_count": null,
      "outputs": [
        {
          "output_type": "execute_result",
          "data": {
            "text/plain": [
              "(569, 30)"
            ]
          },
          "metadata": {},
          "execution_count": 147
        }
      ]
    },
    {
      "cell_type": "code",
      "source": [
        "cancer1.target[:50] # 1 means malignant."
      ],
      "metadata": {
        "colab": {
          "base_uri": "https://localhost:8080/"
        },
        "id": "9oqgDfDaxJVG",
        "outputId": "26daf92d-02ac-4d51-e6b9-21d565c2caf0"
      },
      "id": "9oqgDfDaxJVG",
      "execution_count": null,
      "outputs": [
        {
          "output_type": "execute_result",
          "data": {
            "text/plain": [
              "array([0, 0, 0, 0, 0, 0, 0, 0, 0, 0, 0, 0, 0, 0, 0, 0, 0, 0, 0, 1, 1, 1,\n",
              "       0, 0, 0, 0, 0, 0, 0, 0, 0, 0, 0, 0, 0, 0, 0, 1, 0, 0, 0, 0, 0, 0,\n",
              "       0, 0, 1, 0, 1, 1])"
            ]
          },
          "metadata": {},
          "execution_count": 148
        }
      ]
    },
    {
      "cell_type": "code",
      "metadata": {
        "id": "48c5nTmhUg6c"
      },
      "source": [
        "X = torch.tensor(cancer.values, dtype=torch.float32)\n",
        "X_mean = torch.mean(X, axis=0)\n",
        "X_std = torch.std(X, axis=0)\n",
        "XX = (X-X_mean)/X_std\n",
        "n=XX.shape[0]\n",
        "Y = torch.tensor(cancer1.target, dtype=torch.float32).reshape([n,1])\n",
        "\n",
        "dataset = TensorDataset(XX,Y)\n",
        "trainloader = DataLoader(dataset=dataset, batch_size=32, shuffle=True)"
      ],
      "id": "48c5nTmhUg6c",
      "execution_count": null,
      "outputs": []
    },
    {
      "cell_type": "code",
      "source": [
        "torch.manual_seed(2023)\n",
        "train_size = int(0.7 * len(dataset))\n",
        "test_size = len(dataset) - train_size\n",
        "train_dataset, test_dataset = torch.utils.data.random_split(dataset, [train_size, test_size])\n",
        "\n",
        "trainloader = DataLoader(dataset=train_dataset, batch_size=train_size, shuffle=True)\n",
        "testloader = DataLoader(dataset=test_dataset, batch_size=test_size, shuffle=True)"
      ],
      "metadata": {
        "id": "n6y2rVQMj4Jl"
      },
      "id": "n6y2rVQMj4Jl",
      "execution_count": null,
      "outputs": []
    },
    {
      "cell_type": "markdown",
      "source": [
        "Exercise 1:\n",
        "\n",
        "Using the data above, we want to build the logistic regression model to predict whether the tumor is malignant or benign. Answer the following questions.\n",
        "\n",
        "1. Train the model.\n"
      ],
      "metadata": {
        "id": "shI2BpsBygeI"
      },
      "id": "shI2BpsBygeI"
    },
    {
      "cell_type": "code",
      "source": [
        "# 로지스틱 회귀 모델 정의\n",
        "def logistic_regression(input_size):\n",
        "    model = torch.nn.Sequential(\n",
        "        torch.nn.Linear(input_size, 1),\n",
        "        torch.nn.Sigmoid()  # 이진 분류를 위해 시그모이드 활성화 함수 적용\n",
        "    )\n",
        "    return model\n",
        "\n",
        "\n",
        "# 비용 함수 정의\n",
        "def criterion(phat, y):\n",
        "    neg_loglik = - torch.mean(y * torch.log(phat) + (1-y)* torch.log(1-phat) )\n",
        "    return neg_loglik\n",
        "\n",
        "model = logistic_regression(X.shape[1])  # 데이터셋의 입력 크기를 기반으로 로지스틱 회귀 모델 생성\n",
        "criterion = torch.nn.BCELoss()   # 이진 교차 엔트로피 손실 정의\n",
        "my_optim = torch.optim.SGD(model.parameters(), lr=0.01)  # SGD 사용한 optimizer 정의"
      ],
      "metadata": {
        "id": "bMGNPLgR2Dws"
      },
      "id": "bMGNPLgR2Dws",
      "execution_count": null,
      "outputs": []
    },
    {
      "cell_type": "code",
      "source": [
        "# model 훈련\n",
        "epochs = 1000\n",
        "history = []\n",
        "\n",
        "for _ in range(epochs):\n",
        "    loss_sum = 0\n",
        "    for xx, yy in trainloader:\n",
        "        yhat = model(xx)\n",
        "        loss = criterion(yhat, yy)\n",
        "        loss_sum += loss.item() * len(yy)\n",
        "        loss.backward()\n",
        "        my_optim.step()\n",
        "        my_optim.zero_grad()\n",
        "    history.append(loss_sum / len(dataset))"
      ],
      "metadata": {
        "id": "-o_UI0JHTOSg"
      },
      "id": "-o_UI0JHTOSg",
      "execution_count": null,
      "outputs": []
    },
    {
      "cell_type": "code",
      "source": [
        "plt.plot(history)"
      ],
      "metadata": {
        "colab": {
          "base_uri": "https://localhost:8080/",
          "height": 449
        },
        "id": "hDDLPFK0TQwH",
        "outputId": "68bc7e3f-1681-449e-80f7-7d4e02874ddd"
      },
      "id": "hDDLPFK0TQwH",
      "execution_count": null,
      "outputs": [
        {
          "output_type": "execute_result",
          "data": {
            "text/plain": [
              "[<matplotlib.lines.Line2D at 0x7d4e7b653460>]"
            ]
          },
          "metadata": {},
          "execution_count": 153
        },
        {
          "output_type": "display_data",
          "data": {
            "text/plain": [
              "<Figure size 640x480 with 1 Axes>"
            ],
            "image/png": "[encoded data removed]"
          },
          "metadata": {}
        }
      ]
    },
    {
      "cell_type": "markdown",
      "source": [
        "\n",
        "2. You want to predict the probability of malignant for the first person `X[0, ]`. Calculate the probability of malignant for the first person.\n"
      ],
      "metadata": {
        "id": "fNvSPW79RAtB"
      },
      "id": "fNvSPW79RAtB"
    },
    {
      "cell_type": "code",
      "source": [
        "X0_stand = (X - X_mean)/ X_std  # 정규화된 값을 X0_stand에 넣기"
      ],
      "metadata": {
        "id": "-j3BVoRzllE1"
      },
      "id": "-j3BVoRzllE1",
      "execution_count": null,
      "outputs": []
    },
    {
      "cell_type": "code",
      "source": [
        "model.state_dict() # model 학습에 weight가 잘 들어가있나 확인"
      ],
      "metadata": {
        "colab": {
          "base_uri": "https://localhost:8080/"
        },
        "id": "8U_ZczmjllCA",
        "outputId": "cfeb90b8-beb6-4980-e9f5-89327c7c89cc"
      },
      "id": "8U_ZczmjllCA",
      "execution_count": null,
      "outputs": [
        {
          "output_type": "execute_result",
          "data": {
            "text/plain": [
              "OrderedDict([('0.weight',\n",
              "              tensor([[-0.3057, -0.3408, -0.2994, -0.3061, -0.2438, -0.2822, -0.2862, -0.3088,\n",
              "                        0.0149,  0.2368, -0.4926, -0.0425, -0.2717, -0.2543, -0.0245,  0.0730,\n",
              "                        0.1567, -0.0208,  0.1096,  0.1543, -0.5784, -0.3465, -0.5340, -0.3178,\n",
              "                       -0.2001, -0.2034, -0.2029, -0.5197, -0.3944, -0.1966]])),\n",
              "             ('0.bias', tensor([0.2516]))])"
            ]
          },
          "metadata": {},
          "execution_count": 155
        }
      ]
    },
    {
      "cell_type": "code",
      "source": [
        "model(X0_stand)[0]  # X0_stand 중에서 첫번째 값들을 빼오기: 첫번째 사람에 대한 예측확률 알기"
      ],
      "metadata": {
        "colab": {
          "base_uri": "https://localhost:8080/"
        },
        "id": "25Mm7onElk_I",
        "outputId": "df595126-e572-401f-b1bc-6036c824bc5c"
      },
      "id": "25Mm7onElk_I",
      "execution_count": null,
      "outputs": [
        {
          "output_type": "execute_result",
          "data": {
            "text/plain": [
              "tensor([1.9657e-05], grad_fn=<SelectBackward0>)"
            ]
          },
          "metadata": {},
          "execution_count": 156
        }
      ]
    },
    {
      "cell_type": "markdown",
      "source": [
        "\n",
        "  \n",
        "3. Consider the first person whose mean_radius has shurunked from `17.990000` to `5.00000`. What is the probability of malignant.\n",
        "\n"
      ],
      "metadata": {
        "id": "Sbcn8c-bzsTE"
      },
      "id": "Sbcn8c-bzsTE"
    },
    {
      "cell_type": "code",
      "source": [
        "X[0,:]"
      ],
      "metadata": {
        "colab": {
          "base_uri": "https://localhost:8080/"
        },
        "id": "TSppMDedqRBW",
        "outputId": "807a1d2c-8d75-481c-e670-5d5b7399e10a"
      },
      "id": "TSppMDedqRBW",
      "execution_count": null,
      "outputs": [
        {
          "output_type": "execute_result",
          "data": {
            "text/plain": [
              "tensor([1.7990e+01, 1.0380e+01, 1.2280e+02, 1.0010e+03, 1.1840e-01, 2.7760e-01,\n",
              "        3.0010e-01, 1.4710e-01, 2.4190e-01, 7.8710e-02, 1.0950e+00, 9.0530e-01,\n",
              "        8.5890e+00, 1.5340e+02, 6.3990e-03, 4.9040e-02, 5.3730e-02, 1.5870e-02,\n",
              "        3.0030e-02, 6.1930e-03, 2.5380e+01, 1.7330e+01, 1.8460e+02, 2.0190e+03,\n",
              "        1.6220e-01, 6.6560e-01, 7.1190e-01, 2.6540e-01, 4.6010e-01, 1.1890e-01])"
            ]
          },
          "metadata": {},
          "execution_count": 157
        }
      ]
    },
    {
      "cell_type": "code",
      "source": [
        "# 첫 번째 사람에 대한 조정된 mean_radius를 가진 새로운 feature tensor 생성\n",
        "adjusted_mean_radius = torch.tensor(5.0, dtype=torch.float32).reshape(1, 1)\n",
        "\n",
        "# 첫 번째 사람에 대한 원래의 feature 데이터 가져오고 mean_radius를 조정된 값으로 대체\n",
        "X_adjusted = X[0, :].clone()\n",
        "X_adjusted[0] = adjusted_mean_radius\n",
        "\n",
        "X_adjusted"
      ],
      "metadata": {
        "colab": {
          "base_uri": "https://localhost:8080/"
        },
        "id": "hlMJHt5AqTe_",
        "outputId": "067a1b6f-e3d1-4076-a982-e34ed5ef17a1"
      },
      "id": "hlMJHt5AqTe_",
      "execution_count": null,
      "outputs": [
        {
          "output_type": "execute_result",
          "data": {
            "text/plain": [
              "tensor([5.0000e+00, 1.0380e+01, 1.2280e+02, 1.0010e+03, 1.1840e-01, 2.7760e-01,\n",
              "        3.0010e-01, 1.4710e-01, 2.4190e-01, 7.8710e-02, 1.0950e+00, 9.0530e-01,\n",
              "        8.5890e+00, 1.5340e+02, 6.3990e-03, 4.9040e-02, 5.3730e-02, 1.5870e-02,\n",
              "        3.0030e-02, 6.1930e-03, 2.5380e+01, 1.7330e+01, 1.8460e+02, 2.0190e+03,\n",
              "        1.6220e-01, 6.6560e-01, 7.1190e-01, 2.6540e-01, 4.6010e-01, 1.1890e-01])"
            ]
          },
          "metadata": {},
          "execution_count": 158
        }
      ]
    },
    {
      "cell_type": "code",
      "source": [
        "# 조정된 feature 데이터를 PyTorch tensor로 변환\n",
        "X0_new = (X_adjusted-X_mean)/X_std\n",
        "# 모델을 사용하여 예측 수행\n",
        "model(X0_new)"
      ],
      "metadata": {
        "colab": {
          "base_uri": "https://localhost:8080/"
        },
        "id": "Z9nDgustRFVG",
        "outputId": "120ba42e-41e9-42b4-f7c0-0dca1151616e"
      },
      "id": "Z9nDgustRFVG",
      "execution_count": null,
      "outputs": [
        {
          "output_type": "execute_result",
          "data": {
            "text/plain": [
              "tensor([6.0666e-05], grad_fn=<SigmoidBackward0>)"
            ]
          },
          "metadata": {},
          "execution_count": 159
        }
      ]
    },
    {
      "cell_type": "markdown",
      "source": [
        "4. Calculate the Test accuracy."
      ],
      "metadata": {
        "id": "fvpK5tSOREC1"
      },
      "id": "fvpK5tSOREC1"
    },
    {
      "cell_type": "code",
      "source": [
        "# 변수 초기화\n",
        "correct_predictions = 0\n",
        "total_examples = 0\n",
        "\n",
        "model.eval() # 모델을 평가 모드로 설정\n",
        "\n",
        "# 테스트 데이터셋을 반복\n",
        "with torch.no_grad():\n",
        "    for xx, yy in test_dataset:\n",
        "        phat = model(xx) # 모델을 사용하여 예측 수행\n",
        "\n",
        "        # 예측을 이진 (0 또는 1)으로 변환\n",
        "        predicted_class = (phat >= 0.5).float()\n",
        "\n",
        "        # 예측 업데이트\n",
        "        correct_predictions += (predicted_class == yy).sum().item()\n",
        "        total_examples += len(yy)\n",
        "\n",
        "# test accuracy 계산\n",
        "test_accuracy = correct_predictions / total_examples\n",
        "print(test_accuracy)"
      ],
      "metadata": {
        "colab": {
          "base_uri": "https://localhost:8080/"
        },
        "id": "3vNWmBM9REtM",
        "outputId": "634f0076-bec8-424f-b81a-e07a93de9dec"
      },
      "id": "3vNWmBM9REtM",
      "execution_count": null,
      "outputs": [
        {
          "output_type": "stream",
          "name": "stdout",
          "text": [
            "0.9883040935672515\n"
          ]
        }
      ]
    },
    {
      "cell_type": "markdown",
      "source": [
        "# 2. Poisson regression with Pytorch\n",
        "## 2.1 Preparation of data"
      ],
      "metadata": {
        "id": "7Iyy4yJ3UOYP"
      },
      "id": "7Iyy4yJ3UOYP"
    },
    {
      "cell_type": "code",
      "metadata": {
        "id": "EZNN4iLB76Bk",
        "colab": {
          "base_uri": "https://localhost:8080/",
          "height": 206
        },
        "outputId": "da6e0b3d-9991-43a0-b4bb-87f1af6bd976"
      },
      "source": [
        "df = pd.read_csv(r\"competition_awards_data.csv\",  sep = ',', header= 0 )\n",
        "df.head()"
      ],
      "id": "EZNN4iLB76Bk",
      "execution_count": null,
      "outputs": [
        {
          "output_type": "execute_result",
          "data": {
            "text/plain": [
              "   Awards  Math Score\n",
              "0       0          43\n",
              "1       0          38\n",
              "2       0          41\n",
              "3       0          33\n",
              "4       0          39"
            ],
            "text/html": [
              "\n",
              "  <div id=\"df-0e6ca015-991f-4501-b491-343d1e91d4f1\" class=\"colab-df-container\">\n",
              "    <div>\n",
              "<style scoped>\n",
              "    .dataframe tbody tr th:only-of-type {\n",
              "        vertical-align: middle;\n",
              "    }\n",
              "\n",
              "    .dataframe tbody tr th {\n",
              "        vertical-align: top;\n",
              "    }\n",
              "\n",
              "    .dataframe thead th {\n",
              "        text-align: right;\n",
              "    }\n",
              "</style>\n",
              "<table border=\"1\" class=\"dataframe\">\n",
              "  <thead>\n",
              "    <tr style=\"text-align: right;\">\n",
              "      <th></th>\n",
              "      <th>Awards</th>\n",
              "      <th>Math Score</th>\n",
              "    </tr>\n",
              "  </thead>\n",
              "  <tbody>\n",
              "    <tr>\n",
              "      <th>0</th>\n",
              "      <td>0</td>\n",
              "      <td>43</td>\n",
              "    </tr>\n",
              "    <tr>\n",
              "      <th>1</th>\n",
              "      <td>0</td>\n",
              "      <td>38</td>\n",
              "    </tr>\n",
              "    <tr>\n",
              "      <th>2</th>\n",
              "      <td>0</td>\n",
              "      <td>41</td>\n",
              "    </tr>\n",
              "    <tr>\n",
              "      <th>3</th>\n",
              "      <td>0</td>\n",
              "      <td>33</td>\n",
              "    </tr>\n",
              "    <tr>\n",
              "      <th>4</th>\n",
              "      <td>0</td>\n",
              "      <td>39</td>\n",
              "    </tr>\n",
              "  </tbody>\n",
              "</table>\n",
              "</div>\n",
              "    <div class=\"colab-df-buttons\">\n",
              "\n",
              "  <div class=\"colab-df-container\">\n",
              "    <button class=\"colab-df-convert\" onclick=\"convertToInteractive('df-0e6ca015-991f-4501-b491-343d1e91d4f1')\"\n",
              "            title=\"Convert this dataframe to an interactive table.\"\n",
              "            style=\"display:none;\">\n",
              "\n",
              "  <svg xmlns=\"http://www.w3.org/2000/svg\" height=\"24px\" viewBox=\"0 -960 960 960\">\n",
              "    <path d=\"M120-120v-720h720v720H120Zm60-500h600v-160H180v160Zm220 220h160v-160H400v160Zm0 220h160v-160H400v160ZM180-400h160v-160H180v160Zm440 0h160v-160H620v160ZM180-180h160v-160H180v160Zm440 0h160v-160H620v160Z\"/>\n",
              "  </svg>\n",
              "    </button>\n",
              "\n",
              "  <style>\n",
              "    .colab-df-container {\n",
              "      display:flex;\n",
              "      gap: 12px;\n",
              "    }\n",
              "\n",
              "    .colab-df-convert {\n",
              "      background-color: #E8F0FE;\n",
              "      border: none;\n",
              "      border-radius: 50%;\n",
              "      cursor: pointer;\n",
              "      display: none;\n",
              "      fill: #1967D2;\n",
              "      height: 32px;\n",
              "      padding: 0 0 0 0;\n",
              "      width: 32px;\n",
              "    }\n",
              "\n",
              "    .colab-df-convert:hover {\n",
              "      background-color: #E2EBFA;\n",
              "      box-shadow: 0px 1px 2px rgba(60, 64, 67, 0.3), 0px 1px 3px 1px rgba(60, 64, 67, 0.15);\n",
              "      fill: #174EA6;\n",
              "    }\n",
              "\n",
              "    .colab-df-buttons div {\n",
              "      margin-bottom: 4px;\n",
              "    }\n",
              "\n",
              "    [theme=dark] .colab-df-convert {\n",
              "      background-color: #3B4455;\n",
              "      fill: #D2E3FC;\n",
              "    }\n",
              "\n",
              "    [theme=dark] .colab-df-convert:hover {\n",
              "      background-color: #434B5C;\n",
              "      box-shadow: 0px 1px 3px 1px rgba(0, 0, 0, 0.15);\n",
              "      filter: drop-shadow(0px 1px 2px rgba(0, 0, 0, 0.3));\n",
              "      fill: #FFFFFF;\n",
              "    }\n",
              "  </style>\n",
              "\n",
              "    <script>\n",
              "      const buttonEl =\n",
              "        document.querySelector('#df-0e6ca015-991f-4501-b491-343d1e91d4f1 button.colab-df-convert');\n",
              "      buttonEl.style.display =\n",
              "        google.colab.kernel.accessAllowed ? 'block' : 'none';\n",
              "\n",
              "      async function convertToInteractive(key) {\n",
              "        const element = document.querySelector('#df-0e6ca015-991f-4501-b491-343d1e91d4f1');\n",
              "        const dataTable =\n",
              "          await google.colab.kernel.invokeFunction('convertToInteractive',\n",
              "                                                    [key], {});\n",
              "        if (!dataTable) return;\n",
              "\n",
              "        const docLinkHtml = 'Like what you see? Visit the ' +\n",
              "          '<a target=\"_blank\" href=https://colab.research.google.com/notebooks/data_table.ipynb>data table notebook</a>'\n",
              "          + ' to learn more about interactive tables.';\n",
              "        element.innerHTML = '';\n",
              "        dataTable['output_type'] = 'display_data';\n",
              "        await google.colab.output.renderOutput(dataTable, element);\n",
              "        const docLink = document.createElement('div');\n",
              "        docLink.innerHTML = docLinkHtml;\n",
              "        element.appendChild(docLink);\n",
              "      }\n",
              "    </script>\n",
              "  </div>\n",
              "\n",
              "\n",
              "<div id=\"df-4f4604b9-eb12-40a9-865e-68f660e5e62d\">\n",
              "  <button class=\"colab-df-quickchart\" onclick=\"quickchart('df-4f4604b9-eb12-40a9-865e-68f660e5e62d')\"\n",
              "            title=\"Suggest charts\"\n",
              "            style=\"display:none;\">\n",
              "\n",
              "<svg xmlns=\"http://www.w3.org/2000/svg\" height=\"24px\"viewBox=\"0 0 24 24\"\n",
              "     width=\"24px\">\n",
              "    <g>\n",
              "        <path d=\"M19 3H5c-1.1 0-2 .9-2 2v14c0 1.1.9 2 2 2h14c1.1 0 2-.9 2-2V5c0-1.1-.9-2-2-2zM9 17H7v-7h2v7zm4 0h-2V7h2v10zm4 0h-2v-4h2v4z\"/>\n",
              "    </g>\n",
              "</svg>\n",
              "  </button>\n",
              "\n",
              "<style>\n",
              "  .colab-df-quickchart {\n",
              "      --bg-color: #E8F0FE;\n",
              "      --fill-color: #1967D2;\n",
              "      --hover-bg-color: #E2EBFA;\n",
              "      --hover-fill-color: #174EA6;\n",
              "      --disabled-fill-color: #AAA;\n",
              "      --disabled-bg-color: #DDD;\n",
              "  }\n",
              "\n",
              "  [theme=dark] .colab-df-quickchart {\n",
              "      --bg-color: #3B4455;\n",
              "      --fill-color: #D2E3FC;\n",
              "      --hover-bg-color: #434B5C;\n",
              "      --hover-fill-color: #FFFFFF;\n",
              "      --disabled-bg-color: #3B4455;\n",
              "      --disabled-fill-color: #666;\n",
              "  }\n",
              "\n",
              "  .colab-df-quickchart {\n",
              "    background-color: var(--bg-color);\n",
              "    border: none;\n",
              "    border-radius: 50%;\n",
              "    cursor: pointer;\n",
              "    display: none;\n",
              "    fill: var(--fill-color);\n",
              "    height: 32px;\n",
              "    padding: 0;\n",
              "    width: 32px;\n",
              "  }\n",
              "\n",
              "  .colab-df-quickchart:hover {\n",
              "    background-color: var(--hover-bg-color);\n",
              "    box-shadow: 0 1px 2px rgba(60, 64, 67, 0.3), 0 1px 3px 1px rgba(60, 64, 67, 0.15);\n",
              "    fill: var(--button-hover-fill-color);\n",
              "  }\n",
              "\n",
              "  .colab-df-quickchart-complete:disabled,\n",
              "  .colab-df-quickchart-complete:disabled:hover {\n",
              "    background-color: var(--disabled-bg-color);\n",
              "    fill: var(--disabled-fill-color);\n",
              "    box-shadow: none;\n",
              "  }\n",
              "\n",
              "  .colab-df-spinner {\n",
              "    border: 2px solid var(--fill-color);\n",
              "    border-color: transparent;\n",
              "    border-bottom-color: var(--fill-color);\n",
              "    animation:\n",
              "      spin 1s steps(1) infinite;\n",
              "  }\n",
              "\n",
              "  @keyframes spin {\n",
              "    0% {\n",
              "      border-color: transparent;\n",
              "      border-bottom-color: var(--fill-color);\n",
              "      border-left-color: var(--fill-color);\n",
              "    }\n",
              "    20% {\n",
              "      border-color: transparent;\n",
              "      border-left-color: var(--fill-color);\n",
              "      border-top-color: var(--fill-color);\n",
              "    }\n",
              "    30% {\n",
              "      border-color: transparent;\n",
              "      border-left-color: var(--fill-color);\n",
              "      border-top-color: var(--fill-color);\n",
              "      border-right-color: var(--fill-color);\n",
              "    }\n",
              "    40% {\n",
              "      border-color: transparent;\n",
              "      border-right-color: var(--fill-color);\n",
              "      border-top-color: var(--fill-color);\n",
              "    }\n",
              "    60% {\n",
              "      border-color: transparent;\n",
              "      border-right-color: var(--fill-color);\n",
              "    }\n",
              "    80% {\n",
              "      border-color: transparent;\n",
              "      border-right-color: var(--fill-color);\n",
              "      border-bottom-color: var(--fill-color);\n",
              "    }\n",
              "    90% {\n",
              "      border-color: transparent;\n",
              "      border-bottom-color: var(--fill-color);\n",
              "    }\n",
              "  }\n",
              "</style>\n",
              "\n",
              "  <script>\n",
              "    async function quickchart(key) {\n",
              "      const quickchartButtonEl =\n",
              "        document.querySelector('#' + key + ' button');\n",
              "      quickchartButtonEl.disabled = true;  // To prevent multiple clicks.\n",
              "      quickchartButtonEl.classList.add('colab-df-spinner');\n",
              "      try {\n",
              "        const charts = await google.colab.kernel.invokeFunction(\n",
              "            'suggestCharts', [key], {});\n",
              "      } catch (error) {\n",
              "        console.error('Error during call to suggestCharts:', error);\n",
              "      }\n",
              "      quickchartButtonEl.classList.remove('colab-df-spinner');\n",
              "      quickchartButtonEl.classList.add('colab-df-quickchart-complete');\n",
              "    }\n",
              "    (() => {\n",
              "      let quickchartButtonEl =\n",
              "        document.querySelector('#df-4f4604b9-eb12-40a9-865e-68f660e5e62d button');\n",
              "      quickchartButtonEl.style.display =\n",
              "        google.colab.kernel.accessAllowed ? 'block' : 'none';\n",
              "    })();\n",
              "  </script>\n",
              "</div>\n",
              "    </div>\n",
              "  </div>\n"
            ]
          },
          "metadata": {},
          "execution_count": 161
        }
      ]
    },
    {
      "cell_type": "code",
      "metadata": {
        "id": "Ti_1BSxn5PUw"
      },
      "source": [
        "x = torch.tensor(df['Math Score'].values, dtype=torch.float32)\n",
        "n = len(x)\n",
        "\n",
        "x_mean = torch.mean(x)\n",
        "x_std = torch.std(x)\n",
        "xx = (x-x_mean)/x_std\n",
        "\n",
        "y = df['Awards'].values\n",
        "\n",
        "ones = torch.ones([n])\n",
        "X = torch.stack([ones, xx], axis=1)\n",
        "Y = torch.tensor(y.reshape([n,1]), dtype=torch.float32)\n",
        "\n",
        "dataset2 = TensorDataset(X,Y)\n",
        "trainloader2 = DataLoader(dataset=dataset2, batch_size=32, shuffle=True)"
      ],
      "id": "Ti_1BSxn5PUw",
      "execution_count": null,
      "outputs": []
    },
    {
      "cell_type": "code",
      "source": [
        "torch.manual_seed(2023)\n",
        "train_size = int(0.7 * len(dataset2)) # 70%는 train data\n",
        "test_size = len(dataset2) - train_size # 30%는 test data\n",
        "train_dataset2, test_dataset2 = torch.utils.data.random_split(dataset2, [train_size, test_size])\n",
        "\n",
        "trainloader2 = DataLoader(dataset=train_dataset2, batch_size=32, shuffle=True)\n",
        "testloader2 = DataLoader(dataset=test_dataset2, batch_size=test_size, shuffle=True)"
      ],
      "metadata": {
        "id": "8siOru4BkNvX"
      },
      "execution_count": null,
      "outputs": [],
      "id": "8siOru4BkNvX"
    },
    {
      "cell_type": "markdown",
      "source": [
        "Exercise 2:\n",
        "\n",
        "Using the data above, we want to build the poisson regression model to predict the number of awards.\n",
        "\n",
        "Model 1\n",
        "```\n",
        "Awards ~ exp(beta0 + beta1 * MathScore)\n",
        "```\n",
        "\n",
        "\n",
        "\n"
      ],
      "metadata": {
        "id": "9Czwsv5yjv7p"
      },
      "id": "9Czwsv5yjv7p"
    },
    {
      "cell_type": "markdown",
      "source": [
        "Answer the following questions.\n",
        "\n",
        "1. Train the model."
      ],
      "metadata": {
        "id": "Ow08UmJHt1qP"
      },
      "id": "Ow08UmJHt1qP"
    },
    {
      "cell_type": "code",
      "source": [
        "# model 생성\n",
        "def model2(xx):\n",
        "    temp = torch.exp(xx @ beta2)\n",
        "    return temp\n",
        "\n",
        "# loss를 위한 criterion 생성\n",
        "def criterion(yhat, yy):\n",
        "    loglik = -torch.mean(-yhat + yy*torch.log(yhat)-torch.lgamma(yy+1))\n",
        "    return loglik"
      ],
      "metadata": {
        "id": "OUldaJ28t0w7"
      },
      "id": "OUldaJ28t0w7",
      "execution_count": null,
      "outputs": []
    },
    {
      "cell_type": "code",
      "source": [
        "# 학습을 위한 beta 초기값 부여\n",
        "beta2 = torch.tensor(torch.randn([2,1])*0.01, requires_grad = True)\n",
        "\n",
        "# 학습 parameter 업데이트를 위한 optimizer 이용\n",
        "my_optimizer = torch.optim.SGD([beta2], lr=0.01)"
      ],
      "metadata": {
        "colab": {
          "base_uri": "https://localhost:8080/"
        },
        "id": "cpBP_df-tqlJ",
        "outputId": "27efc462-ca69-4f2f-f4f2-ccc773f81073"
      },
      "id": "cpBP_df-tqlJ",
      "execution_count": null,
      "outputs": [
        {
          "output_type": "stream",
          "name": "stderr",
          "text": [
            "<ipython-input-165-3363b48de874>:2: UserWarning: To copy construct from a tensor, it is recommended to use sourceTensor.clone().detach() or sourceTensor.clone().detach().requires_grad_(True), rather than torch.tensor(sourceTensor).\n",
            "  beta2 = torch.tensor(torch.randn([2,1])*0.01, requires_grad = True)\n"
          ]
        }
      ]
    },
    {
      "cell_type": "code",
      "source": [
        "n = len(X)\n",
        "epochs = 1000\n",
        "history = []\n",
        "\n",
        "for _ in range(epochs):\n",
        "    Loss = 0\n",
        "\n",
        "    for xx, yy in trainloader2:\n",
        "        yhat = model2(xx)\n",
        "        loss = criterion(yhat, yy)\n",
        "        Loss = Loss + loss * len(yy)\n",
        "        loss.backward()\n",
        "\n",
        "        my_optimizer.step()\n",
        "        my_optimizer.zero_grad()\n",
        "\n",
        "    history.append(Loss.item()/n)"
      ],
      "metadata": {
        "id": "_ka0oGuiuAQN"
      },
      "id": "_ka0oGuiuAQN",
      "execution_count": null,
      "outputs": []
    },
    {
      "cell_type": "code",
      "source": [
        "plt.plot(history)"
      ],
      "metadata": {
        "colab": {
          "base_uri": "https://localhost:8080/",
          "height": 449
        },
        "id": "Sreq9-ZTuAND",
        "outputId": "e3e4f19a-2264-4ec5-ccb5-bf04d4e798c9"
      },
      "id": "Sreq9-ZTuAND",
      "execution_count": null,
      "outputs": [
        {
          "output_type": "execute_result",
          "data": {
            "text/plain": [
              "[<matplotlib.lines.Line2D at 0x7d4e7b588af0>]"
            ]
          },
          "metadata": {},
          "execution_count": 167
        },
        {
          "output_type": "display_data",
          "data": {
            "text/plain": [
              "<Figure size 640x480 with 1 Axes>"
            ],
            "image/png": "[encoded data removed]"
          },
          "metadata": {}
        }
      ]
    },
    {
      "cell_type": "markdown",
      "source": [
        "2. You want to predict the number of awards for a person having `Math Score = 47`. Calculated the predicted number of awards for this person.\n",
        "\n"
      ],
      "metadata": {
        "id": "tSVtSnHdtq6t"
      },
      "id": "tSVtSnHdtq6t"
    },
    {
      "cell_type": "code",
      "source": [
        "# 수학 점수가 47일 때의 표준화된 점수 계산\n",
        "math_score = 47\n",
        "std_math = (math_score - df['Math Score'].mean())/ df['Math Score'].std()\n",
        "# 모델을 사용하여 예측 수행\n",
        "model2(torch.tensor([1,std_math]).to(torch.float32))"
      ],
      "metadata": {
        "colab": {
          "base_uri": "https://localhost:8080/"
        },
        "id": "YDmoqkxqttg6",
        "outputId": "866bf001-fea4-49ae-afb9-a84cec76e6ed"
      },
      "id": "YDmoqkxqttg6",
      "execution_count": null,
      "outputs": [
        {
          "output_type": "execute_result",
          "data": {
            "text/plain": [
              "tensor([0.1562], grad_fn=<ExpBackward0>)"
            ]
          },
          "metadata": {},
          "execution_count": 168
        }
      ]
    },
    {
      "cell_type": "markdown",
      "source": [
        "You are also considering the following model\n",
        "\n",
        "Model 2\n",
        "```\n",
        "Awards ~ exp(beta0 + beta1 * MathScore + beta2 * MathScore**2)\n",
        "```\n",
        "\n"
      ],
      "metadata": {
        "id": "vI-H9Al_ttyw"
      },
      "id": "vI-H9Al_ttyw"
    },
    {
      "cell_type": "markdown",
      "source": [
        "3. Calculate the Test MSE for each model. Which model is better in terms of Test MSE?"
      ],
      "metadata": {
        "id": "avGUaBDltvlM"
      },
      "id": "avGUaBDltvlM"
    },
    {
      "cell_type": "code",
      "source": [
        "X_new = torch.concat([X,(X[:,1]**2).reshape(-1,1)], axis = 1)\n",
        "Y = torch.tensor(y.reshape([n,1]), dtype=torch.float32)\n",
        "dataset3 = TensorDataset(X_new,Y)\n",
        "\n",
        "# 데이터 split\n",
        "torch.manual_seed(2023)\n",
        "train_size = int(0.7 * len(dataset3))\n",
        "test_size = len(dataset3) - train_size\n",
        "train_dataset3, test_dataset3 = torch.utils.data.random_split(dataset3, [train_size, test_size])\n",
        "\n",
        "trainloader3 = DataLoader(dataset=train_dataset3, batch_size=32, shuffle=True)\n",
        "testloader3 = DataLoader(dataset=test_dataset3, batch_size=test_size, shuffle=True)"
      ],
      "metadata": {
        "id": "pCetEIrQxRq_"
      },
      "id": "pCetEIrQxRq_",
      "execution_count": null,
      "outputs": []
    },
    {
      "cell_type": "code",
      "source": [
        "# model 생성\n",
        "def model3(xx):\n",
        "    temp = torch.exp(xx @ beta3)\n",
        "    return temp\n",
        "\n",
        "# loss를 위한 criterion 생성\n",
        "def criterion(yhat, yy):\n",
        "    loglik = -torch.mean(-yhat + yy*torch.log(yhat)-torch.lgamma(yy+1))\n",
        "    return loglik\n",
        "# 학습을 위한 beta 초기값 부여\n",
        "beta3 = torch.tensor(torch.randn([3,1])*0.01, requires_grad = True)\n",
        "\n",
        "# 학습 parameter 업데이트를 위한 optimizer 이용\n",
        "my_optimizer = torch.optim.SGD([beta3], lr=0.01)"
      ],
      "metadata": {
        "colab": {
          "base_uri": "https://localhost:8080/"
        },
        "id": "Sz8kw0zLy247",
        "outputId": "ec784b50-e08a-4f58-f0b7-740b2a716ba3"
      },
      "id": "Sz8kw0zLy247",
      "execution_count": null,
      "outputs": [
        {
          "output_type": "stream",
          "name": "stderr",
          "text": [
            "<ipython-input-170-22593d748734>:11: UserWarning: To copy construct from a tensor, it is recommended to use sourceTensor.clone().detach() or sourceTensor.clone().detach().requires_grad_(True), rather than torch.tensor(sourceTensor).\n",
            "  beta3 = torch.tensor(torch.randn([3,1])*0.01, requires_grad = True)\n"
          ]
        }
      ]
    },
    {
      "cell_type": "code",
      "source": [
        "n = len(X)\n",
        "epochs = 1000\n",
        "history = []\n",
        "\n",
        "for _ in range(epochs):\n",
        "    Loss = 0\n",
        "\n",
        "    for xx, yy in trainloader3:\n",
        "        yhat = model3(xx)\n",
        "        loss = criterion(yhat, yy)\n",
        "        Loss = Loss + loss * len(yy)\n",
        "        loss.backward()\n",
        "\n",
        "        my_optimizer.step()\n",
        "        my_optimizer.zero_grad()\n",
        "\n",
        "    history.append(Loss.item()/n)"
      ],
      "metadata": {
        "id": "U2gwDE1_xjkh"
      },
      "id": "U2gwDE1_xjkh",
      "execution_count": null,
      "outputs": []
    },
    {
      "cell_type": "code",
      "source": [
        "plt.plot(history)"
      ],
      "metadata": {
        "colab": {
          "base_uri": "https://localhost:8080/",
          "height": 449
        },
        "id": "p_Ld7WEtyyLC",
        "outputId": "44610658-5463-4b92-88c2-213c89b30c78"
      },
      "id": "p_Ld7WEtyyLC",
      "execution_count": null,
      "outputs": [
        {
          "output_type": "execute_result",
          "data": {
            "text/plain": [
              "[<matplotlib.lines.Line2D at 0x7d4e7b40c100>]"
            ]
          },
          "metadata": {},
          "execution_count": 172
        },
        {
          "output_type": "display_data",
          "data": {
            "text/plain": [
              "<Figure size 640x480 with 1 Axes>"
            ],
            "image/png": "[encoded data removed]"
          },
          "metadata": {}
        }
      ]
    },
    {
      "cell_type": "code",
      "source": [
        "for X,Y  in testloader2:\n",
        "    Yhat = model2(X)\n",
        "criterion(Yhat, Y)"
      ],
      "metadata": {
        "colab": {
          "base_uri": "https://localhost:8080/"
        },
        "id": "M6c9SKr_yyHI",
        "outputId": "65aa53f9-0739-4967-b84f-965b61a5a990"
      },
      "id": "M6c9SKr_yyHI",
      "execution_count": null,
      "outputs": [
        {
          "output_type": "execute_result",
          "data": {
            "text/plain": [
              "tensor(0.5635, grad_fn=<NegBackward0>)"
            ]
          },
          "metadata": {},
          "execution_count": 173
        }
      ]
    },
    {
      "cell_type": "code",
      "source": [
        "for X,Y  in testloader3:\n",
        "    Yhat = model3(X)\n",
        "criterion(Yhat, Y)"
      ],
      "metadata": {
        "colab": {
          "base_uri": "https://localhost:8080/"
        },
        "id": "lhotOzqVy7lj",
        "outputId": "6d24e243-8fcd-4c5c-82e9-fc52e3afce9c"
      },
      "id": "lhotOzqVy7lj",
      "execution_count": null,
      "outputs": [
        {
          "output_type": "execute_result",
          "data": {
            "text/plain": [
              "tensor(0.5269, grad_fn=<NegBackward0>)"
            ]
          },
          "metadata": {},
          "execution_count": 174
        }
      ]
    },
    {
      "cell_type": "markdown",
      "source": [
        "이 값이 작을수록 더 잘 적합이 된 것이므로, 이차식이 포함된 model3가 더 잘 적합되었음을 알 수 있다."
      ],
      "metadata": {
        "id": "h57bfxif3s77"
      },
      "id": "h57bfxif3s77"
    }
  ]
}
