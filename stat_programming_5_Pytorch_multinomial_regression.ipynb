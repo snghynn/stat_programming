{
  "cells": [
    {
      "cell_type": "markdown",
      "metadata": {
        "id": "view-in-github",
        "colab_type": "text"
      },
      "source": [
        "<a href=\"https://colab.research.google.com/github/snghynn/stat_programming/blob/main/stat_programming_5_Pytorch_multinomial_regression.ipynb\" target=\"_parent\"><img src=\"https://colab.research.google.com/assets/colab-badge.svg\" alt=\"Open In Colab\"/></a>"
      ]
    },
    {
      "cell_type": "markdown",
      "metadata": {
        "id": "a2wB8GZWTAtV"
      },
      "source": [
        "## Exercise 2.3.4 Revisiting Iris data\n",
        "\n",
        "We use `train_loader` to train the model, and use `test_loader` to calculate the test accuracy. Use the following code to train the model, and calculate the test accuracy. In this case, you need to define your own loss function to calculate cross-entropy function from `q_hat` and `tt`.\n",
        "```\n",
        "z_model = nn.Linear(784, 10, bias=True)\n",
        "```\n",
        "and\n",
        "```\n",
        "for xx, tt in train_loader:\n",
        "  zhat = z_model(xx)\n",
        "  q_hat = torch.softmax()\n",
        "```"
      ],
      "id": "a2wB8GZWTAtV"
    },
    {
      "cell_type": "code",
      "execution_count": null,
      "metadata": {
        "id": "8Zd2aaIt940a"
      },
      "outputs": [],
      "source": [
        "import torch\n",
        "import torch.nn as nn\n",
        "import torch.optim as optim\n",
        "import torch.nn.functional as F\n",
        "from torch.utils.data import DataLoader, Dataset, TensorDataset\n",
        "from torchvision import datasets, transforms\n",
        "import matplotlib.pyplot as plt\n",
        "\n",
        "from sklearn.datasets import load_iris\n",
        "from sklearn.model_selection import train_test_split"
      ],
      "id": "8Zd2aaIt940a"
    },
    {
      "cell_type": "code",
      "execution_count": null,
      "metadata": {
        "colab": {
          "base_uri": "https://localhost:8080/"
        },
        "id": "RI3HJEkO94yR",
        "outputId": "80068621-94e5-44f7-c2f3-9177e9deec2d"
      },
      "outputs": [
        {
          "output_type": "stream",
          "name": "stdout",
          "text": [
            "Downloading http://yann.lecun.com/exdb/mnist/train-images-idx3-ubyte.gz\n",
            "Downloading http://yann.lecun.com/exdb/mnist/train-images-idx3-ubyte.gz to ./data/MNIST/raw/train-images-idx3-ubyte.gz\n"
          ]
        },
        {
          "output_type": "stream",
          "name": "stderr",
          "text": [
            "100%|██████████| 9912422/9912422 [00:00<00:00, 113848042.49it/s]\n"
          ]
        },
        {
          "output_type": "stream",
          "name": "stdout",
          "text": [
            "Extracting ./data/MNIST/raw/train-images-idx3-ubyte.gz to ./data/MNIST/raw\n",
            "\n",
            "Downloading http://yann.lecun.com/exdb/mnist/train-labels-idx1-ubyte.gz\n",
            "Downloading http://yann.lecun.com/exdb/mnist/train-labels-idx1-ubyte.gz to ./data/MNIST/raw/train-labels-idx1-ubyte.gz\n"
          ]
        },
        {
          "output_type": "stream",
          "name": "stderr",
          "text": [
            "100%|██████████| 28881/28881 [00:00<00:00, 116476628.68it/s]\n"
          ]
        },
        {
          "output_type": "stream",
          "name": "stdout",
          "text": [
            "Extracting ./data/MNIST/raw/train-labels-idx1-ubyte.gz to ./data/MNIST/raw\n",
            "\n",
            "Downloading http://yann.lecun.com/exdb/mnist/t10k-images-idx3-ubyte.gz\n",
            "Downloading http://yann.lecun.com/exdb/mnist/t10k-images-idx3-ubyte.gz to ./data/MNIST/raw/t10k-images-idx3-ubyte.gz\n"
          ]
        },
        {
          "output_type": "stream",
          "name": "stderr",
          "text": [
            "100%|██████████| 1648877/1648877 [00:00<00:00, 26219997.41it/s]\n"
          ]
        },
        {
          "output_type": "stream",
          "name": "stdout",
          "text": [
            "Extracting ./data/MNIST/raw/t10k-images-idx3-ubyte.gz to ./data/MNIST/raw\n",
            "\n",
            "Downloading http://yann.lecun.com/exdb/mnist/t10k-labels-idx1-ubyte.gz\n",
            "Downloading http://yann.lecun.com/exdb/mnist/t10k-labels-idx1-ubyte.gz to ./data/MNIST/raw/t10k-labels-idx1-ubyte.gz\n"
          ]
        },
        {
          "output_type": "stream",
          "name": "stderr",
          "text": [
            "100%|██████████| 4542/4542 [00:00<00:00, 21477484.52it/s]\n"
          ]
        },
        {
          "output_type": "stream",
          "name": "stdout",
          "text": [
            "Extracting ./data/MNIST/raw/t10k-labels-idx1-ubyte.gz to ./data/MNIST/raw\n",
            "\n"
          ]
        }
      ],
      "source": [
        "# Define a transform to normalize the data\n",
        "transform = transforms.Compose([transforms.ToTensor(), transforms.Normalize((0.5,), (0.5,))])\n",
        "\n",
        "# Download and load the training data\n",
        "train_dataset = datasets.MNIST(root='./data', train=True, download=True, transform=transform)\n",
        "train_loader = DataLoader(train_dataset, batch_size=64, shuffle=True)\n",
        "\n",
        "# Download and load the test data\n",
        "test_dataset = datasets.MNIST(root='./data', train=False, download=True, transform=transform)\n",
        "test_loader = DataLoader(test_dataset, batch_size=64, shuffle=False)"
      ],
      "id": "RI3HJEkO94yR"
    },
    {
      "cell_type": "code",
      "execution_count": null,
      "metadata": {
        "colab": {
          "base_uri": "https://localhost:8080/"
        },
        "id": "02siB_VxCpf6",
        "outputId": "ef9b8788-b08c-4828-b54e-f4d3fb612e17"
      },
      "outputs": [
        {
          "output_type": "stream",
          "name": "stderr",
          "text": [
            "<ipython-input-27-ccb42b473c42>:5: UserWarning: To copy construct from a tensor, it is recommended to use sourceTensor.clone().detach() or sourceTensor.clone().detach().requires_grad_(True), rather than torch.tensor(sourceTensor).\n",
            "  t = torch.nn.functional.one_hot(torch.tensor(y, dtype=torch.int64), num_classes=3)\n",
            "<ipython-input-27-ccb42b473c42>:6: UserWarning: To copy construct from a tensor, it is recommended to use sourceTensor.clone().detach() or sourceTensor.clone().detach().requires_grad_(True), rather than torch.tensor(sourceTensor).\n",
            "  t = torch.tensor(t, dtype=torch.float32)\n"
          ]
        }
      ],
      "source": [
        "iris = load_iris()\n",
        "\n",
        "X = torch.tensor(iris.data, dtype=torch.float32)\n",
        "y = torch.tensor(iris.target, dtype=torch.long)\n",
        "t = torch.nn.functional.one_hot(torch.tensor(y, dtype=torch.int64), num_classes=3)\n",
        "t = torch.tensor(t, dtype=torch.float32)"
      ],
      "id": "02siB_VxCpf6"
    },
    {
      "cell_type": "code",
      "execution_count": null,
      "metadata": {
        "id": "9HJWwM04539J"
      },
      "outputs": [],
      "source": [
        "# Normalize the data\n",
        "X = (X-torch.mean(X,dim=0))/torch.std(X, dim=0)\n",
        "\n",
        "# Split the dataset\n",
        "X_train, X_val, t_train, t_val = train_test_split(X, t, test_size=0.2, random_state=42)\n",
        "\n",
        "# create Pytorch Datasets\n",
        "train_dataset = TensorDataset(X_train, t_train)\n",
        "val_dataset = TensorDataset(X_val, t_val)"
      ],
      "id": "9HJWwM04539J"
    },
    {
      "cell_type": "code",
      "execution_count": null,
      "metadata": {
        "id": "VayliSL957Rv"
      },
      "outputs": [],
      "source": [
        "# Define the dataloaders\n",
        "train_loader = DataLoader(train_dataset, batch_size=16, shuffle=True)\n",
        "test_loader = DataLoader(val_dataset, batch_size=16, shuffle=True)"
      ],
      "id": "VayliSL957Rv"
    },
    {
      "cell_type": "code",
      "execution_count": null,
      "metadata": {
        "id": "db1hmVgZ6XR5"
      },
      "outputs": [],
      "source": [
        "# modeling\n",
        "\n",
        "def myloss(q_hat, tt):\n",
        "  loss = -torch.mean(torch.sum(tt*torch.log(qhat), axis=1))\n",
        "  return loss"
      ],
      "id": "db1hmVgZ6XR5"
    },
    {
      "cell_type": "code",
      "execution_count": null,
      "metadata": {
        "colab": {
          "base_uri": "https://localhost:8080/",
          "height": 450
        },
        "id": "mwFE1qpqARgM",
        "outputId": "87104cf6-a8f9-4670-ad23-a347ea034998"
      },
      "outputs": [
        {
          "output_type": "execute_result",
          "data": {
            "text/plain": [
              "[<matplotlib.lines.Line2D at 0x7cbe03a6af50>]"
            ]
          },
          "metadata": {},
          "execution_count": 35
        },
        {
          "output_type": "display_data",
          "data": {
            "text/plain": [
              "<Figure size 640x480 with 1 Axes>"
            ],
            "image/png": "[encoded data removed]"
          },
          "metadata": {}
        }
      ],
      "source": [
        "# linear model\n",
        "input_size = 4\n",
        "num_classes = 3\n",
        "z_model = nn.Linear(input_size,num_classes, bias=True)\n",
        "\n",
        "# optimizer\n",
        "optimizer = optim.SGD(z_model.parameters(), lr=0.01)\n",
        "\n",
        "epochs = 1000\n",
        "history = []\n",
        "for epoch in range(epochs):\n",
        "    LOSS = 0\n",
        "    for xx, tt in train_loader:\n",
        "        # Forward pass\n",
        "        zhat = z_model(xx)\n",
        "        q_hat = torch.softmax(zhat, dim=1)\n",
        "        # Compute the loss by using 'myloss' function\n",
        "        loss = myloss(q_hat, tt)\n",
        "        LOSS = LOSS+loss.item()*len(xx)\n",
        "        # Backward pass and optimization\n",
        "        optimizer.zero_grad()\n",
        "        loss.backward()\n",
        "        optimizer.step()\n",
        "    history.append(LOSS/X_train.shape[0])\n",
        "\n",
        "plt.plot(history)"
      ],
      "id": "mwFE1qpqARgM"
    },
    {
      "cell_type": "code",
      "execution_count": null,
      "metadata": {
        "id": "Ec-7-bJM-Tzs"
      },
      "outputs": [],
      "source": [
        "def myaccuracy(qhat, t):\n",
        "  yhat = torch.argmax(qhat, axis=1).to(torch.float32)\n",
        "  y = torch.argmax(t, axis=1).to(torch.float32)\n",
        "  accuracy = torch.sum((y==yhat).to(torch.float32))\n",
        "  return accuracy"
      ],
      "id": "Ec-7-bJM-Tzs"
    },
    {
      "cell_type": "code",
      "source": [
        "accuracy_sum = 0\n",
        "\n",
        "for xx, tt in test_loader:\n",
        "  zhat = z_model(xx)\n",
        "  qhat = torch.softmax(zhat, dim=1)\n",
        "  accuracy_sum += myaccuracy(qhat, tt).item()\n",
        "\n",
        "print(accuracy_sum/len(X_val))"
      ],
      "metadata": {
        "colab": {
          "base_uri": "https://localhost:8080/"
        },
        "id": "N3mG5SFozGK5",
        "outputId": "435b7b5b-8b93-475d-8a1e-450b2e6eb000"
      },
      "id": "N3mG5SFozGK5",
      "execution_count": null,
      "outputs": [
        {
          "output_type": "stream",
          "name": "stdout",
          "text": [
            "1.0\n"
          ]
        }
      ]
    },
    {
      "cell_type": "markdown",
      "source": [
        "> accuracy가 1에 수렴하는 결과를 보인다."
      ],
      "metadata": {
        "id": "DAhAGrYXzioB"
      },
      "id": "DAhAGrYXzioB"
    },
    {
      "cell_type": "markdown",
      "metadata": {
        "id": "6MMnjhQOPR-2"
      },
      "source": [
        "## Exercise 2.3.5: Fashion MNIST data (HW)"
      ],
      "id": "6MMnjhQOPR-2"
    },
    {
      "cell_type": "markdown",
      "metadata": {
        "id": "Q0wBOhSpRP6A"
      },
      "source": [
        "You are given the following fashion MNIST data. Do the multinomial regression so that the regression machine can determine the label from the images. Calculate the test accuracy. In the test dataset, identify at least 5 cases where your predictions are wrong, and explain why possibly they were mis-classified.\n",
        "\n",
        "1. the picture\n",
        "\n",
        "2. predicted label\n",
        "\n",
        "3. real label\n",
        "\n",
        "4. Explain the possible reason why your model is wrong in this case."
      ],
      "id": "Q0wBOhSpRP6A"
    },
    {
      "cell_type": "markdown",
      "metadata": {
        "id": "f0332X2pWmn0"
      },
      "source": [
        "Hint: Each training and test example is assigned to one of the following labels:\n",
        "\n",
        "0 T-shirt/top\n",
        "\n",
        "1 Trouser\n",
        "\n",
        "2 Pullover\n",
        "\n",
        "3 Dress\n",
        "\n",
        "4 Coat\n",
        "\n",
        "5 Sandal\n",
        "\n",
        "6 Shirt\n",
        "\n",
        "7 Sneaker\n",
        "\n",
        "8 Bag\n",
        "\n",
        "9 Ankle boot"
      ],
      "id": "f0332X2pWmn0"
    },
    {
      "cell_type": "code",
      "execution_count": null,
      "metadata": {
        "id": "E-OllAGT6pr-"
      },
      "outputs": [],
      "source": [
        "import torch\n",
        "from torch import nn, optim\n",
        "import torch.nn.functional as F\n",
        "from torch.utils.data import DataLoader\n",
        "from torchvision import datasets, transforms"
      ],
      "id": "E-OllAGT6pr-"
    },
    {
      "cell_type": "code",
      "execution_count": null,
      "metadata": {
        "id": "Y2dqyxnr6psU"
      },
      "outputs": [],
      "source": [
        "# transform to normalize the data\n",
        "transform = transforms.Compose([transforms.ToTensor(),\n",
        "                                transforms.Normalize((0.5,), (0.5,))])\n",
        "\n",
        "# Download and load the training data\n",
        "trainset = datasets.FashionMNIST('./data', download=True, train=True, transform=transform)\n",
        "train_loader = DataLoader(trainset, batch_size=64, shuffle=True)\n",
        "\n",
        "# Download and load the test data\n",
        "validationset = datasets.FashionMNIST('./data', download=True, train=False, transform=transform)\n",
        "test_loader = DataLoader(validationset, batch_size=64, shuffle=True)"
      ],
      "id": "Y2dqyxnr6psU"
    },
    {
      "cell_type": "code",
      "execution_count": null,
      "metadata": {
        "id": "fH_-sM1iXlj4"
      },
      "outputs": [],
      "source": [
        "xx, yy = trainset[0]"
      ],
      "id": "fH_-sM1iXlj4"
    },
    {
      "cell_type": "code",
      "execution_count": null,
      "metadata": {
        "colab": {
          "base_uri": "https://localhost:8080/",
          "height": 449
        },
        "id": "PEu4G4HsXug4",
        "outputId": "fe584570-ebce-4577-81e5-fc34334cae8b"
      },
      "outputs": [
        {
          "name": "stdout",
          "output_type": "stream",
          "text": [
            "Ankle boot\n"
          ]
        },
        {
          "data": {
            "image/png": "[encoded data removed]",
            "text/plain": [
              "<Figure size 640x480 with 1 Axes>"
            ]
          },
          "metadata": {},
          "output_type": "display_data"
        }
      ],
      "source": [
        "plt.imshow(xx.reshape(28,28))\n",
        "my_name = { 0: \"T-shirt/top\", 1: \"Trouser\",\n",
        "              2: \"Pullover\", 3: \"Dress\", 4: \"Coat\", 5: \"Sandal\", 6: \"Shirt\", 7: \"Sneaker\", 8: \"Bag\", 9: \"Ankle boot\"}\n",
        "print(my_name[yy])"
      ],
      "id": "PEu4G4HsXug4"
    },
    {
      "cell_type": "code",
      "execution_count": null,
      "metadata": {
        "id": "2svIHM_VEyTC"
      },
      "outputs": [],
      "source": [
        "def myloss(q_hat, tt):\n",
        "  loss = -torch.mean(torch.sum(tt*torch.log(qhat), axis=1))\n",
        "  return loss\n",
        "\n",
        "# linear model\n",
        "input_size = 28*28\n",
        "num_classes = 10\n",
        "z_model = nn.Linear(input_size,num_classes, bias=True)   # 4:parameter, 3:classes\n",
        "# optimizer\n",
        "optimizer = optim.SGD(z_model.parameters(), lr=0.01)"
      ],
      "id": "2svIHM_VEyTC"
    },
    {
      "cell_type": "code",
      "execution_count": null,
      "metadata": {
        "colab": {
          "background_save": true,
          "base_uri": "https://localhost:8080/"
        },
        "id": "yMACt_8LCmWB",
        "outputId": "dcf8aeb3-407e-4f11-8a4f-303e60096f2d"
      },
      "outputs": [
        {
          "name": "stderr",
          "output_type": "stream",
          "text": [
            "<ipython-input-62-c30abde60d75>:12: UserWarning: To copy construct from a tensor, it is recommended to use sourceTensor.clone().detach() or sourceTensor.clone().detach().requires_grad_(True), rather than torch.tensor(sourceTensor).\n",
            "  tt = torch.nn.functional.one_hot(torch.tensor(tt, dtype=torch.int64), num_classes=10)\n",
            "<ipython-input-62-c30abde60d75>:13: UserWarning: To copy construct from a tensor, it is recommended to use sourceTensor.clone().detach() or sourceTensor.clone().detach().requires_grad_(True), rather than torch.tensor(sourceTensor).\n",
            "  tt = torch.tensor(tt, dtype=torch.float32)\n"
          ]
        },
        {
          "data": {
            "text/plain": [
              "[<matplotlib.lines.Line2D at 0x7ece69a436d0>]"
            ]
          },
          "execution_count": 62,
          "metadata": {},
          "output_type": "execute_result"
        },
        {
          "data": {
            "image/png": "[encoded data removed]",
            "text/plain": [
              "<Figure size 640x480 with 1 Axes>"
            ]
          },
          "metadata": {},
          "output_type": "display_data"
        }
      ],
      "source": [
        "n = 60000\n",
        "epochs = 100\n",
        "history = []\n",
        "\n",
        "\n",
        "for epoch in range(epochs):\n",
        "    LOSS = 0\n",
        "    for xx, tt in train_loader:\n",
        "        # Forward pass\n",
        "        zhat = z_model(xx.reshape([-1, input_size]))\n",
        "        qhat = torch.softmax(zhat, dim=1)\n",
        "        tt = torch.nn.functional.one_hot(torch.tensor(tt, dtype=torch.int64), num_classes=10)\n",
        "        tt = torch.tensor(tt, dtype=torch.float32)\n",
        "        # Compute the loss by using 'myloss' function\n",
        "        loss = myloss(qhat, tt)\n",
        "        LOSS = LOSS+loss.item()*len(xx)\n",
        "\n",
        "        # Backward pass and optimization\n",
        "        optimizer.zero_grad()\n",
        "        loss.backward()\n",
        "        optimizer.step()\n",
        "    history.append(LOSS/n)\n",
        "\n",
        "plt.plot(history)"
      ],
      "id": "yMACt_8LCmWB"
    },
    {
      "cell_type": "code",
      "execution_count": null,
      "metadata": {
        "id": "vudruOnwF0qU"
      },
      "outputs": [],
      "source": [
        "# Function to evaluate the model on the test set\n",
        "def evaluate_model(model, test_loader):\n",
        "    model.eval()\n",
        "    correct = 0\n",
        "    total = 0\n",
        "\n",
        "    with torch.no_grad():\n",
        "        for inputs, labels in test_loader:\n",
        "            inputs = inputs.view(inputs.size(0), -1)\n",
        "            outputs = model(inputs)\n",
        "            _, predicted = torch.max(outputs.data, 1)\n",
        "            total += labels.size(0)\n",
        "            correct += (predicted == labels).sum().item()\n",
        "\n",
        "    accuracy = correct / total\n",
        "    return accuracy"
      ],
      "id": "vudruOnwF0qU"
    },
    {
      "cell_type": "code",
      "execution_count": null,
      "metadata": {
        "colab": {
          "base_uri": "https://localhost:8080/"
        },
        "id": "_sF8saT6FyIn",
        "outputId": "952d06ec-8773-4bef-ed3a-ce55a269b6a5"
      },
      "outputs": [
        {
          "output_type": "stream",
          "name": "stdout",
          "text": [
            "Test Accuracy: 0.8436\n"
          ]
        }
      ],
      "source": [
        "# Evaluate the model on the test set\n",
        "test_accuracy = evaluate_model(z_model, test_loader)\n",
        "print(f\"Test Accuracy: {test_accuracy}\")"
      ],
      "id": "_sF8saT6FyIn"
    },
    {
      "cell_type": "code",
      "execution_count": null,
      "metadata": {
        "id": "FfK691p5F6nx",
        "colab": {
          "base_uri": "https://localhost:8080/",
          "height": 1000
        },
        "outputId": "e7bb9b50-59db-4846-bc12-8a5ca915a390"
      },
      "outputs": [
        {
          "output_type": "display_data",
          "data": {
            "text/plain": [
              "<Figure size 640x480 with 1 Axes>"
            ],
            "image/png": "[encoded data removed]"
          },
          "metadata": {}
        },
        {
          "output_type": "stream",
          "name": "stdout",
          "text": [
            "** Case 1 **\n",
            "Predicted Label: 6, True Label: 2\n",
            "\n",
            "\n"
          ]
        },
        {
          "output_type": "display_data",
          "data": {
            "text/plain": [
              "<Figure size 640x480 with 1 Axes>"
            ],
            "image/png": "[encoded data removed]"
          },
          "metadata": {}
        },
        {
          "output_type": "stream",
          "name": "stdout",
          "text": [
            "** Case 2 **\n",
            "Predicted Label: 4, True Label: 2\n",
            "\n",
            "\n"
          ]
        },
        {
          "output_type": "display_data",
          "data": {
            "text/plain": [
              "<Figure size 640x480 with 1 Axes>"
            ],
            "image/png": "[encoded data removed]"
          },
          "metadata": {}
        },
        {
          "output_type": "stream",
          "name": "stdout",
          "text": [
            "** Case 3 **\n",
            "Predicted Label: 4, True Label: 2\n",
            "\n",
            "\n"
          ]
        },
        {
          "output_type": "display_data",
          "data": {
            "text/plain": [
              "<Figure size 640x480 with 1 Axes>"
            ],
            "image/png": "[encoded data removed]"
          },
          "metadata": {}
        },
        {
          "output_type": "stream",
          "name": "stdout",
          "text": [
            "** Case 4 **\n",
            "Predicted Label: 6, True Label: 8\n",
            "\n",
            "\n"
          ]
        },
        {
          "output_type": "display_data",
          "data": {
            "text/plain": [
              "<Figure size 640x480 with 1 Axes>"
            ],
            "image/png": "[encoded data removed]"
          },
          "metadata": {}
        },
        {
          "output_type": "stream",
          "name": "stdout",
          "text": [
            "** Case 5 **\n",
            "Predicted Label: 6, True Label: 2\n",
            "\n",
            "\n"
          ]
        }
      ],
      "source": [
        "# Function to identify misclassified cases and provide explanations\n",
        "def identify_misclassified(model, test_loader, num_cases=5):\n",
        "    model.eval()\n",
        "    misclassified_indices = []\n",
        "    predicted_labels = []\n",
        "    true_labels = []\n",
        "\n",
        "    with torch.no_grad():\n",
        "        for i, (inputs, labels) in enumerate(test_loader):\n",
        "            inputs = inputs.view(inputs.size(0), -1)\n",
        "            outputs = model(inputs)\n",
        "            _, predicted = torch.max(outputs.data, 1)\n",
        "\n",
        "            misclassified_mask = (predicted != labels)\n",
        "            misclassified_indices.extend(np.where(misclassified_mask)[0])\n",
        "            predicted_labels.extend(predicted[misclassified_mask].tolist())\n",
        "            true_labels.extend(labels[misclassified_mask].tolist())\n",
        "\n",
        "            if len(misclassified_indices) >= num_cases:\n",
        "                break\n",
        "\n",
        "    return misclassified_indices[:num_cases], predicted_labels[:num_cases], true_labels[:num_cases]\n",
        "\n",
        "# Identify misclassified cases and provide explanations\n",
        "misclassified_indices, predicted_labels, true_labels = identify_misclassified(z_model, test_loader, num_cases=5)\n",
        "\n",
        "# Visualize misclassified cases and explanations\n",
        "for i, index in enumerate(misclassified_indices):\n",
        "    xx, yy = validationset[index]\n",
        "    flattened_image = xx.view(1, -1)\n",
        "    output = z_model(flattened_image)\n",
        "    _, predicted_label = torch.max(output, 1)\n",
        "\n",
        "    # Visualize the misclassified image\n",
        "    plt.imshow(xx.squeeze(), cmap='gray')\n",
        "    plt.title(f\"Predicted: {predicted_label.item()}, True: {yy}\")\n",
        "    plt.show()\n",
        "\n",
        "    # Print explanations\n",
        "    print(f\"** Case {i + 1} **\")\n",
        "    print(f\"Predicted Label: {predicted_labels[i]}, True Label: {true_labels[i]}\")\n",
        "    print(\"\\n\")"
      ],
      "id": "FfK691p5F6nx"
    },
    {
      "cell_type": "markdown",
      "source": [
        "- case1: shirt와 pullover은 닮은 모양을 가진다\n",
        "- case2: pullover와 coat는 닮은 모양이다\n",
        "- case3: pullover와 coat는 닮은 모양이다\n",
        "- case4: 이미지가 선명하지 않다\n",
        "- case5: shirt와 pullover은 닮은 모양을 가진다"
      ],
      "metadata": {
        "id": "3HZ4j8Ks0PWU"
      },
      "id": "3HZ4j8Ks0PWU"
    }
  ],
  "metadata": {
    "accelerator": "GPU",
    "colab": {
      "machine_shape": "hm",
      "provenance": [],
      "include_colab_link": true
    },
    "kernelspec": {
      "display_name": "Python 3",
      "name": "python3"
    },
    "language_info": {
      "name": "python"
    }
  },
  "nbformat": 4,
  "nbformat_minor": 5
}